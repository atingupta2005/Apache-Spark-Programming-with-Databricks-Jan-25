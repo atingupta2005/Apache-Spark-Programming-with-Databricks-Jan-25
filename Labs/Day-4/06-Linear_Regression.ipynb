{
 "cells": [
  {
   "cell_type": "markdown",
   "metadata": {},
   "source": [
    "# Linear Regression using Pyspark"
   ]
  },
  {
   "cell_type": "code",
   "execution_count": 3,
   "metadata": {},
   "outputs": [],
   "source": [
    "from pathlib import Path\n",
    "home = \"dbfs:/mnt/data\""
   ]
  },
  {
   "cell_type": "code",
   "execution_count": 4,
   "metadata": {},
   "outputs": [],
   "source": [
    "#import Linear Regression from spark's MLlib\n",
    "from pyspark.ml.regression import LinearRegression"
   ]
  },
  {
   "cell_type": "code",
   "execution_count": 5,
   "metadata": {},
   "outputs": [],
   "source": [
    "df = spark.read.parquet(f\"{home}/data/10-processed-data.parquet\")\n"
   ]
  },
  {
   "cell_type": "code",
   "execution_count": 6,
   "metadata": {},
   "outputs": [
    {
     "data": {
      "text/plain": [
       "['Client_Education',\n",
       " 'Employed_Days',\n",
       " 'Age_Days',\n",
       " 'Client_Income_Type',\n",
       " 'Client_Gender',\n",
       " 'Car_Owned',\n",
       " 'ID_Days',\n",
       " 'Score_Source_2',\n",
       " 'Phone_Change',\n",
       " 'Default',\n",
       " 'Client_Education_index',\n",
       " 'Client_Income_Type_index',\n",
       " 'Client_Gender_index',\n",
       " 'Client_Education_index_OHE',\n",
       " 'Client_Income_Type_index_OHE',\n",
       " 'Client_Gender_index_OHE',\n",
       " 'features',\n",
       " 'features_scaled']"
      ]
     },
     "execution_count": 6,
     "metadata": {},
     "output_type": "execute_result"
    }
   ],
   "source": [
    "df.columns"
   ]
  },
  {
   "cell_type": "code",
   "execution_count": 7,
   "metadata": {},
   "outputs": [],
   "source": [
    "df = df.selectExpr(\"features_scaled as features\",\"Default\")"
   ]
  },
  {
   "cell_type": "code",
   "execution_count": 8,
   "metadata": {},
   "outputs": [
    {
     "name": "stdout",
     "output_type": "stream",
     "text": [
      "+-----------------------------------------------------------------------------------------------------------------------------------------------------------------------------------+-------+\n",
      "|features                                                                                                                                                                           |Default|\n",
      "+-----------------------------------------------------------------------------------------------------------------------------------------------------------------------------------+-------+\n",
      "|[0.0029076532609796767,0.35840228245363764,0.0,0.053216618035292484,0.0047878169393908475,0.015053763440860216,0.0,1.0,0.0,0.0,0.0,0.0,0.0,1.0,0.0,0.0,0.0,0.0,0.0,0.0,1.0,0.0,0.0]|0.0    |\n",
      "|[0.011304802556106483,0.37009985734664763,1.0,0.0029178824510212586,0.002150633517531676,0.22988627268703973,0.0,0.0,1.0,0.0,0.0,0.0,1.0,0.0,0.0,0.0,0.0,0.0,0.0,0.0,1.0,0.0,0.0]  |0.0    |\n",
      "|[0.013968782427041722,0.5200570613409415,0.0,0.04599138529943032,0.005527899996395,0.06618876941457587,0.0,0.0,0.0,1.0,0.0,0.0,1.0,0.0,0.0,0.0,0.0,0.0,0.0,0.0,1.0,0.0,0.0]        |0.0    |\n",
      "|[1.0,0.8855349500713267,0.0,0.10768375712102266,0.001351773437588672,0.4062126642771804,0.0,1.0,0.0,0.0,0.0,0.0,0.0,0.0,1.0,0.0,0.0,0.0,0.0,0.0,1.0,0.0,0.0]                       |0.0    |\n",
      "|[0.008150738001823444,0.21055634807417975,1.0,0.5617618452132833,0.003011769920588496,0.16105137395459976,0.0,1.0,0.0,0.0,0.0,0.0,0.0,1.0,0.0,0.0,0.0,0.0,0.0,0.0,0.0,1.0,0.0]     |0.0    |\n",
      "|[0.003241677458568679,0.35406562054208274,0.0,0.543281923023482,0.006979225968961298,0.17658303464755076,0.0,1.0,0.0,0.0,0.0,0.0,1.0,0.0,0.0,0.0,0.0,0.0,0.0,0.0,0.0,1.0,0.0]      |0.0    |\n",
      "|[1.0,0.778716119828816,1.0,0.6745866333194387,0.006025403641270181,0.0,0.0,1.0,0.0,0.0,0.0,0.0,0.0,0.0,1.0,0.0,0.0,0.0,0.0,0.0,1.0,0.0,0.0]                                        |0.0    |\n",
      "|[1.0,0.8454778887303852,0.0,0.7336390162567736,0.006575029308751465,0.4031063321385902,0.0,1.0,0.0,0.0,0.0,0.0,0.0,0.0,1.0,0.0,0.0,0.0,0.0,0.0,1.0,0.0,0.0]                        |0.0    |\n",
      "|[0.021599318809669178,0.47654339220741504,1.0,0.37029317771293596,0.006375885858794292,0.3849462365591398,0.0,0.0,1.0,0.0,0.0,0.0,0.0,1.0,0.0,0.0,0.0,0.0,0.0,0.0,0.0,1.0,0.0]     |0.0    |\n",
      "|[1.0,0.7321540656205421,0.0,0.563151313047103,6.333813116690656E-4,0.12735961768219833,0.0,1.0,0.0,0.0,0.0,0.0,0.0,0.0,1.0,0.0,0.0,0.0,0.0,0.0,1.0,0.0,0.0]                        |0.0    |\n",
      "|[0.006195875074950102,0.40741797432239657,0.0,0.6447130748923162,0.007703376905168845,0.42986857825567504,0.0,0.0,1.0,0.0,0.0,0.0,0.0,0.0,0.0,1.0,0.0,0.0,0.0,0.0,1.0,0.0,0.0]     |0.0    |\n",
      "|[0.0010102863025437858,0.20781740370898716,0.0,0.2994303181881339,0.00564747420237371,0.31851851851851853,0.0,0.0,1.0,0.0,0.0,0.0,1.0,0.0,0.0,0.0,0.0,0.0,0.0,0.0,1.0,0.0,0.0]     |0.0    |\n",
      "|[0.001065044367722311,0.13557774607703282,0.0,0.3677921356120606,0.0068410884220544204,0.0,0.0,1.0,0.0,0.0,0.0,0.0,1.0,0.0,0.0,0.0,0.0,0.0,0.0,0.0,0.0,1.0,0.0]                    |0.0    |\n",
      "|[1.0,0.7828815977175464,0.0,0.6379046825065999,0.005852911442645572,0.5945041816009558,0.0,1.0,0.0,0.0,0.0,0.0,0.0,0.0,1.0,0.0,0.0,0.0,0.0,0.0,1.0,0.0,0.0]                        |0.0    |\n",
      "|[0.0010212379155794908,0.7694151212553495,0.0,0.5727386411004586,0.005186358469317923,0.1813620071684588,0.0,1.0,0.0,0.0,0.0,0.0,1.0,0.0,0.0,0.0,0.0,0.0,0.0,0.0,1.0,0.0,0.0]      |0.0    |\n",
      "|[0.008383459778832175,0.4503281027104137,1.0,0.6584688064471308,0.002412262220613111,0.17037037037037037,0.0,1.0,0.0,0.0,0.0,0.0,0.0,1.0,0.0,0.0,0.0,0.0,0.0,0.0,0.0,1.0,0.0]      |0.0    |\n",
      "|[0.009508738018250864,0.27087018544935804,0.0,0.4515770459913853,0.006091147034557352,0.05806451612903226,0.0,1.0,0.0,0.0,0.0,0.0,1.0,0.0,0.0,0.0,0.0,0.0,0.0,0.0,1.0,0.0,0.0]     |0.0    |\n",
      "|[3.4223790736578115E-4,0.2823965763195435,1.0,0.41509948800620744,0.005523412626170631,0.48984468339307047,0.0,1.0,0.0,0.0,0.0,0.0,1.0,0.0,0.0,0.0,0.0,0.0,0.0,0.0,0.0,1.0,0.0]    |0.0    |\n",
      "|[0.009486834792179454,0.3914407988587732,0.0,0.36042795609281647,0.0012985605949280298,0.08124253285543608,0.0,1.0,0.0,0.0,0.0,0.0,1.0,0.0,0.0,0.0,0.0,0.0,0.0,0.0,0.0,1.0,0.0]    |0.0    |\n",
      "|[0.006855709760351328,0.47654339220741504,0.0,0.16548561900791997,0.004186250439312523,0.5873357228195938,0.0,1.0,0.0,0.0,0.0,0.0,1.0,0.0,0.0,0.0,0.0,0.0,0.0,0.0,1.0,0.0,0.0]     |0.0    |\n",
      "+-----------------------------------------------------------------------------------------------------------------------------------------------------------------------------------+-------+\n",
      "only showing top 20 rows\n",
      "\n"
     ]
    }
   ],
   "source": [
    "df.show(truncate=False)"
   ]
  },
  {
   "cell_type": "code",
   "execution_count": 9,
   "metadata": {},
   "outputs": [],
   "source": [
    "#split the data into 70/30 ratio for train test purpose\n",
    "train_df,test_df=df.randomSplit([0.7,0.3])"
   ]
  },
  {
   "cell_type": "markdown",
   "metadata": {},
   "source": [
    "## Build Linear Regression Model "
   ]
  },
  {
   "cell_type": "code",
   "execution_count": 10,
   "metadata": {},
   "outputs": [],
   "source": [
    "#Build Linear Regression model \n",
    "lin_Reg=LinearRegression(labelCol='Default')"
   ]
  },
  {
   "cell_type": "code",
   "execution_count": 11,
   "metadata": {},
   "outputs": [],
   "source": [
    "#fit the linear regression model on training data set \n",
    "lr_model=lin_Reg.fit(train_df)"
   ]
  },
  {
   "cell_type": "code",
   "execution_count": 12,
   "metadata": {},
   "outputs": [
    {
     "data": {
      "text/plain": [
       "0.0"
      ]
     },
     "execution_count": 12,
     "metadata": {},
     "output_type": "execute_result"
    }
   ],
   "source": [
    "lr_model.intercept"
   ]
  },
  {
   "cell_type": "code",
   "execution_count": 13,
   "metadata": {},
   "outputs": [
    {
     "name": "stdout",
     "output_type": "stream",
     "text": [
      "[0.0,0.0,0.0,0.0,0.0,0.0,1.0,0.0,0.0,0.0,0.0,0.0,0.0,0.0,0.0,0.0,0.0,0.0,0.0,0.0,0.0,0.0,0.0]\n"
     ]
    }
   ],
   "source": [
    "print(lr_model.coefficients)"
   ]
  },
  {
   "cell_type": "code",
   "execution_count": 14,
   "metadata": {},
   "outputs": [
    {
     "data": {
      "text/plain": [
       "DataFrame[features: vector, Default: double]"
      ]
     },
     "execution_count": 14,
     "metadata": {},
     "output_type": "execute_result"
    }
   ],
   "source": [
    "train_df"
   ]
  },
  {
   "cell_type": "code",
   "execution_count": 15,
   "metadata": {},
   "outputs": [],
   "source": [
    "training_predictions=lr_model.evaluate(train_df)"
   ]
  },
  {
   "cell_type": "code",
   "execution_count": 16,
   "metadata": {},
   "outputs": [
    {
     "data": {
      "text/plain": [
       "0.0"
      ]
     },
     "execution_count": 16,
     "metadata": {},
     "output_type": "execute_result"
    }
   ],
   "source": [
    "training_predictions.meanSquaredError"
   ]
  },
  {
   "cell_type": "code",
   "execution_count": 18,
   "metadata": {},
   "outputs": [],
   "source": [
    "#make predictions on test data \n",
    "test_results=lr_model.evaluate(test_df)"
   ]
  },
  {
   "cell_type": "code",
   "execution_count": 19,
   "metadata": {},
   "outputs": [
    {
     "name": "stdout",
     "output_type": "stream",
     "text": [
      "+---------+\n",
      "|residuals|\n",
      "+---------+\n",
      "|      0.0|\n",
      "|      0.0|\n",
      "|      0.0|\n",
      "|      0.0|\n",
      "|      0.0|\n",
      "|      0.0|\n",
      "|      0.0|\n",
      "|      0.0|\n",
      "|      0.0|\n",
      "|      0.0|\n",
      "+---------+\n",
      "only showing top 10 rows\n",
      "\n"
     ]
    }
   ],
   "source": [
    "#view the residual errors based on predictions \n",
    "test_results.residuals.show(10)"
   ]
  }
 ],
 "metadata": {
  "kernelspec": {
   "display_name": "Python 3",
   "language": "python",
   "name": "python3"
  },
  "language_info": {
   "codemirror_mode": {
    "name": "ipython",
    "version": 3
   },
   "file_extension": ".py",
   "mimetype": "text/x-python",
   "name": "python",
   "nbconvert_exporter": "python",
   "pygments_lexer": "ipython3",
   "version": "3.6.9"
  }
 },
 "nbformat": 4,
 "nbformat_minor": 2
}
