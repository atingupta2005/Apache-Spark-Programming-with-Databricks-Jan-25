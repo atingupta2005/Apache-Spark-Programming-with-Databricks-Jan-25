{
 "cells": [
  {
   "cell_type": "markdown",
   "metadata": {},
   "source": [
    "# ML Pipelines"
   ]
  },
  {
   "cell_type": "code",
   "execution_count": 3,
   "metadata": {},
   "outputs": [],
   "source": [
    "from pathlib import Path\n",
    "home = \"dbfs:/mnt/data\"\n",
    "\n",
    "path_train_data = f\"{home}/data/Automobile-Loan-Default/Train_Dataset.csv\""
   ]
  },
  {
   "cell_type": "code",
   "execution_count": 4,
   "metadata": {},
   "outputs": [],
   "source": [
    "from pyspark.sql.types import StructField, StructType, StringType, LongType, DoubleType, DoubleType\n",
    "my_schema = StructType([StructField(\"ID\",StringType(),True),StructField(\"Client_Income\",DoubleType(),True),\\\n",
    "                        StructField(\"Car_Owned\",DoubleType(),True),StructField(\"Bike_Owned\",DoubleType(),True),\\\n",
    "                        StructField(\"Active_Loan\",DoubleType(),True),StructField(\"House_Own\",DoubleType(),True),\\\n",
    "                        StructField(\"Child_Count\",DoubleType(),True),StructField(\"Credit_Amount\",DoubleType(),True),\\\n",
    "                        StructField(\"Loan_Annuity\",DoubleType(),True),StructField(\"Accompany_Client\",StringType(),True),\\\n",
    "                        StructField(\"Client_Income_Type\",StringType(),True),StructField(\"Client_Education\",StringType(),True),\\\n",
    "                        StructField(\"Client_Marital_Status\",StringType(),True),StructField(\"Client_Gender\",StringType(),True),\\\n",
    "                        StructField(\"Loan_Contract_Type\",StringType(),True),StructField(\"Client_Housing_Type\",StringType(),True),\\\n",
    "                        StructField(\"Population_Region_Relative\",DoubleType(),True),StructField(\"Age_Days\",DoubleType(),True),\\\n",
    "                        StructField(\"Employed_Days\",DoubleType(),True),StructField(\"Registration_Days\",DoubleType(),True),\\\n",
    "                        StructField(\"ID_Days\",DoubleType(),True),StructField(\"Own_House_Age\",DoubleType(),True),\\\n",
    "                        StructField(\"Mobile_Tag\",DoubleType(),True),StructField(\"Homephone_Tag\",DoubleType(),True),\\\n",
    "                        StructField(\"Workphone_Working\",DoubleType(),True),StructField(\"Client_Occupation\",StringType(),True),\\\n",
    "                        StructField(\"Client_Family_Members\",DoubleType(),True),StructField(\"Cleint_City_Rating\",DoubleType(),True),\\\n",
    "                        StructField(\"Application_Process_Day\",DoubleType(),True),StructField(\"Application_Process_Hour\",DoubleType(),True),\\\n",
    "                        StructField(\"Client_Permanent_Match_Tag\",StringType(),True),StructField(\"Client_Contact_Work_Tag\",StringType(),True),\\\n",
    "                        StructField(\"Type_Organization\",StringType(),True),StructField(\"Score_Source_1\",DoubleType(),True),\\\n",
    "                        StructField(\"Score_Source_2\",DoubleType(),True),StructField(\"Score_Source_3\",DoubleType(),True),\\\n",
    "                        StructField(\"Social_Circle_Default\",DoubleType(),True),StructField(\"Phone_Change\",DoubleType(),True),\\\n",
    "                        StructField(\"Credit_Bureau\",DoubleType(),True),StructField(\"Default\",DoubleType(),True)])"
   ]
  },
  {
   "cell_type": "code",
   "execution_count": 5,
   "metadata": {},
   "outputs": [],
   "source": [
    "selected_features = ['Score_Source_2', 'Employed_Days', 'Age_Days', 'Client_Education', 'Client_Gender', 'ID_Days', 'Population_Region_Relative', 'Credit_Amount', 'Car_Owned', 'Child_Count', 'Loan_Annuity']\n",
    "selected_features = ['Client_Education', 'Employed_Days', 'Age_Days', 'Client_Income_Type', \\\n",
    " 'Client_Gender', 'Car_Owned', 'ID_Days', 'Score_Source_2', 'Phone_Change']\n",
    "\n",
    "target_variable_name = \"Default\""
   ]
  },
  {
   "cell_type": "code",
   "execution_count": 6,
   "metadata": {},
   "outputs": [],
   "source": [
    "df_train_data = spark\\\n",
    ".read\\\n",
    ".schema(my_schema)\\\n",
    ".option(\"header\", \"true\")\\\n",
    ".csv(path_train_data)"
   ]
  },
  {
   "cell_type": "code",
   "execution_count": 7,
   "metadata": {},
   "outputs": [],
   "source": [
    "cols_to_get = selected_features + [target_variable_name]\n",
    "df_train_data = df_train_data.select(*cols_to_get)"
   ]
  },
  {
   "cell_type": "markdown",
   "metadata": {},
   "source": [
    "# Length of the data"
   ]
  },
  {
   "cell_type": "code",
   "execution_count": 8,
   "metadata": {},
   "outputs": [
    {
     "data": {
      "text/plain": [
       "121856"
      ]
     },
     "execution_count": 8,
     "metadata": {},
     "output_type": "execute_result"
    }
   ],
   "source": [
    "df_train_data.count()"
   ]
  },
  {
   "cell_type": "markdown",
   "metadata": {},
   "source": [
    "# Describe data"
   ]
  },
  {
   "cell_type": "code",
   "execution_count": 9,
   "metadata": {},
   "outputs": [
    {
     "data": {
      "text/html": [
       "<div>\n",
       "<style scoped>\n",
       "    .dataframe tbody tr th:only-of-type {\n",
       "        vertical-align: middle;\n",
       "    }\n",
       "\n",
       "    .dataframe tbody tr th {\n",
       "        vertical-align: top;\n",
       "    }\n",
       "\n",
       "    .dataframe thead th {\n",
       "        text-align: right;\n",
       "    }\n",
       "</style>\n",
       "<table border=\"1\" class=\"dataframe\">\n",
       "  <thead>\n",
       "    <tr style=\"text-align: right;\">\n",
       "      <th>summary</th>\n",
       "      <th>count</th>\n",
       "      <th>mean</th>\n",
       "      <th>stddev</th>\n",
       "      <th>min</th>\n",
       "      <th>max</th>\n",
       "    </tr>\n",
       "  </thead>\n",
       "  <tbody>\n",
       "    <tr>\n",
       "      <th>Client_Education</th>\n",
       "      <td>118194</td>\n",
       "      <td>None</td>\n",
       "      <td>None</td>\n",
       "      <td>Graduation</td>\n",
       "      <td>Secondary</td>\n",
       "    </tr>\n",
       "    <tr>\n",
       "      <th>Employed_Days</th>\n",
       "      <td>118190</td>\n",
       "      <td>67154.07061511127</td>\n",
       "      <td>138971.78295053402</td>\n",
       "      <td>0.0</td>\n",
       "      <td>365243.0</td>\n",
       "    </tr>\n",
       "    <tr>\n",
       "      <th>Age_Days</th>\n",
       "      <td>118239</td>\n",
       "      <td>16027.422948434949</td>\n",
       "      <td>4366.356503618858</td>\n",
       "      <td>7676.0</td>\n",
       "      <td>25201.0</td>\n",
       "    </tr>\n",
       "    <tr>\n",
       "      <th>Client_Income_Type</th>\n",
       "      <td>118139</td>\n",
       "      <td>None</td>\n",
       "      <td>None</td>\n",
       "      <td>Businessman</td>\n",
       "      <td>Unemployed</td>\n",
       "    </tr>\n",
       "    <tr>\n",
       "      <th>Client_Gender</th>\n",
       "      <td>119426</td>\n",
       "      <td>None</td>\n",
       "      <td>None</td>\n",
       "      <td>Female</td>\n",
       "      <td>XNA</td>\n",
       "    </tr>\n",
       "    <tr>\n",
       "      <th>Car_Owned</th>\n",
       "      <td>118258</td>\n",
       "      <td>0.34287743746723265</td>\n",
       "      <td>0.4746729459548691</td>\n",
       "      <td>0.0</td>\n",
       "      <td>1.0</td>\n",
       "    </tr>\n",
       "    <tr>\n",
       "      <th>ID_Days</th>\n",
       "      <td>115871</td>\n",
       "      <td>2987.471015180675</td>\n",
       "      <td>1511.8845759418805</td>\n",
       "      <td>0.0</td>\n",
       "      <td>7197.0</td>\n",
       "    </tr>\n",
       "    <tr>\n",
       "      <th>Score_Source_2</th>\n",
       "      <td>116154</td>\n",
       "      <td>0.5186100569859782</td>\n",
       "      <td>0.7402967506270233</td>\n",
       "      <td>5.0E-6</td>\n",
       "      <td>100.0</td>\n",
       "    </tr>\n",
       "    <tr>\n",
       "      <th>Phone_Change</th>\n",
       "      <td>118175</td>\n",
       "      <td>962.0740511952613</td>\n",
       "      <td>827.9477872022571</td>\n",
       "      <td>0.0</td>\n",
       "      <td>4185.0</td>\n",
       "    </tr>\n",
       "    <tr>\n",
       "      <th>Default</th>\n",
       "      <td>121839</td>\n",
       "      <td>0.08079514769490885</td>\n",
       "      <td>0.27252137780653685</td>\n",
       "      <td>0.0</td>\n",
       "      <td>1.0</td>\n",
       "    </tr>\n",
       "  </tbody>\n",
       "</table>\n",
       "</div>"
      ],
      "text/plain": [
       "summary              count                 mean               stddev  \\\n",
       "Client_Education    118194                 None                 None   \n",
       "Employed_Days       118190    67154.07061511127   138971.78295053402   \n",
       "Age_Days            118239   16027.422948434949    4366.356503618858   \n",
       "Client_Income_Type  118139                 None                 None   \n",
       "Client_Gender       119426                 None                 None   \n",
       "Car_Owned           118258  0.34287743746723265   0.4746729459548691   \n",
       "ID_Days             115871    2987.471015180675   1511.8845759418805   \n",
       "Score_Source_2      116154   0.5186100569859782   0.7402967506270233   \n",
       "Phone_Change        118175    962.0740511952613    827.9477872022571   \n",
       "Default             121839  0.08079514769490885  0.27252137780653685   \n",
       "\n",
       "summary                     min         max  \n",
       "Client_Education     Graduation   Secondary  \n",
       "Employed_Days               0.0    365243.0  \n",
       "Age_Days                 7676.0     25201.0  \n",
       "Client_Income_Type  Businessman  Unemployed  \n",
       "Client_Gender            Female         XNA  \n",
       "Car_Owned                   0.0         1.0  \n",
       "ID_Days                     0.0      7197.0  \n",
       "Score_Source_2           5.0E-6       100.0  \n",
       "Phone_Change                0.0      4185.0  \n",
       "Default                     0.0         1.0  "
      ]
     },
     "execution_count": 9,
     "metadata": {},
     "output_type": "execute_result"
    }
   ],
   "source": [
    "df_train_data.describe().toPandas().set_index(\"summary\").T"
   ]
  },
  {
   "cell_type": "markdown",
   "metadata": {},
   "source": [
    "## ML persistence: Loading Pipelines\n",
    "- Often times it is worth it to save a model or a pipeline to disk for later use.\n",
    "- ML persistence works across Scala, Java and Python.\n"
   ]
  },
  {
   "cell_type": "code",
   "execution_count": 10,
   "metadata": {},
   "outputs": [],
   "source": [
    "from pyspark.ml import PipelineModel"
   ]
  },
  {
   "cell_type": "markdown",
   "metadata": {},
   "source": [
    "### Load date processing pipeline from disk"
   ]
  },
  {
   "cell_type": "code",
   "execution_count": 11,
   "metadata": {},
   "outputs": [],
   "source": [
    "model_process_data = PipelineModel.load(f\"{home}/data/my_data_processing_pipeline\")"
   ]
  },
  {
   "cell_type": "code",
   "execution_count": 12,
   "metadata": {},
   "outputs": [],
   "source": [
    "df = model_process_data.transform(df_train_data)"
   ]
  },
  {
   "cell_type": "code",
   "execution_count": 13,
   "metadata": {},
   "outputs": [
    {
     "data": {
      "text/html": [
       "<div>\n",
       "<style scoped>\n",
       "    .dataframe tbody tr th:only-of-type {\n",
       "        vertical-align: middle;\n",
       "    }\n",
       "\n",
       "    .dataframe tbody tr th {\n",
       "        vertical-align: top;\n",
       "    }\n",
       "\n",
       "    .dataframe thead th {\n",
       "        text-align: right;\n",
       "    }\n",
       "</style>\n",
       "<table border=\"1\" class=\"dataframe\">\n",
       "  <thead>\n",
       "    <tr style=\"text-align: right;\">\n",
       "      <th></th>\n",
       "      <th>Client_Education</th>\n",
       "      <th>Employed_Days</th>\n",
       "      <th>Age_Days</th>\n",
       "      <th>Client_Income_Type</th>\n",
       "      <th>Client_Gender</th>\n",
       "      <th>Car_Owned</th>\n",
       "      <th>ID_Days</th>\n",
       "      <th>Score_Source_2</th>\n",
       "      <th>Phone_Change</th>\n",
       "      <th>Default</th>\n",
       "      <th>Client_Education_index</th>\n",
       "      <th>Client_Income_Type_index</th>\n",
       "      <th>Client_Gender_index</th>\n",
       "      <th>Client_Education_index_OHE</th>\n",
       "      <th>Client_Income_Type_index_OHE</th>\n",
       "      <th>Client_Gender_index_OHE</th>\n",
       "      <th>features</th>\n",
       "      <th>features_scaled</th>\n",
       "    </tr>\n",
       "  </thead>\n",
       "  <tbody>\n",
       "    <tr>\n",
       "      <th>0</th>\n",
       "      <td>Secondary</td>\n",
       "      <td>1062.0</td>\n",
       "      <td>13957.0</td>\n",
       "      <td>Commercial</td>\n",
       "      <td>Male</td>\n",
       "      <td>0.0</td>\n",
       "      <td>383.0</td>\n",
       "      <td>0.478787</td>\n",
       "      <td>63.000000</td>\n",
       "      <td>0.0</td>\n",
       "      <td>0.0</td>\n",
       "      <td>1.0</td>\n",
       "      <td>0.0</td>\n",
       "      <td>(1.0, 0.0, 0.0, 0.0, 0.0)</td>\n",
       "      <td>(0.0, 1.0, 0.0, 0.0, 0.0, 0.0, 0.0, 0.0)</td>\n",
       "      <td>(1.0, 0.0, 0.0)</td>\n",
       "      <td>(1062.0, 13957.0, 0.0, 383.0, 0.47878667, 63.0...</td>\n",
       "      <td>[0.0029076532609796767, 0.35840228245363764, 0...</td>\n",
       "    </tr>\n",
       "    <tr>\n",
       "      <th>1</th>\n",
       "      <td>Graduation</td>\n",
       "      <td>4129.0</td>\n",
       "      <td>14162.0</td>\n",
       "      <td>Service</td>\n",
       "      <td>Male</td>\n",
       "      <td>1.0</td>\n",
       "      <td>21.0</td>\n",
       "      <td>0.215068</td>\n",
       "      <td>962.074051</td>\n",
       "      <td>0.0</td>\n",
       "      <td>1.0</td>\n",
       "      <td>0.0</td>\n",
       "      <td>0.0</td>\n",
       "      <td>(0.0, 1.0, 0.0, 0.0, 0.0)</td>\n",
       "      <td>(1.0, 0.0, 0.0, 0.0, 0.0, 0.0, 0.0, 0.0)</td>\n",
       "      <td>(1.0, 0.0, 0.0)</td>\n",
       "      <td>(4129.0, 14162.0, 1.0, 21.0, 0.215068341, 962....</td>\n",
       "      <td>[0.011304802556106483, 0.37009985734664763, 1....</td>\n",
       "    </tr>\n",
       "    <tr>\n",
       "      <th>2</th>\n",
       "      <td>Graduation dropout</td>\n",
       "      <td>5102.0</td>\n",
       "      <td>16790.0</td>\n",
       "      <td>Service</td>\n",
       "      <td>Male</td>\n",
       "      <td>0.0</td>\n",
       "      <td>331.0</td>\n",
       "      <td>0.552795</td>\n",
       "      <td>277.000000</td>\n",
       "      <td>0.0</td>\n",
       "      <td>2.0</td>\n",
       "      <td>0.0</td>\n",
       "      <td>0.0</td>\n",
       "      <td>(0.0, 0.0, 1.0, 0.0, 0.0)</td>\n",
       "      <td>(1.0, 0.0, 0.0, 0.0, 0.0, 0.0, 0.0, 0.0)</td>\n",
       "      <td>(1.0, 0.0, 0.0)</td>\n",
       "      <td>(5102.0, 16790.0, 0.0, 331.0, 0.552794972, 277...</td>\n",
       "      <td>[0.013968782427041722, 0.5200570613409415, 0.0...</td>\n",
       "    </tr>\n",
       "  </tbody>\n",
       "</table>\n",
       "</div>"
      ],
      "text/plain": [
       "     Client_Education  Employed_Days  Age_Days Client_Income_Type  \\\n",
       "0           Secondary         1062.0   13957.0         Commercial   \n",
       "1          Graduation         4129.0   14162.0            Service   \n",
       "2  Graduation dropout         5102.0   16790.0            Service   \n",
       "\n",
       "  Client_Gender  Car_Owned  ID_Days  Score_Source_2  Phone_Change  Default  \\\n",
       "0          Male        0.0    383.0        0.478787     63.000000      0.0   \n",
       "1          Male        1.0     21.0        0.215068    962.074051      0.0   \n",
       "2          Male        0.0    331.0        0.552795    277.000000      0.0   \n",
       "\n",
       "   Client_Education_index  Client_Income_Type_index  Client_Gender_index  \\\n",
       "0                     0.0                       1.0                  0.0   \n",
       "1                     1.0                       0.0                  0.0   \n",
       "2                     2.0                       0.0                  0.0   \n",
       "\n",
       "  Client_Education_index_OHE              Client_Income_Type_index_OHE  \\\n",
       "0  (1.0, 0.0, 0.0, 0.0, 0.0)  (0.0, 1.0, 0.0, 0.0, 0.0, 0.0, 0.0, 0.0)   \n",
       "1  (0.0, 1.0, 0.0, 0.0, 0.0)  (1.0, 0.0, 0.0, 0.0, 0.0, 0.0, 0.0, 0.0)   \n",
       "2  (0.0, 0.0, 1.0, 0.0, 0.0)  (1.0, 0.0, 0.0, 0.0, 0.0, 0.0, 0.0, 0.0)   \n",
       "\n",
       "  Client_Gender_index_OHE                                           features  \\\n",
       "0         (1.0, 0.0, 0.0)  (1062.0, 13957.0, 0.0, 383.0, 0.47878667, 63.0...   \n",
       "1         (1.0, 0.0, 0.0)  (4129.0, 14162.0, 1.0, 21.0, 0.215068341, 962....   \n",
       "2         (1.0, 0.0, 0.0)  (5102.0, 16790.0, 0.0, 331.0, 0.552794972, 277...   \n",
       "\n",
       "                                     features_scaled  \n",
       "0  [0.0029076532609796767, 0.35840228245363764, 0...  \n",
       "1  [0.011304802556106483, 0.37009985734664763, 1....  \n",
       "2  [0.013968782427041722, 0.5200570613409415, 0.0...  "
      ]
     },
     "execution_count": 13,
     "metadata": {},
     "output_type": "execute_result"
    }
   ],
   "source": [
    "df.toPandas().head(3)"
   ]
  },
  {
   "cell_type": "code",
   "execution_count": 16,
   "metadata": {},
   "outputs": [],
   "source": [
    "df.write.mode(\"overwrite\").parquet(f\"{home}/data/10-processed-data.parquet\")"
   ]
  }
 ],
 "metadata": {
  "kernelspec": {
   "display_name": "Python 3",
   "language": "python",
   "name": "python3"
  },
  "language_info": {
   "codemirror_mode": {
    "name": "ipython",
    "version": 3
   },
   "file_extension": ".py",
   "mimetype": "text/x-python",
   "name": "python",
   "nbconvert_exporter": "python",
   "pygments_lexer": "ipython3",
   "version": "3.6.9"
  }
 },
 "nbformat": 4,
 "nbformat_minor": 4
}
