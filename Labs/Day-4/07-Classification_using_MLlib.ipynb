{
 "cells": [
  {
   "cell_type": "code",
   "execution_count": 3,
   "metadata": {},
   "outputs": [],
   "source": [
    "from pathlib import Path\n",
    "home = \"dbfs:/mnt/data\""
   ]
  },
  {
   "cell_type": "code",
   "execution_count": 4,
   "metadata": {},
   "outputs": [],
   "source": [
    "df = spark.read.parquet(f\"{home}/data/10-processed-data.parquet\")\n",
    "df = df.selectExpr(\"features_scaled as features\",\"Default as label\")"
   ]
  },
  {
   "cell_type": "code",
   "execution_count": 5,
   "metadata": {},
   "outputs": [],
   "source": [
    "#split the data into 70/30 ratio for train test purpose\n",
    "train_df,test_df=df.randomSplit([0.7,0.3])"
   ]
  },
  {
   "cell_type": "code",
   "execution_count": 6,
   "metadata": {
    "tags": []
   },
   "outputs": [
    {
     "data": {
      "text/plain": [
       "85177"
      ]
     },
     "execution_count": 6,
     "metadata": {},
     "output_type": "execute_result"
    }
   ],
   "source": [
    "train_df.count()"
   ]
  },
  {
   "cell_type": "code",
   "execution_count": 7,
   "metadata": {
    "tags": []
   },
   "outputs": [
    {
     "name": "stdout",
     "output_type": "stream",
     "text": [
      "+-----+-----+\n",
      "|label|count|\n",
      "+-----+-----+\n",
      "|  0.0|78308|\n",
      "|  1.0| 6869|\n",
      "+-----+-----+\n",
      "\n"
     ]
    }
   ],
   "source": [
    "train_df.groupBy('label').count().show()"
   ]
  },
  {
   "cell_type": "code",
   "execution_count": 8,
   "metadata": {
    "tags": []
   },
   "outputs": [
    {
     "data": {
      "text/plain": [
       "36679"
      ]
     },
     "execution_count": 8,
     "metadata": {},
     "output_type": "execute_result"
    }
   ],
   "source": [
    "test_df.count()"
   ]
  },
  {
   "cell_type": "code",
   "execution_count": 9,
   "metadata": {
    "tags": []
   },
   "outputs": [
    {
     "name": "stdout",
     "output_type": "stream",
     "text": [
      "+-----+-----+\n",
      "|label|count|\n",
      "+-----+-----+\n",
      "|  0.0|33711|\n",
      "|  1.0| 2968|\n",
      "+-----+-----+\n",
      "\n"
     ]
    }
   ],
   "source": [
    "test_df.groupBy('label').count().show()"
   ]
  },
  {
   "cell_type": "code",
   "execution_count": 10,
   "metadata": {},
   "outputs": [],
   "source": [
    "#import from spark's MLlib\n",
    "from pyspark.ml.classification import LogisticRegression"
   ]
  },
  {
   "cell_type": "code",
   "execution_count": 11,
   "metadata": {
    "tags": []
   },
   "outputs": [],
   "source": [
    "log_reg=LogisticRegression(labelCol='label').fit(train_df)"
   ]
  },
  {
   "cell_type": "code",
   "execution_count": 12,
   "metadata": {
    "tags": []
   },
   "outputs": [],
   "source": [
    "#Training Results"
   ]
  },
  {
   "cell_type": "code",
   "execution_count": 13,
   "metadata": {
    "tags": []
   },
   "outputs": [],
   "source": [
    "lr_summary=log_reg.summary"
   ]
  },
  {
   "cell_type": "code",
   "execution_count": 14,
   "metadata": {
    "tags": []
   },
   "outputs": [
    {
     "data": {
      "text/plain": [
       "1.0"
      ]
     },
     "execution_count": 14,
     "metadata": {},
     "output_type": "execute_result"
    }
   ],
   "source": [
    "lr_summary.accuracy"
   ]
  },
  {
   "cell_type": "code",
   "execution_count": 15,
   "metadata": {},
   "outputs": [
    {
     "name": "stdout",
     "output_type": "stream",
     "text": [
      "Help on BinaryLogisticRegressionTrainingSummary in module pyspark.ml.classification object:\n",
      "\n",
      "class BinaryLogisticRegressionTrainingSummary(BinaryLogisticRegressionSummary, LogisticRegressionTrainingSummary)\n",
      " |  .. note:: Experimental\n",
      " |  \n",
      " |  Binary Logistic regression training results for a given model.\n",
      " |  \n",
      " |  .. versionadded:: 2.0.0\n",
      " |  \n",
      " |  Method resolution order:\n",
      " |      BinaryLogisticRegressionTrainingSummary\n",
      " |      BinaryLogisticRegressionSummary\n",
      " |      LogisticRegressionTrainingSummary\n",
      " |      LogisticRegressionSummary\n",
      " |      pyspark.ml.wrapper.JavaWrapper\n",
      " |      builtins.object\n",
      " |  \n",
      " |  Data descriptors inherited from BinaryLogisticRegressionSummary:\n",
      " |  \n",
      " |  areaUnderROC\n",
      " |      Computes the area under the receiver operating characteristic\n",
      " |      (ROC) curve.\n",
      " |      \n",
      " |      .. note:: This ignores instance weights (setting all to 1.0) from\n",
      " |          `LogisticRegression.weightCol`. This will change in later Spark\n",
      " |          versions.\n",
      " |      \n",
      " |      .. versionadded:: 2.0.0\n",
      " |  \n",
      " |  fMeasureByThreshold\n",
      " |      Returns a dataframe with two fields (threshold, F-Measure) curve\n",
      " |      with beta = 1.0.\n",
      " |      \n",
      " |      .. note:: This ignores instance weights (setting all to 1.0) from\n",
      " |          `LogisticRegression.weightCol`. This will change in later Spark\n",
      " |          versions.\n",
      " |      \n",
      " |      .. versionadded:: 2.0.0\n",
      " |  \n",
      " |  pr\n",
      " |      Returns the precision-recall curve, which is a Dataframe\n",
      " |      containing two fields recall, precision with (0.0, 1.0) prepended\n",
      " |      to it.\n",
      " |      \n",
      " |      .. note:: This ignores instance weights (setting all to 1.0) from\n",
      " |          `LogisticRegression.weightCol`. This will change in later Spark\n",
      " |          versions.\n",
      " |      \n",
      " |      .. versionadded:: 2.0.0\n",
      " |  \n",
      " |  precisionByThreshold\n",
      " |      Returns a dataframe with two fields (threshold, precision) curve.\n",
      " |      Every possible probability obtained in transforming the dataset\n",
      " |      are used as thresholds used in calculating the precision.\n",
      " |      \n",
      " |      .. note:: This ignores instance weights (setting all to 1.0) from\n",
      " |          `LogisticRegression.weightCol`. This will change in later Spark\n",
      " |          versions.\n",
      " |      \n",
      " |      .. versionadded:: 2.0.0\n",
      " |  \n",
      " |  recallByThreshold\n",
      " |      Returns a dataframe with two fields (threshold, recall) curve.\n",
      " |      Every possible probability obtained in transforming the dataset\n",
      " |      are used as thresholds used in calculating the recall.\n",
      " |      \n",
      " |      .. note:: This ignores instance weights (setting all to 1.0) from\n",
      " |          `LogisticRegression.weightCol`. This will change in later Spark\n",
      " |          versions.\n",
      " |      \n",
      " |      .. versionadded:: 2.0.0\n",
      " |  \n",
      " |  roc\n",
      " |      Returns the receiver operating characteristic (ROC) curve,\n",
      " |      which is a Dataframe having two fields (FPR, TPR) with\n",
      " |      (0.0, 0.0) prepended and (1.0, 1.0) appended to it.\n",
      " |      \n",
      " |      .. seealso:: `Wikipedia reference\n",
      " |          <http://en.wikipedia.org/wiki/Receiver_operating_characteristic>`_\n",
      " |      \n",
      " |      .. note:: This ignores instance weights (setting all to 1.0) from\n",
      " |          `LogisticRegression.weightCol`. This will change in later Spark\n",
      " |          versions.\n",
      " |      \n",
      " |      .. versionadded:: 2.0.0\n",
      " |  \n",
      " |  ----------------------------------------------------------------------\n",
      " |  Data descriptors inherited from LogisticRegressionTrainingSummary:\n",
      " |  \n",
      " |  objectiveHistory\n",
      " |      Objective function (scaled loss + regularization) at each\n",
      " |      iteration.\n",
      " |      \n",
      " |      .. versionadded:: 2.0.0\n",
      " |  \n",
      " |  totalIterations\n",
      " |      Number of training iterations until termination.\n",
      " |      \n",
      " |      .. versionadded:: 2.0.0\n",
      " |  \n",
      " |  ----------------------------------------------------------------------\n",
      " |  Methods inherited from LogisticRegressionSummary:\n",
      " |  \n",
      " |  fMeasureByLabel(self, beta=1.0)\n",
      " |      Returns f-measure for each label (category).\n",
      " |      \n",
      " |      .. versionadded:: 2.3.0\n",
      " |  \n",
      " |  weightedFMeasure(self, beta=1.0)\n",
      " |      Returns weighted averaged f-measure.\n",
      " |      \n",
      " |      .. versionadded:: 2.3.0\n",
      " |  \n",
      " |  ----------------------------------------------------------------------\n",
      " |  Data descriptors inherited from LogisticRegressionSummary:\n",
      " |  \n",
      " |  accuracy\n",
      " |      Returns accuracy.\n",
      " |      (equals to the total number of correctly classified instances\n",
      " |      out of the total number of instances.)\n",
      " |      \n",
      " |      .. versionadded:: 2.3.0\n",
      " |  \n",
      " |  falsePositiveRateByLabel\n",
      " |      Returns false positive rate for each label (category).\n",
      " |      \n",
      " |      .. versionadded:: 2.3.0\n",
      " |  \n",
      " |  featuresCol\n",
      " |      Field in \"predictions\" which gives the features of each instance\n",
      " |      as a vector.\n",
      " |      \n",
      " |      .. versionadded:: 2.0.0\n",
      " |  \n",
      " |  labelCol\n",
      " |      Field in \"predictions\" which gives the true label of each\n",
      " |      instance.\n",
      " |      \n",
      " |      .. versionadded:: 2.0.0\n",
      " |  \n",
      " |  labels\n",
      " |      Returns the sequence of labels in ascending order. This order matches the order used\n",
      " |      in metrics which are specified as arrays over labels, e.g., truePositiveRateByLabel.\n",
      " |      \n",
      " |      Note: In most cases, it will be values {0.0, 1.0, ..., numClasses-1}, However, if the\n",
      " |      training set is missing a label, then all of the arrays over labels\n",
      " |      (e.g., from truePositiveRateByLabel) will be of length numClasses-1 instead of the\n",
      " |      expected numClasses.\n",
      " |      \n",
      " |      .. versionadded:: 2.3.0\n",
      " |  \n",
      " |  precisionByLabel\n",
      " |      Returns precision for each label (category).\n",
      " |      \n",
      " |      .. versionadded:: 2.3.0\n",
      " |  \n",
      " |  predictionCol\n",
      " |      Field in \"predictions\" which gives the prediction of each class.\n",
      " |      \n",
      " |      .. versionadded:: 2.3.0\n",
      " |  \n",
      " |  predictions\n",
      " |      Dataframe outputted by the model's `transform` method.\n",
      " |      \n",
      " |      .. versionadded:: 2.0.0\n",
      " |  \n",
      " |  probabilityCol\n",
      " |      Field in \"predictions\" which gives the probability\n",
      " |      of each class as a vector.\n",
      " |      \n",
      " |      .. versionadded:: 2.0.0\n",
      " |  \n",
      " |  recallByLabel\n",
      " |      Returns recall for each label (category).\n",
      " |      \n",
      " |      .. versionadded:: 2.3.0\n",
      " |  \n",
      " |  truePositiveRateByLabel\n",
      " |      Returns true positive rate for each label (category).\n",
      " |      \n",
      " |      .. versionadded:: 2.3.0\n",
      " |  \n",
      " |  weightedFalsePositiveRate\n",
      " |      Returns weighted false positive rate.\n",
      " |      \n",
      " |      .. versionadded:: 2.3.0\n",
      " |  \n",
      " |  weightedPrecision\n",
      " |      Returns weighted averaged precision.\n",
      " |      \n",
      " |      .. versionadded:: 2.3.0\n",
      " |  \n",
      " |  weightedRecall\n",
      " |      Returns weighted averaged recall.\n",
      " |      (equals to precision, recall and f-measure)\n",
      " |      \n",
      " |      .. versionadded:: 2.3.0\n",
      " |  \n",
      " |  weightedTruePositiveRate\n",
      " |      Returns weighted true positive rate.\n",
      " |      (equals to precision, recall and f-measure)\n",
      " |      \n",
      " |      .. versionadded:: 2.3.0\n",
      " |  \n",
      " |  ----------------------------------------------------------------------\n",
      " |  Methods inherited from pyspark.ml.wrapper.JavaWrapper:\n",
      " |  \n",
      " |  __del__(self)\n",
      " |  \n",
      " |  __init__(self, java_obj=None)\n",
      " |      Initialize self.  See help(type(self)) for accurate signature.\n",
      " |  \n",
      " |  ----------------------------------------------------------------------\n",
      " |  Data descriptors inherited from pyspark.ml.wrapper.JavaWrapper:\n",
      " |  \n",
      " |  __dict__\n",
      " |      dictionary for instance variables (if defined)\n",
      " |  \n",
      " |  __weakref__\n",
      " |      list of weak references to the object (if defined)\n",
      "\n"
     ]
    }
   ],
   "source": [
    "help(lr_summary)"
   ]
  },
  {
   "cell_type": "code",
   "execution_count": 16,
   "metadata": {
    "tags": []
   },
   "outputs": [
    {
     "data": {
      "text/plain": [
       "0.9999874176807151"
      ]
     },
     "execution_count": 16,
     "metadata": {},
     "output_type": "execute_result"
    }
   ],
   "source": [
    "lr_summary.areaUnderROC"
   ]
  },
  {
   "cell_type": "code",
   "execution_count": 17,
   "metadata": {
    "tags": []
   },
   "outputs": [
    {
     "name": "stdout",
     "output_type": "stream",
     "text": [
      "[1.0, 1.0]\n"
     ]
    }
   ],
   "source": [
    "print(lr_summary.precisionByLabel)"
   ]
  },
  {
   "cell_type": "code",
   "execution_count": 18,
   "metadata": {
    "tags": []
   },
   "outputs": [
    {
     "name": "stdout",
     "output_type": "stream",
     "text": [
      "[1.0, 1.0]\n"
     ]
    }
   ],
   "source": [
    "print(lr_summary.recallByLabel)"
   ]
  },
  {
   "cell_type": "code",
   "execution_count": 19,
   "metadata": {
    "tags": []
   },
   "outputs": [
    {
     "name": "stdout",
     "output_type": "stream",
     "text": [
      "+--------------------+-----+--------------------+--------------------+----------+\n",
      "|            features|label|       rawPrediction|         probability|prediction|\n",
      "+--------------------+-----+--------------------+--------------------+----------+\n",
      "|[0.0,0.4209415121...|  1.0|[-22.468463147612...|[1.74610533016634...|       1.0|\n",
      "|[3.01169358481887...|  0.0|[25.5857653612941...|[0.99999999999226...|       0.0|\n",
      "|[3.28548391071149...|  0.0|[24.9791637713798...|[0.99999999998581...|       0.0|\n",
      "|[3.55927423660412...|  0.0|[24.7164347670079...|[0.99999999998155...|       0.0|\n",
      "|[4.92822586606724...|  0.0|[27.2654876449040...|[0.99999999999855...|       0.0|\n",
      "|[5.74959684374512...|  0.0|[20.3307376367208...|[0.99999999851928...|       0.0|\n",
      "|[5.74959684374512...|  0.0|[19.5768612630449...|[0.99999999685314...|       0.0|\n",
      "|[6.57096782142299...|  0.0|[24.2154357288228...|[0.99999999996956...|       0.0|\n",
      "|[7.11854847320824...|  0.0|[23.3388504226903...|[0.99999999992687...|       0.0|\n",
      "|[8.48750010267137...|  0.0|[22.6299942641486...|[0.99999999985143...|       0.0|\n",
      "+--------------------+-----+--------------------+--------------------+----------+\n",
      "only showing top 10 rows\n",
      "\n"
     ]
    }
   ],
   "source": [
    "predictions = log_reg.transform(test_df)\n",
    "predictions.show(10)"
   ]
  },
  {
   "cell_type": "code",
   "execution_count": 20,
   "metadata": {
    "tags": []
   },
   "outputs": [],
   "source": [
    "model_predictions = log_reg.transform(test_df)"
   ]
  },
  {
   "cell_type": "code",
   "execution_count": 21,
   "metadata": {
    "tags": []
   },
   "outputs": [],
   "source": [
    "model_predictions = log_reg.evaluate(test_df)"
   ]
  },
  {
   "cell_type": "code",
   "execution_count": 22,
   "metadata": {
    "tags": []
   },
   "outputs": [
    {
     "data": {
      "text/plain": [
       "0.9999727364431964"
      ]
     },
     "execution_count": 22,
     "metadata": {},
     "output_type": "execute_result"
    }
   ],
   "source": [
    "model_predictions.accuracy"
   ]
  },
  {
   "cell_type": "code",
   "execution_count": 23,
   "metadata": {
    "tags": []
   },
   "outputs": [
    {
     "data": {
      "text/plain": [
       "0.999972737251916"
      ]
     },
     "execution_count": 23,
     "metadata": {},
     "output_type": "execute_result"
    }
   ],
   "source": [
    "model_predictions.weightedPrecision"
   ]
  },
  {
   "cell_type": "code",
   "execution_count": 24,
   "metadata": {
    "tags": []
   },
   "outputs": [
    {
     "data": {
      "text/plain": [
       "[1.0, 0.9996630727762803]"
      ]
     },
     "execution_count": 24,
     "metadata": {},
     "output_type": "execute_result"
    }
   ],
   "source": [
    "model_predictions.recallByLabel"
   ]
  },
  {
   "cell_type": "code",
   "execution_count": 25,
   "metadata": {
    "tags": []
   },
   "outputs": [
    {
     "name": "stdout",
     "output_type": "stream",
     "text": [
      "[0.9999703369719981, 1.0]\n"
     ]
    }
   ],
   "source": [
    "print(model_predictions.precisionByLabel)"
   ]
  },
  {
   "cell_type": "code",
   "execution_count": 26,
   "metadata": {
    "tags": []
   },
   "outputs": [
    {
     "data": {
      "text/plain": [
       "0.9996129599614801"
      ]
     },
     "execution_count": 26,
     "metadata": {},
     "output_type": "execute_result"
    }
   ],
   "source": [
    "model_predictions.areaUnderROC"
   ]
  },
  {
   "cell_type": "code",
   "execution_count": 27,
   "metadata": {
    "tags": []
   },
   "outputs": [],
   "source": [
    "from pyspark.ml.classification import RandomForestClassifier\n",
    "rf = RandomForestClassifier(labelCol=\"label\")\n",
    "rf_model = rf.fit(train_df)"
   ]
  },
  {
   "cell_type": "code",
   "execution_count": 28,
   "metadata": {
    "tags": []
   },
   "outputs": [],
   "source": [
    "model_predictions = rf_model.transform(test_df)"
   ]
  },
  {
   "cell_type": "code",
   "execution_count": 29,
   "metadata": {
    "tags": []
   },
   "outputs": [],
   "source": [
    "from pyspark.ml.tuning import ParamGridBuilder, CrossValidator\n",
    "from pyspark.ml.evaluation import BinaryClassificationEvaluator\n",
    "\n",
    "evaluator = BinaryClassificationEvaluator()\n",
    "\n",
    "rf = RandomForestClassifier(labelCol=\"label\")\n",
    "paramGrid = (ParamGridBuilder()\n",
    "#             .addGrid(rf.maxDepth, [5,10,20,25,30])\n",
    "             .addGrid(rf.maxDepth, [5, 10, 20])\n",
    "#             .addGrid(rf.maxBins, [20,30,40 ])\n",
    "             .addGrid(rf.maxBins, [20, 30])\n",
    "#             .addGrid(rf.numTrees, [5, 20,50])\n",
    "             .addGrid(rf.numTrees, [5, 20])\n",
    "             .build())\n",
    "cv = CrossValidator(estimator=rf, estimatorParamMaps=paramGrid, evaluator=evaluator, numFolds=5)\n",
    "cv_model = cv.fit(train_df)"
   ]
  },
  {
   "cell_type": "code",
   "execution_count": 30,
   "metadata": {
    "tags": []
   },
   "outputs": [],
   "source": [
    "best_rf_model = cv_model.bestModel"
   ]
  },
  {
   "cell_type": "code",
   "execution_count": 31,
   "metadata": {
    "tags": []
   },
   "outputs": [],
   "source": [
    "# Generate predictions for entire dataset\n",
    "model_predictions = best_rf_model.transform(test_df)"
   ]
  },
  {
   "cell_type": "code",
   "execution_count": 32,
   "metadata": {
    "tags": []
   },
   "outputs": [],
   "source": [
    "true_pos=model_predictions.filter(model_predictions['label']==1).filter(model_predictions['prediction']==1).count()\n",
    "actual_pos=model_predictions.filter(model_predictions['label']==1).count()\n",
    "pred_pos=model_predictions.filter(model_predictions['prediction']==1).count()"
   ]
  },
  {
   "cell_type": "code",
   "execution_count": 33,
   "metadata": {},
   "outputs": [
    {
     "data": {
      "text/plain": [
       "0.9976415094339622"
      ]
     },
     "execution_count": 33,
     "metadata": {},
     "output_type": "execute_result"
    }
   ],
   "source": [
    "#Recall \n",
    "float(true_pos)/(actual_pos)"
   ]
  },
  {
   "cell_type": "code",
   "execution_count": 34,
   "metadata": {},
   "outputs": [
    {
     "data": {
      "text/plain": [
       "1.0"
      ]
     },
     "execution_count": 34,
     "metadata": {},
     "output_type": "execute_result"
    }
   ],
   "source": [
    "#Precision on test Data \n",
    "float(true_pos)/(pred_pos)"
   ]
  },
  {
   "cell_type": "code",
   "execution_count": 35,
   "metadata": {},
   "outputs": [
    {
     "data": {
      "text/plain": [
       "1.0"
      ]
     },
     "execution_count": 35,
     "metadata": {},
     "output_type": "execute_result"
    }
   ],
   "source": [
    "evaluator.evaluate(cv_model.transform(test_df))"
   ]
  },
  {
   "cell_type": "code",
   "execution_count": 36,
   "metadata": {},
   "outputs": [],
   "source": [
    "from pyspark.ml.evaluation import BinaryClassificationEvaluator, MulticlassClassificationEvaluator"
   ]
  },
  {
   "cell_type": "code",
   "execution_count": 37,
   "metadata": {},
   "outputs": [
    {
     "name": "stdout",
     "output_type": "stream",
     "text": [
      "f1: 0.9998090523491301\n",
      "accuracy: 0.9998091551023747\n",
      "weightedPrecision: 0.9998091947225859\n",
      "weightedRecall: 0.9998091551023747\n"
     ]
    }
   ],
   "source": [
    "metric_names = [\"areaUnderROC\",\"areaUnderPR\",\"recall\",\"precision\",\"f1\", \"accuracy\", \"weightedPrecision\", \\\n",
    "                \"weightedRecall\", \"weightedTruePositiveRate\", \"weightedFalsePositiveRate\", \\\n",
    "                \"weightedFMeasure\", \"truePositiveRateByLabel\", \"falsePositiveRateByLabel\", \\\n",
    "                \"precisionByLabel\", \"recallByLabel\", \"fMeasureByLabel\", \"logLoss\", \"hammingLoss\"]\n",
    "\n",
    "metric_names = [\"f1\", \"accuracy\", \"weightedPrecision\", \"weightedRecall\"]\n",
    "\n",
    "dct_eval = {}\n",
    "for metric_name in metric_names:\n",
    "    try:\n",
    "        evaluator = MulticlassClassificationEvaluator().setLabelCol(\"label\")\\\n",
    "        .setPredictionCol(\"prediction\")\\\n",
    "        .setMetricName(metric_name)\n",
    "\n",
    "        print(f\"{metric_name}: {evaluator.evaluate(model_predictions)}\")\n",
    "    except Exception as e:\n",
    "        print(e)\n",
    "        print(\"Effort for metric: \", metric_name)\n",
    "    "
   ]
  },
  {
   "cell_type": "code",
   "execution_count": 38,
   "metadata": {},
   "outputs": [
    {
     "name": "stdout",
     "output_type": "stream",
     "text": [
      "areaUnderROC: 1.0\n",
      "areaUnderPR: 1.0\n"
     ]
    }
   ],
   "source": [
    "metric_names = [\"areaUnderROC\",\"areaUnderPR\",\"recall\",\"precision\",\"f1\", \"accuracy\", \"weightedPrecision\", \\\n",
    "                \"weightedRecall\", \"weightedTruePositiveRate\", \"weightedFalsePositiveRate\", \\\n",
    "                \"weightedFMeasure\", \"truePositiveRateByLabel\", \"falsePositiveRateByLabel\", \\\n",
    "                \"precisionByLabel\", \"recallByLabel\", \"fMeasureByLabel\", \"logLoss\", \"hammingLoss\"]\n",
    "\n",
    "metric_names = [\"areaUnderROC\",\"areaUnderPR\"]\n",
    "\n",
    "dct_eval = {}\n",
    "for metric_name in metric_names:\n",
    "    try:\n",
    "        evaluator = BinaryClassificationEvaluator().setLabelCol(\"label\")\\\n",
    "        .setMetricName(metric_name)\n",
    "\n",
    "        print(f\"{metric_name}: {evaluator.evaluate(model_predictions)}\")\n",
    "    except Exception as e:\n",
    "        print(e)\n",
    "        print(\"Effort for metric: \", metric_name)\n",
    "    "
   ]
  },
  {
   "cell_type": "code",
   "execution_count": 39,
   "metadata": {},
   "outputs": [],
   "source": [
    "lr_result = model_predictions\n",
    "sc = spark.sparkContext"
   ]
  },
  {
   "cell_type": "code",
   "execution_count": 40,
   "metadata": {},
   "outputs": [],
   "source": [
    "PredAndLabels           = lr_result.select(\"probability\", \"label\")\n",
    "PredAndLabels_collect   = PredAndLabels.sample(fraction=0.2).collect()\n",
    "PredAndLabels_list      = [(float(i[0][0]), 1.0-float(i[1])) for i in PredAndLabels_collect]\n",
    "PredAndLabels           = sc.parallelize(PredAndLabels_list)"
   ]
  },
  {
   "cell_type": "code",
   "execution_count": 41,
   "metadata": {},
   "outputs": [
    {
     "data": {
      "text/plain": [
       "[(0.0, 0.0),\n",
       " (0.9743129178202444, 1.0),\n",
       " (0.9743129178202444, 1.0),\n",
       " (0.9928139452152258, 1.0),\n",
       " (0.9928139452152258, 1.0),\n",
       " (0.17431291782024444, 0.0),\n",
       " (1.0, 1.0),\n",
       " (0.864447405406052, 1.0),\n",
       " (0.9743129178202444, 1.0),\n",
       " (0.9743129178202444, 1.0),\n",
       " (0.9483569502652038, 1.0),\n",
       " (1.0, 1.0),\n",
       " (0.9483569502652038, 1.0),\n",
       " (0.9928139452152258, 1.0),\n",
       " (0.9743129178202444, 1.0),\n",
       " (0.9928139452152258, 1.0),\n",
       " (1.0, 1.0),\n",
       " (0.0, 0.0),\n",
       " (0.9928139452152258, 1.0),\n",
       " (0.9928139452152258, 1.0),\n",
       " (0.9032282680514067, 1.0),\n",
       " (0.9743129178202444, 1.0),\n",
       " (0.9743129178202444, 1.0),\n",
       " (0.0, 0.0),\n",
       " (0.9483569502652038, 1.0),\n",
       " (1.0, 1.0),\n",
       " (0.9483569502652038, 1.0),\n",
       " (1.0, 1.0),\n",
       " (0.9928139452152258, 1.0),\n",
       " (0.9483569502652038, 1.0),\n",
       " (0.9743129178202444, 1.0),\n",
       " (0.9928139452152258, 1.0),\n",
       " (0.9743129178202444, 1.0),\n",
       " (0.0, 0.0),\n",
       " (1.0, 1.0),\n",
       " (0.9743129178202444, 1.0),\n",
       " (0.0, 0.0),\n",
       " (1.0, 1.0),\n",
       " (0.9740440324449594, 1.0),\n",
       " (0.9740440324449594, 1.0),\n",
       " (0.9743129178202444, 1.0),\n",
       " (0.9743129178202444, 1.0),\n",
       " (0.9740440324449594, 1.0),\n",
       " (1.0, 1.0),\n",
       " (0.9483569502652038, 1.0),\n",
       " (0.9740440324449594, 1.0),\n",
       " (0.9743129178202444, 1.0),\n",
       " (0.9740440324449594, 1.0),\n",
       " (0.9483569502652038, 1.0),\n",
       " (1.0, 1.0),\n",
       " (0.9743129178202444, 1.0),\n",
       " (0.0, 0.0),\n",
       " (1.0, 1.0),\n",
       " (0.9740440324449594, 1.0),\n",
       " (0.17431291782024444, 0.0),\n",
       " (0.9743129178202444, 1.0),\n",
       " (0.9740440324449594, 1.0),\n",
       " (1.0, 1.0),\n",
       " (0.9032282680514067, 1.0),\n",
       " (1.0, 1.0),\n",
       " (1.0, 1.0),\n",
       " (0.9743129178202444, 1.0),\n",
       " (0.9928139452152258, 1.0),\n",
       " (0.9483569502652038, 1.0),\n",
       " (0.9743129178202444, 1.0),\n",
       " (0.9743129178202444, 1.0),\n",
       " (0.9743129178202444, 1.0),\n",
       " (1.0, 1.0),\n",
       " (0.9743129178202444, 1.0),\n",
       " (0.9928139452152258, 1.0),\n",
       " (0.9740440324449594, 1.0),\n",
       " (0.9928139452152258, 1.0),\n",
       " (1.0, 1.0),\n",
       " (0.9743129178202444, 1.0),\n",
       " (0.9743129178202444, 1.0),\n",
       " (0.9740440324449594, 1.0),\n",
       " (1.0, 1.0),\n",
       " (0.3483569502652039, 0.0),\n",
       " (0.17431291782024444, 0.0),\n",
       " (1.0, 1.0),\n",
       " (0.9743129178202444, 1.0),\n",
       " (0.9743129178202444, 1.0),\n",
       " (0.9928139452152258, 1.0),\n",
       " (0.9743129178202444, 1.0),\n",
       " (0.9743129178202444, 1.0),\n",
       " (1.0, 1.0),\n",
       " (1.0, 1.0),\n",
       " (0.9743129178202444, 1.0),\n",
       " (0.9928139452152258, 1.0),\n",
       " (1.0, 1.0),\n",
       " (0.9928139452152258, 1.0),\n",
       " (1.0, 1.0),\n",
       " (0.9743129178202444, 1.0),\n",
       " (0.9032282680514067, 1.0),\n",
       " (0.9743129178202444, 1.0),\n",
       " (0.9928139452152258, 1.0),\n",
       " (0.9743129178202444, 1.0),\n",
       " (1.0, 1.0),\n",
       " (0.9740440324449594, 1.0),\n",
       " (1.0, 1.0),\n",
       " (1.0, 1.0),\n",
       " (0.9740440324449594, 1.0),\n",
       " (0.9743129178202444, 1.0),\n",
       " (0.9743129178202444, 1.0),\n",
       " (0.9928139452152258, 1.0),\n",
       " (0.9928139452152258, 1.0),\n",
       " (1.0, 1.0),\n",
       " (1.0, 1.0),\n",
       " (0.9740440324449594, 1.0),\n",
       " (1.0, 1.0),\n",
       " (0.9743129178202444, 1.0),\n",
       " (0.9928139452152258, 1.0),\n",
       " (0.1928139452152259, 0.0),\n",
       " (0.9743129178202444, 1.0),\n",
       " (0.9743129178202444, 1.0),\n",
       " (0.9743129178202444, 1.0),\n",
       " (0.9032282680514067, 1.0),\n",
       " (0.9740440324449594, 1.0),\n",
       " (0.9743129178202444, 1.0),\n",
       " (0.9928139452152258, 1.0),\n",
       " (0.9743129178202444, 1.0),\n",
       " (1.0, 1.0),\n",
       " (0.9928139452152258, 1.0),\n",
       " (0.9743129178202444, 1.0),\n",
       " (1.0, 1.0),\n",
       " (1.0, 1.0),\n",
       " (0.9928139452152258, 1.0),\n",
       " (1.0, 1.0),\n",
       " (0.9743129178202444, 1.0),\n",
       " (0.9483569502652038, 1.0),\n",
       " (1.0, 1.0),\n",
       " (0.9928139452152258, 1.0),\n",
       " (0.9743129178202444, 1.0),\n",
       " (0.9743129178202444, 1.0),\n",
       " (1.0, 1.0),\n",
       " (0.9743129178202444, 1.0),\n",
       " (0.9743129178202444, 1.0),\n",
       " (0.0, 0.0),\n",
       " (0.9483569502652038, 1.0),\n",
       " (1.0, 1.0),\n",
       " (0.9743129178202444, 1.0),\n",
       " (0.9225631829315912, 1.0),\n",
       " (0.3483569502652039, 0.0),\n",
       " (0.9928139452152258, 1.0),\n",
       " (1.0, 1.0),\n",
       " (0.9928139452152258, 1.0),\n",
       " (1.0, 1.0),\n",
       " (1.0, 1.0),\n",
       " (0.9928139452152258, 1.0),\n",
       " (0.17431291782024444, 0.0),\n",
       " (0.9032282680514067, 1.0),\n",
       " (1.0, 1.0),\n",
       " (0.9928139452152258, 1.0),\n",
       " (0.3483569502652039, 0.0),\n",
       " (0.9743129178202444, 1.0),\n",
       " (1.0, 1.0),\n",
       " (1.0, 1.0),\n",
       " (1.0, 1.0),\n",
       " (1.0, 1.0),\n",
       " (0.9743129178202444, 1.0),\n",
       " (0.9740440324449594, 1.0),\n",
       " (0.9740440324449594, 1.0),\n",
       " (0.0, 0.0),\n",
       " (0.9032282680514067, 1.0),\n",
       " (1.0, 1.0),\n",
       " (0.9740440324449594, 1.0),\n",
       " (0.9483569502652038, 1.0),\n",
       " (0.0, 0.0),\n",
       " (1.0, 1.0),\n",
       " (0.9743129178202444, 1.0),\n",
       " (1.0, 1.0),\n",
       " (0.9740440324449594, 1.0),\n",
       " (0.9743129178202444, 1.0),\n",
       " (0.17431291782024444, 0.0),\n",
       " (1.0, 1.0),\n",
       " (0.9743129178202444, 1.0),\n",
       " (0.9483569502652038, 1.0),\n",
       " (1.0, 1.0),\n",
       " (0.9743129178202444, 1.0),\n",
       " (0.9743129178202444, 1.0),\n",
       " (0.17431291782024444, 0.0),\n",
       " (0.9743129178202444, 1.0),\n",
       " (0.9928139452152258, 1.0),\n",
       " (0.9743129178202444, 1.0),\n",
       " (1.0, 1.0),\n",
       " (0.864447405406052, 1.0),\n",
       " (1.0, 1.0),\n",
       " (1.0, 1.0),\n",
       " (0.9743129178202444, 1.0),\n",
       " (0.9743129178202444, 1.0),\n",
       " (0.9743129178202444, 1.0),\n",
       " (0.9743129178202444, 1.0),\n",
       " (0.9743129178202444, 1.0),\n",
       " (0.9743129178202444, 1.0),\n",
       " (0.9928139452152258, 1.0),\n",
       " (0.9743129178202444, 1.0),\n",
       " (0.9743129178202444, 1.0),\n",
       " (0.0, 0.0),\n",
       " (0.9743129178202444, 1.0),\n",
       " (0.9743129178202444, 1.0),\n",
       " (0.3483569502652039, 0.0),\n",
       " (1.0, 1.0),\n",
       " (1.0, 1.0),\n",
       " (0.9743129178202444, 1.0),\n",
       " (1.0, 1.0),\n",
       " (0.0, 0.0),\n",
       " (0.9743129178202444, 1.0),\n",
       " (0.9743129178202444, 1.0),\n",
       " (1.0, 1.0),\n",
       " (1.0, 1.0),\n",
       " (0.9928139452152258, 1.0),\n",
       " (1.0, 1.0),\n",
       " (0.9743129178202444, 1.0),\n",
       " (1.0, 1.0),\n",
       " (1.0, 1.0),\n",
       " (0.9928139452152258, 1.0),\n",
       " (0.9743129178202444, 1.0),\n",
       " (1.0, 1.0),\n",
       " (0.9743129178202444, 1.0),\n",
       " (0.9483569502652038, 1.0),\n",
       " (1.0, 1.0),\n",
       " (0.9740440324449594, 1.0),\n",
       " (0.9743129178202444, 1.0),\n",
       " (0.9928139452152258, 1.0),\n",
       " (0.3483569502652039, 0.0),\n",
       " (0.9928139452152258, 1.0),\n",
       " (0.17431291782024444, 0.0),\n",
       " (1.0, 1.0),\n",
       " (1.0, 1.0),\n",
       " (0.9743129178202444, 1.0),\n",
       " (0.9740440324449594, 1.0),\n",
       " (1.0, 1.0),\n",
       " (1.0, 1.0),\n",
       " (1.0, 1.0),\n",
       " (1.0, 1.0),\n",
       " (1.0, 1.0),\n",
       " (0.9743129178202444, 1.0),\n",
       " (0.9740440324449594, 1.0),\n",
       " (1.0, 1.0),\n",
       " (1.0, 1.0),\n",
       " (0.9743129178202444, 1.0),\n",
       " (0.9928139452152258, 1.0),\n",
       " (0.17431291782024444, 0.0),\n",
       " (0.9743129178202444, 1.0),\n",
       " (0.9743129178202444, 1.0),\n",
       " (0.9743129178202444, 1.0),\n",
       " (1.0, 1.0),\n",
       " (0.9928139452152258, 1.0),\n",
       " (1.0, 1.0),\n",
       " (0.9928139452152258, 1.0),\n",
       " (0.9928139452152258, 1.0),\n",
       " (0.9483569502652038, 1.0),\n",
       " (1.0, 1.0),\n",
       " (0.9928139452152258, 1.0),\n",
       " (0.3483569502652039, 0.0),\n",
       " (0.9740440324449594, 1.0),\n",
       " (1.0, 1.0),\n",
       " (0.9928139452152258, 1.0),\n",
       " (0.9743129178202444, 1.0),\n",
       " (0.0, 0.0),\n",
       " (0.9483569502652038, 1.0),\n",
       " (0.9743129178202444, 1.0),\n",
       " (0.0, 0.0),\n",
       " (1.0, 1.0),\n",
       " (1.0, 1.0),\n",
       " (1.0, 1.0),\n",
       " (0.9928139452152258, 1.0),\n",
       " (0.17404403244495945, 0.0),\n",
       " (0.30322826805140657, 0.0),\n",
       " (1.0, 1.0),\n",
       " (0.9928139452152258, 1.0),\n",
       " (0.9743129178202444, 1.0),\n",
       " (1.0, 1.0),\n",
       " (0.9483569502652038, 1.0),\n",
       " (1.0, 1.0),\n",
       " (0.9743129178202444, 1.0),\n",
       " (1.0, 1.0),\n",
       " (1.0, 1.0),\n",
       " (0.0, 0.0),\n",
       " (0.9743129178202444, 1.0),\n",
       " (0.9740440324449594, 1.0),\n",
       " (0.30322826805140657, 0.0),\n",
       " (0.9743129178202444, 1.0),\n",
       " (1.0, 1.0),\n",
       " (0.1928139452152259, 0.0),\n",
       " (0.9928139452152258, 1.0),\n",
       " (1.0, 1.0),\n",
       " (1.0, 1.0),\n",
       " (1.0, 1.0),\n",
       " (0.9743129178202444, 1.0),\n",
       " (0.9483569502652038, 1.0),\n",
       " (0.0, 0.0),\n",
       " (0.9743129178202444, 1.0),\n",
       " (0.1928139452152259, 0.0),\n",
       " (0.9743129178202444, 1.0),\n",
       " (0.9928139452152258, 1.0),\n",
       " (1.0, 1.0),\n",
       " (0.464447405406052, 0.0),\n",
       " (0.9743129178202444, 1.0),\n",
       " (0.3483569502652039, 0.0),\n",
       " (1.0, 1.0),\n",
       " (1.0, 1.0),\n",
       " (1.0, 1.0),\n",
       " (0.9743129178202444, 1.0),\n",
       " (1.0, 1.0),\n",
       " (1.0, 1.0),\n",
       " (0.9743129178202444, 1.0),\n",
       " (0.9740440324449594, 1.0),\n",
       " (1.0, 1.0),\n",
       " (0.9743129178202444, 1.0),\n",
       " (0.9740440324449594, 1.0),\n",
       " (0.9743129178202444, 1.0),\n",
       " (0.9743129178202444, 1.0),\n",
       " (1.0, 1.0),\n",
       " (0.9928139452152258, 1.0),\n",
       " (0.3483569502652039, 0.0),\n",
       " (0.9743129178202444, 1.0),\n",
       " (1.0, 1.0),\n",
       " (0.9483569502652038, 1.0),\n",
       " (0.9743129178202444, 1.0),\n",
       " (0.9743129178202444, 1.0),\n",
       " (0.9743129178202444, 1.0),\n",
       " (1.0, 1.0),\n",
       " (1.0, 1.0),\n",
       " (1.0, 1.0),\n",
       " (0.9483569502652038, 1.0),\n",
       " (0.9928139452152258, 1.0),\n",
       " (0.9743129178202444, 1.0),\n",
       " (0.9740440324449594, 1.0),\n",
       " (0.9928139452152258, 1.0),\n",
       " (0.9743129178202444, 1.0),\n",
       " (0.9743129178202444, 1.0),\n",
       " (1.0, 1.0),\n",
       " (0.9483569502652038, 1.0),\n",
       " (0.1928139452152259, 0.0),\n",
       " (1.0, 1.0),\n",
       " (1.0, 1.0),\n",
       " (0.9740440324449594, 1.0),\n",
       " (1.0, 1.0),\n",
       " (0.9740440324449594, 1.0),\n",
       " (0.9928139452152258, 1.0),\n",
       " (1.0, 1.0),\n",
       " (0.0, 0.0),\n",
       " (0.9743129178202444, 1.0),\n",
       " (0.9928139452152258, 1.0),\n",
       " (0.9743129178202444, 1.0),\n",
       " (1.0, 1.0),\n",
       " (0.9743129178202444, 1.0),\n",
       " (1.0, 1.0),\n",
       " (0.17404403244495945, 0.0),\n",
       " (1.0, 1.0),\n",
       " (0.9928139452152258, 1.0),\n",
       " (0.9743129178202444, 1.0),\n",
       " (1.0, 1.0),\n",
       " (1.0, 1.0),\n",
       " (0.17431291782024444, 0.0),\n",
       " (0.9740440324449594, 1.0),\n",
       " (0.9740440324449594, 1.0),\n",
       " (0.17431291782024444, 0.0),\n",
       " (0.9928139452152258, 1.0),\n",
       " (1.0, 1.0),\n",
       " (0.0, 0.0),\n",
       " (0.9740440324449594, 1.0),\n",
       " (0.9928139452152258, 1.0),\n",
       " (1.0, 1.0),\n",
       " (0.9743129178202444, 1.0),\n",
       " (0.9740440324449594, 1.0),\n",
       " (0.9743129178202444, 1.0),\n",
       " (0.9743129178202444, 1.0),\n",
       " (0.9743129178202444, 1.0),\n",
       " (0.9928139452152258, 1.0),\n",
       " (0.9743129178202444, 1.0),\n",
       " (1.0, 1.0),\n",
       " (0.864447405406052, 1.0),\n",
       " (1.0, 1.0),\n",
       " (1.0, 1.0),\n",
       " (0.9740440324449594, 1.0),\n",
       " (0.9483569502652038, 1.0),\n",
       " (1.0, 1.0),\n",
       " (0.9928139452152258, 1.0),\n",
       " (1.0, 1.0),\n",
       " (0.9483569502652038, 1.0),\n",
       " (0.9743129178202444, 1.0),\n",
       " (1.0, 1.0),\n",
       " (1.0, 1.0),\n",
       " (0.17431291782024444, 0.0),\n",
       " (0.9743129178202444, 1.0),\n",
       " (0.9743129178202444, 1.0),\n",
       " (1.0, 1.0),\n",
       " (0.3483569502652039, 0.0),\n",
       " (0.9743129178202444, 1.0),\n",
       " (0.9743129178202444, 1.0),\n",
       " (1.0, 1.0),\n",
       " (1.0, 1.0),\n",
       " (0.9928139452152258, 1.0),\n",
       " (0.9928139452152258, 1.0),\n",
       " (0.9743129178202444, 1.0),\n",
       " (1.0, 1.0),\n",
       " (0.9743129178202444, 1.0),\n",
       " (1.0, 1.0),\n",
       " (0.9740440324449594, 1.0),\n",
       " (1.0, 1.0),\n",
       " (0.9743129178202444, 1.0),\n",
       " (1.0, 1.0),\n",
       " (1.0, 1.0),\n",
       " (1.0, 1.0),\n",
       " (0.9743129178202444, 1.0),\n",
       " (0.9928139452152258, 1.0),\n",
       " (0.9743129178202444, 1.0),\n",
       " (0.9743129178202444, 1.0),\n",
       " (1.0, 1.0),\n",
       " (0.9928139452152258, 1.0),\n",
       " (0.9743129178202444, 1.0),\n",
       " (0.9743129178202444, 1.0),\n",
       " (1.0, 1.0),\n",
       " (0.9740440324449594, 1.0),\n",
       " (0.9743129178202444, 1.0),\n",
       " (0.464447405406052, 0.0),\n",
       " (1.0, 1.0),\n",
       " (1.0, 1.0),\n",
       " (1.0, 1.0),\n",
       " (0.9743129178202444, 1.0),\n",
       " (0.9740440324449594, 1.0),\n",
       " (0.9743129178202444, 1.0),\n",
       " (0.9928139452152258, 1.0),\n",
       " (0.9743129178202444, 1.0),\n",
       " (0.9483569502652038, 1.0),\n",
       " (0.9743129178202444, 1.0),\n",
       " (0.9743129178202444, 1.0),\n",
       " (0.9743129178202444, 1.0),\n",
       " (0.9743129178202444, 1.0),\n",
       " (0.9743129178202444, 1.0),\n",
       " (1.0, 1.0),\n",
       " (0.17431291782024444, 0.0),\n",
       " (0.9743129178202444, 1.0),\n",
       " (1.0, 1.0),\n",
       " (0.17404403244495945, 0.0),\n",
       " (1.0, 1.0),\n",
       " (0.9032282680514067, 1.0),\n",
       " (1.0, 1.0),\n",
       " (0.9740440324449594, 1.0),\n",
       " (1.0, 1.0),\n",
       " (0.9483569502652038, 1.0),\n",
       " (0.9740440324449594, 1.0),\n",
       " (0.0, 0.0),\n",
       " (0.9743129178202444, 1.0),\n",
       " (1.0, 1.0),\n",
       " (0.9740440324449594, 1.0),\n",
       " (0.9928139452152258, 1.0),\n",
       " (1.0, 1.0),\n",
       " (1.0, 1.0),\n",
       " (0.9743129178202444, 1.0),\n",
       " (1.0, 1.0),\n",
       " (1.0, 1.0),\n",
       " (0.9743129178202444, 1.0),\n",
       " (0.9743129178202444, 1.0),\n",
       " (1.0, 1.0),\n",
       " (1.0, 1.0),\n",
       " (0.864447405406052, 1.0),\n",
       " (1.0, 1.0),\n",
       " (0.9483569502652038, 1.0),\n",
       " (0.9740440324449594, 1.0),\n",
       " (1.0, 1.0),\n",
       " (0.9483569502652038, 1.0),\n",
       " (1.0, 1.0),\n",
       " (0.9928139452152258, 1.0),\n",
       " (0.9743129178202444, 1.0),\n",
       " (0.17404403244495945, 0.0),\n",
       " (0.9743129178202444, 1.0),\n",
       " (0.9740440324449594, 1.0),\n",
       " (0.9740440324449594, 1.0),\n",
       " (0.17431291782024444, 0.0),\n",
       " (0.9743129178202444, 1.0),\n",
       " (0.9743129178202444, 1.0),\n",
       " (1.0, 1.0),\n",
       " (1.0, 1.0),\n",
       " (0.9483569502652038, 1.0),\n",
       " (0.9743129178202444, 1.0),\n",
       " (1.0, 1.0),\n",
       " (0.9740440324449594, 1.0),\n",
       " (1.0, 1.0),\n",
       " (1.0, 1.0),\n",
       " (1.0, 1.0),\n",
       " (0.9928139452152258, 1.0),\n",
       " (1.0, 1.0),\n",
       " (0.9743129178202444, 1.0),\n",
       " (1.0, 1.0),\n",
       " (0.9743129178202444, 1.0),\n",
       " (0.9743129178202444, 1.0),\n",
       " (0.9743129178202444, 1.0),\n",
       " (0.9928139452152258, 1.0),\n",
       " (0.9743129178202444, 1.0),\n",
       " (0.9743129178202444, 1.0),\n",
       " (0.9740440324449594, 1.0),\n",
       " (0.1928139452152259, 0.0),\n",
       " (0.9928139452152258, 1.0),\n",
       " (0.9928139452152258, 1.0),\n",
       " (1.0, 1.0),\n",
       " (0.9743129178202444, 1.0),\n",
       " (1.0, 1.0),\n",
       " (0.9928139452152258, 1.0),\n",
       " (0.17431291782024444, 0.0),\n",
       " (0.0, 0.0),\n",
       " (1.0, 1.0),\n",
       " (0.9743129178202444, 1.0),\n",
       " (1.0, 1.0),\n",
       " (0.9740440324449594, 1.0),\n",
       " (0.9740440324449594, 1.0),\n",
       " (1.0, 1.0),\n",
       " (1.0, 1.0),\n",
       " (0.9928139452152258, 1.0),\n",
       " (0.9483569502652038, 1.0),\n",
       " (1.0, 1.0),\n",
       " (0.9928139452152258, 1.0),\n",
       " (1.0, 1.0),\n",
       " (0.9743129178202444, 1.0),\n",
       " (1.0, 1.0),\n",
       " (1.0, 1.0),\n",
       " (1.0, 1.0),\n",
       " (0.9743129178202444, 1.0),\n",
       " (0.9928139452152258, 1.0),\n",
       " (0.1928139452152259, 0.0),\n",
       " (0.9740440324449594, 1.0),\n",
       " (1.0, 1.0),\n",
       " (0.9743129178202444, 1.0),\n",
       " (0.9740440324449594, 1.0),\n",
       " (1.0, 1.0),\n",
       " (0.9483569502652038, 1.0),\n",
       " (1.0, 1.0),\n",
       " (0.9483569502652038, 1.0),\n",
       " (1.0, 1.0),\n",
       " (0.9740440324449594, 1.0),\n",
       " (0.9743129178202444, 1.0),\n",
       " (0.0, 0.0),\n",
       " (1.0, 1.0),\n",
       " (1.0, 1.0),\n",
       " (0.0, 0.0),\n",
       " (1.0, 1.0),\n",
       " (0.9928139452152258, 1.0),\n",
       " (0.9743129178202444, 1.0),\n",
       " (1.0, 1.0),\n",
       " (0.9743129178202444, 1.0),\n",
       " (1.0, 1.0),\n",
       " (0.9740440324449594, 1.0),\n",
       " (0.9740440324449594, 1.0),\n",
       " (1.0, 1.0),\n",
       " (1.0, 1.0),\n",
       " (0.9743129178202444, 1.0),\n",
       " (1.0, 1.0),\n",
       " (0.9743129178202444, 1.0),\n",
       " (0.9928139452152258, 1.0),\n",
       " (0.9928139452152258, 1.0),\n",
       " (0.9743129178202444, 1.0),\n",
       " (1.0, 1.0),\n",
       " (0.9928139452152258, 1.0),\n",
       " (0.9743129178202444, 1.0),\n",
       " (0.9928139452152258, 1.0),\n",
       " (1.0, 1.0),\n",
       " (0.9743129178202444, 1.0),\n",
       " (0.9928139452152258, 1.0),\n",
       " (0.9928139452152258, 1.0),\n",
       " (0.9740440324449594, 1.0),\n",
       " (0.9743129178202444, 1.0),\n",
       " (0.9743129178202444, 1.0),\n",
       " (0.864447405406052, 1.0),\n",
       " (0.9740440324449594, 1.0),\n",
       " (0.9928139452152258, 1.0),\n",
       " (0.9928139452152258, 1.0),\n",
       " (0.9743129178202444, 1.0),\n",
       " (0.9928139452152258, 1.0),\n",
       " (0.9743129178202444, 1.0),\n",
       " (0.9743129178202444, 1.0),\n",
       " (0.9743129178202444, 1.0),\n",
       " (1.0, 1.0),\n",
       " (1.0, 1.0),\n",
       " (0.9743129178202444, 1.0),\n",
       " (0.0, 0.0),\n",
       " (0.9928139452152258, 1.0),\n",
       " (0.9743129178202444, 1.0),\n",
       " (0.9743129178202444, 1.0),\n",
       " (0.9743129178202444, 1.0),\n",
       " (0.9743129178202444, 1.0),\n",
       " (0.9743129178202444, 1.0),\n",
       " (0.9743129178202444, 1.0),\n",
       " (0.9743129178202444, 1.0),\n",
       " (1.0, 1.0),\n",
       " (0.9928139452152258, 1.0),\n",
       " (0.9740440324449594, 1.0),\n",
       " (0.9743129178202444, 1.0),\n",
       " (0.9483569502652038, 1.0),\n",
       " (0.17404403244495945, 0.0),\n",
       " (0.17431291782024444, 0.0),\n",
       " (0.864447405406052, 1.0),\n",
       " (1.0, 1.0),\n",
       " (0.9740440324449594, 1.0),\n",
       " (0.9161971402947053, 1.0),\n",
       " (0.9483569502652038, 1.0),\n",
       " (0.17431291782024444, 0.0),\n",
       " (0.9743129178202444, 1.0),\n",
       " (0.8451124905258676, 1.0),\n",
       " (1.0, 1.0),\n",
       " (1.0, 1.0),\n",
       " (0.9743129178202444, 1.0),\n",
       " (0.9928139452152258, 1.0),\n",
       " (1.0, 1.0),\n",
       " (1.0, 1.0),\n",
       " (1.0, 1.0),\n",
       " (0.9740440324449594, 1.0),\n",
       " (0.0, 0.0),\n",
       " (0.9743129178202444, 1.0),\n",
       " (0.9032282680514067, 1.0),\n",
       " (0.9483569502652038, 1.0),\n",
       " (0.9743129178202444, 1.0),\n",
       " (0.9743129178202444, 1.0),\n",
       " (0.9743129178202444, 1.0),\n",
       " (1.0, 1.0),\n",
       " (0.17431291782024444, 0.0),\n",
       " (1.0, 1.0),\n",
       " (1.0, 1.0),\n",
       " (0.9743129178202444, 1.0),\n",
       " (0.9743129178202444, 1.0),\n",
       " (0.9743129178202444, 1.0),\n",
       " (1.0, 1.0),\n",
       " (1.0, 1.0),\n",
       " (1.0, 1.0),\n",
       " (1.0, 1.0),\n",
       " (0.9928139452152258, 1.0),\n",
       " (1.0, 1.0),\n",
       " (0.9743129178202444, 1.0),\n",
       " (0.9743129178202444, 1.0),\n",
       " (0.9928139452152258, 1.0),\n",
       " (1.0, 1.0),\n",
       " (1.0, 1.0),\n",
       " (0.9740440324449594, 1.0),\n",
       " (0.9740440324449594, 1.0),\n",
       " (0.9740440324449594, 1.0),\n",
       " (0.9743129178202444, 1.0),\n",
       " (1.0, 1.0),\n",
       " (0.9743129178202444, 1.0),\n",
       " (0.9928139452152258, 1.0),\n",
       " (0.9928139452152258, 1.0),\n",
       " (0.9743129178202444, 1.0),\n",
       " (0.9743129178202444, 1.0),\n",
       " (0.0, 0.0),\n",
       " (0.9743129178202444, 1.0),\n",
       " (0.9928139452152258, 1.0),\n",
       " (1.0, 1.0),\n",
       " (0.9928139452152258, 1.0),\n",
       " (1.0, 1.0),\n",
       " (0.9740440324449594, 1.0),\n",
       " (0.9740440324449594, 1.0),\n",
       " (1.0, 1.0),\n",
       " (0.9743129178202444, 1.0),\n",
       " (0.9743129178202444, 1.0),\n",
       " (0.9483569502652038, 1.0),\n",
       " (0.9928139452152258, 1.0),\n",
       " (0.9483569502652038, 1.0),\n",
       " (1.0, 1.0),\n",
       " (0.9928139452152258, 1.0),\n",
       " (1.0, 1.0),\n",
       " (0.9740440324449594, 1.0),\n",
       " (0.9743129178202444, 1.0),\n",
       " (0.9743129178202444, 1.0),\n",
       " (0.9743129178202444, 1.0),\n",
       " (1.0, 1.0),\n",
       " (1.0, 1.0),\n",
       " (1.0, 1.0),\n",
       " (0.9928139452152258, 1.0),\n",
       " (1.0, 1.0),\n",
       " (0.9928139452152258, 1.0),\n",
       " (1.0, 1.0),\n",
       " (1.0, 1.0),\n",
       " (0.9743129178202444, 1.0),\n",
       " (0.9032282680514067, 1.0),\n",
       " (1.0, 1.0),\n",
       " (0.9743129178202444, 1.0),\n",
       " (0.9483569502652038, 1.0),\n",
       " (0.9743129178202444, 1.0),\n",
       " (0.9743129178202444, 1.0),\n",
       " (1.0, 1.0),\n",
       " (0.9928139452152258, 1.0),\n",
       " (0.9928139452152258, 1.0),\n",
       " (0.9928139452152258, 1.0),\n",
       " (1.0, 1.0),\n",
       " (0.17431291782024444, 0.0),\n",
       " (0.9743129178202444, 1.0),\n",
       " (1.0, 1.0),\n",
       " (0.9928139452152258, 1.0),\n",
       " (0.9743129178202444, 1.0),\n",
       " (0.17431291782024444, 0.0),\n",
       " (1.0, 1.0),\n",
       " (0.9743129178202444, 1.0),\n",
       " (0.9743129178202444, 1.0),\n",
       " (0.9928139452152258, 1.0),\n",
       " (0.9928139452152258, 1.0),\n",
       " (0.9483569502652038, 1.0),\n",
       " (0.9928139452152258, 1.0),\n",
       " (0.9928139452152258, 1.0),\n",
       " (1.0, 1.0),\n",
       " (0.9743129178202444, 1.0),\n",
       " (0.9743129178202444, 1.0),\n",
       " (1.0, 1.0),\n",
       " (0.9483569502652038, 1.0),\n",
       " (0.9743129178202444, 1.0),\n",
       " (1.0, 1.0),\n",
       " (0.464447405406052, 0.0),\n",
       " (0.9928139452152258, 1.0),\n",
       " (0.9743129178202444, 1.0),\n",
       " (0.9743129178202444, 1.0),\n",
       " (0.9740440324449594, 1.0),\n",
       " (0.17431291782024444, 0.0),\n",
       " (1.0, 1.0),\n",
       " (1.0, 1.0),\n",
       " (0.9928139452152258, 1.0),\n",
       " (1.0, 1.0),\n",
       " (1.0, 1.0),\n",
       " (1.0, 1.0),\n",
       " (0.9928139452152258, 1.0),\n",
       " (0.17431291782024444, 0.0),\n",
       " (0.9743129178202444, 1.0),\n",
       " (0.9740440324449594, 1.0),\n",
       " (1.0, 1.0),\n",
       " (1.0, 1.0),\n",
       " (1.0, 1.0),\n",
       " (0.9743129178202444, 1.0),\n",
       " (0.9743129178202444, 1.0),\n",
       " (0.9740440324449594, 1.0),\n",
       " (1.0, 1.0),\n",
       " (1.0, 1.0),\n",
       " (0.0, 0.0),\n",
       " (1.0, 1.0),\n",
       " (0.464447405406052, 0.0),\n",
       " (0.9743129178202444, 1.0),\n",
       " (0.9743129178202444, 1.0),\n",
       " (1.0, 1.0),\n",
       " (0.9743129178202444, 1.0),\n",
       " (1.0, 1.0),\n",
       " (0.9743129178202444, 1.0),\n",
       " (0.17431291782024444, 0.0),\n",
       " (1.0, 1.0),\n",
       " (0.17431291782024444, 0.0),\n",
       " (0.30322826805140657, 0.0),\n",
       " (0.9740440324449594, 1.0),\n",
       " (0.9740440324449594, 1.0),\n",
       " (1.0, 1.0),\n",
       " (0.9740440324449594, 1.0),\n",
       " (0.9743129178202444, 1.0),\n",
       " (1.0, 1.0),\n",
       " (0.9743129178202444, 1.0),\n",
       " (0.9928139452152258, 1.0),\n",
       " (1.0, 1.0),\n",
       " (0.9743129178202444, 1.0),\n",
       " (0.9928139452152258, 1.0),\n",
       " (0.9928139452152258, 1.0),\n",
       " (1.0, 1.0),\n",
       " (1.0, 1.0),\n",
       " (1.0, 1.0),\n",
       " (1.0, 1.0),\n",
       " (1.0, 1.0),\n",
       " (1.0, 1.0),\n",
       " (0.9483569502652038, 1.0),\n",
       " (0.9032282680514067, 1.0),\n",
       " (1.0, 1.0),\n",
       " (1.0, 1.0),\n",
       " (0.9743129178202444, 1.0),\n",
       " (1.0, 1.0),\n",
       " (0.9743129178202444, 1.0),\n",
       " (0.9743129178202444, 1.0),\n",
       " (0.9740440324449594, 1.0),\n",
       " (0.9928139452152258, 1.0),\n",
       " (0.9743129178202444, 1.0),\n",
       " (0.9743129178202444, 1.0),\n",
       " (1.0, 1.0),\n",
       " (1.0, 1.0),\n",
       " (1.0, 1.0),\n",
       " (1.0, 1.0),\n",
       " (0.9483569502652038, 1.0),\n",
       " (0.9928139452152258, 1.0),\n",
       " (0.9743129178202444, 1.0),\n",
       " (0.17404403244495945, 0.0),\n",
       " (1.0, 1.0),\n",
       " (0.9740440324449594, 1.0),\n",
       " (0.17431291782024444, 0.0),\n",
       " (0.17431291782024444, 0.0),\n",
       " (1.0, 1.0),\n",
       " (0.9743129178202444, 1.0),\n",
       " (1.0, 1.0),\n",
       " (1.0, 1.0),\n",
       " (1.0, 1.0),\n",
       " (1.0, 1.0),\n",
       " (0.9743129178202444, 1.0),\n",
       " (0.9928139452152258, 1.0),\n",
       " (0.9928139452152258, 1.0),\n",
       " (1.0, 1.0),\n",
       " (1.0, 1.0),\n",
       " (0.9743129178202444, 1.0),\n",
       " (0.3483569502652039, 0.0),\n",
       " (1.0, 1.0),\n",
       " (0.9928139452152258, 1.0),\n",
       " (0.9483569502652038, 1.0),\n",
       " (0.9743129178202444, 1.0),\n",
       " (0.9483569502652038, 1.0),\n",
       " (1.0, 1.0),\n",
       " (1.0, 1.0),\n",
       " (1.0, 1.0),\n",
       " (0.9743129178202444, 1.0),\n",
       " (0.9740440324449594, 1.0),\n",
       " (0.9032282680514067, 1.0),\n",
       " (0.9928139452152258, 1.0),\n",
       " (0.17404403244495945, 0.0),\n",
       " (0.17431291782024444, 0.0),\n",
       " (0.9928139452152258, 1.0),\n",
       " (1.0, 1.0),\n",
       " (1.0, 1.0),\n",
       " (1.0, 1.0),\n",
       " (1.0, 1.0),\n",
       " (1.0, 1.0),\n",
       " (0.9743129178202444, 1.0),\n",
       " (0.9743129178202444, 1.0),\n",
       " (0.0, 0.0),\n",
       " (1.0, 1.0),\n",
       " (0.9483569502652038, 1.0),\n",
       " (0.9743129178202444, 1.0),\n",
       " (0.9928139452152258, 1.0),\n",
       " (0.3483569502652039, 0.0),\n",
       " (1.0, 1.0),\n",
       " (0.9743129178202444, 1.0),\n",
       " (0.9743129178202444, 1.0),\n",
       " (0.9928139452152258, 1.0),\n",
       " (0.9483569502652038, 1.0),\n",
       " (0.9928139452152258, 1.0),\n",
       " (1.0, 1.0),\n",
       " (0.9743129178202444, 1.0),\n",
       " (0.9743129178202444, 1.0),\n",
       " (0.9743129178202444, 1.0),\n",
       " (0.9928139452152258, 1.0),\n",
       " (0.9743129178202444, 1.0),\n",
       " (0.9743129178202444, 1.0),\n",
       " (0.9743129178202444, 1.0),\n",
       " (0.9743129178202444, 1.0),\n",
       " (0.9743129178202444, 1.0),\n",
       " (0.17431291782024444, 0.0),\n",
       " (1.0, 1.0),\n",
       " (1.0, 1.0),\n",
       " (1.0, 1.0),\n",
       " (0.9743129178202444, 1.0),\n",
       " (0.9743129178202444, 1.0),\n",
       " (0.9743129178202444, 1.0),\n",
       " (0.9743129178202444, 1.0),\n",
       " (0.0, 0.0),\n",
       " (1.0, 1.0),\n",
       " (0.9032282680514067, 1.0),\n",
       " (0.9483569502652038, 1.0),\n",
       " (0.9032282680514067, 1.0),\n",
       " (0.9032282680514067, 1.0),\n",
       " (0.9743129178202444, 1.0),\n",
       " (1.0, 1.0),\n",
       " (0.9928139452152258, 1.0),\n",
       " (0.0, 0.0),\n",
       " (0.9483569502652038, 1.0),\n",
       " (0.9743129178202444, 1.0),\n",
       " (0.9740440324449594, 1.0),\n",
       " (0.9743129178202444, 1.0),\n",
       " (0.9740440324449594, 1.0),\n",
       " (0.9743129178202444, 1.0),\n",
       " (0.17431291782024444, 0.0),\n",
       " (0.9032282680514067, 1.0),\n",
       " (0.9483569502652038, 1.0),\n",
       " (1.0, 1.0),\n",
       " (1.0, 1.0),\n",
       " (1.0, 1.0),\n",
       " (0.9928139452152258, 1.0),\n",
       " (0.9483569502652038, 1.0),\n",
       " (0.9743129178202444, 1.0),\n",
       " (1.0, 1.0),\n",
       " (0.17431291782024444, 0.0),\n",
       " (0.9743129178202444, 1.0),\n",
       " (0.0, 0.0),\n",
       " (0.9743129178202444, 1.0),\n",
       " (0.9928139452152258, 1.0),\n",
       " (0.9928139452152258, 1.0),\n",
       " (0.9928139452152258, 1.0),\n",
       " (0.9743129178202444, 1.0),\n",
       " (1.0, 1.0),\n",
       " (0.9743129178202444, 1.0),\n",
       " (0.9743129178202444, 1.0),\n",
       " (1.0, 1.0),\n",
       " (0.9928139452152258, 1.0),\n",
       " (0.9743129178202444, 1.0),\n",
       " (0.0, 0.0),\n",
       " (1.0, 1.0),\n",
       " (0.9740440324449594, 1.0),\n",
       " (1.0, 1.0),\n",
       " (1.0, 1.0),\n",
       " (0.9743129178202444, 1.0),\n",
       " (1.0, 1.0),\n",
       " (0.9743129178202444, 1.0),\n",
       " (0.9928139452152258, 1.0),\n",
       " (0.9928139452152258, 1.0),\n",
       " (0.9928139452152258, 1.0),\n",
       " (1.0, 1.0),\n",
       " (0.9743129178202444, 1.0),\n",
       " (1.0, 1.0),\n",
       " (0.0, 0.0),\n",
       " (1.0, 1.0),\n",
       " (0.9928139452152258, 1.0),\n",
       " (1.0, 1.0),\n",
       " (1.0, 1.0),\n",
       " (0.9743129178202444, 1.0),\n",
       " (0.0, 0.0),\n",
       " (0.9743129178202444, 1.0),\n",
       " (1.0, 1.0),\n",
       " (0.9743129178202444, 1.0),\n",
       " (0.9928139452152258, 1.0),\n",
       " (1.0, 1.0),\n",
       " (1.0, 1.0),\n",
       " (0.9740440324449594, 1.0),\n",
       " (1.0, 1.0),\n",
       " (0.9743129178202444, 1.0),\n",
       " (0.3483569502652039, 0.0),\n",
       " (0.17404403244495945, 0.0),\n",
       " (0.9740440324449594, 1.0),\n",
       " (1.0, 1.0),\n",
       " (0.9740440324449594, 1.0),\n",
       " (0.9743129178202444, 1.0),\n",
       " (0.9743129178202444, 1.0),\n",
       " (1.0, 1.0),\n",
       " (1.0, 1.0),\n",
       " (0.9743129178202444, 1.0),\n",
       " (0.9743129178202444, 1.0),\n",
       " (0.9743129178202444, 1.0),\n",
       " (0.9743129178202444, 1.0),\n",
       " (1.0, 1.0),\n",
       " (1.0, 1.0),\n",
       " (0.8451124905258676, 1.0),\n",
       " (0.9743129178202444, 1.0),\n",
       " (0.864447405406052, 1.0),\n",
       " (0.9483569502652038, 1.0),\n",
       " (0.9928139452152258, 1.0),\n",
       " (0.9928139452152258, 1.0),\n",
       " (1.0, 1.0),\n",
       " (0.9740440324449594, 1.0),\n",
       " (0.9483569502652038, 1.0),\n",
       " (0.9928139452152258, 1.0),\n",
       " (1.0, 1.0),\n",
       " (0.9743129178202444, 1.0),\n",
       " (1.0, 1.0),\n",
       " (0.9483569502652038, 1.0),\n",
       " (0.9743129178202444, 1.0),\n",
       " (0.9743129178202444, 1.0),\n",
       " (0.17431291782024444, 0.0),\n",
       " (0.9743129178202444, 1.0),\n",
       " (0.9928139452152258, 1.0),\n",
       " (0.9743129178202444, 1.0),\n",
       " (0.9743129178202444, 1.0),\n",
       " (1.0, 1.0),\n",
       " (0.9928139452152258, 1.0),\n",
       " (0.9928139452152258, 1.0),\n",
       " (0.9032282680514067, 1.0),\n",
       " (0.9743129178202444, 1.0),\n",
       " (0.9743129178202444, 1.0),\n",
       " (0.0, 0.0),\n",
       " (1.0, 1.0),\n",
       " (0.9743129178202444, 1.0),\n",
       " (1.0, 1.0),\n",
       " (1.0, 1.0),\n",
       " (0.9483569502652038, 1.0),\n",
       " (0.9483569502652038, 1.0),\n",
       " (1.0, 1.0),\n",
       " (1.0, 1.0),\n",
       " (0.9743129178202444, 1.0),\n",
       " (1.0, 1.0),\n",
       " (0.0, 0.0),\n",
       " (0.9032282680514067, 1.0),\n",
       " (1.0, 1.0),\n",
       " (0.9928139452152258, 1.0),\n",
       " (0.9740440324449594, 1.0),\n",
       " (0.9928139452152258, 1.0),\n",
       " (0.9483569502652038, 1.0),\n",
       " (0.9743129178202444, 1.0),\n",
       " (0.1928139452152259, 0.0),\n",
       " (1.0, 1.0),\n",
       " (0.9743129178202444, 1.0),\n",
       " (0.9743129178202444, 1.0),\n",
       " (0.9743129178202444, 1.0),\n",
       " (0.9740440324449594, 1.0),\n",
       " (0.9743129178202444, 1.0),\n",
       " (1.0, 1.0),\n",
       " (1.0, 1.0),\n",
       " (0.9743129178202444, 1.0),\n",
       " (0.0, 0.0),\n",
       " (1.0, 1.0),\n",
       " (0.9928139452152258, 1.0),\n",
       " (1.0, 1.0),\n",
       " (1.0, 1.0),\n",
       " (1.0, 1.0),\n",
       " (0.17431291782024444, 0.0),\n",
       " (1.0, 1.0),\n",
       " (0.9928139452152258, 1.0),\n",
       " (0.0, 0.0),\n",
       " ...]"
      ]
     },
     "execution_count": 41,
     "metadata": {},
     "output_type": "execute_result"
    }
   ],
   "source": [
    "PredAndLabels.collect()"
   ]
  },
  {
   "cell_type": "code",
   "execution_count": 42,
   "metadata": {},
   "outputs": [],
   "source": [
    "from pyspark.mllib.evaluation import BinaryClassificationMetrics"
   ]
  },
  {
   "cell_type": "code",
   "execution_count": 43,
   "metadata": {},
   "outputs": [],
   "source": [
    "bcm = BinaryClassificationMetrics(PredAndLabels)"
   ]
  },
  {
   "cell_type": "code",
   "execution_count": 44,
   "metadata": {},
   "outputs": [
    {
     "data": {
      "text/plain": [
       "1.0"
      ]
     },
     "execution_count": 44,
     "metadata": {},
     "output_type": "execute_result"
    }
   ],
   "source": [
    "bcm.areaUnderROC"
   ]
  },
  {
   "cell_type": "code",
   "execution_count": 45,
   "metadata": {},
   "outputs": [
    {
     "data": {
      "text/plain": [
       "1.0"
      ]
     },
     "execution_count": 45,
     "metadata": {},
     "output_type": "execute_result"
    }
   ],
   "source": [
    "bcm.areaUnderPR"
   ]
  },
  {
   "cell_type": "code",
   "execution_count": 46,
   "metadata": {},
   "outputs": [],
   "source": [
    "metrics = BinaryClassificationMetrics(PredAndLabels)"
   ]
  },
  {
   "cell_type": "markdown",
   "metadata": {},
   "source": [
    "## Calculate Various Metrics"
   ]
  },
  {
   "cell_type": "code",
   "execution_count": 47,
   "metadata": {},
   "outputs": [],
   "source": [
    "from pyspark.ml.feature import VectorAssembler, VectorIndexer, OneHotEncoder, StringIndexer\n",
    "from pyspark.sql.functions import when\n",
    "from pyspark.sql import functions as F\n",
    "from pyspark.sql.functions import avg\n",
    "from pyspark.ml import Pipeline\n",
    "from pyspark.ml.classification import LogisticRegression, RandomForestClassifier, GBTClassifier\n",
    "from pyspark.ml.classification import DecisionTreeClassifier\n",
    "from pyspark.ml.evaluation import BinaryClassificationEvaluator, MulticlassClassificationEvaluator\n",
    "from pyspark.mllib.evaluation import BinaryClassificationMetrics\n",
    "from pyspark.ml.tuning import CrossValidator, ParamGridBuilder \n",
    "from sklearn.metrics import roc_curve, auc\n",
    "from sklearn.metrics import log_loss\n",
    "from pyspark.sql import Window\n",
    "from pyspark.sql.functions import rank,sum,col\n",
    "from pyspark.ml.linalg import Vectors\n",
    "from pyspark.ml.feature import VectorSlicer\n",
    "import matplotlib.pyplot as plt"
   ]
  },
  {
   "cell_type": "markdown",
   "metadata": {},
   "source": [
    "## ROC Curve Visualization"
   ]
  },
  {
   "cell_type": "code",
   "execution_count": 48,
   "metadata": {},
   "outputs": [],
   "source": [
    "FPR = dict()                                                        # FPR: False Positive Rate\n",
    "tpr = dict()                                                        # TPR: True Positive Rate\n",
    "roc_auc = dict()\n",
    "\n",
    "y_test = [i[1] for i in PredAndLabels_list]\n",
    "y_score = [i[0] for i in PredAndLabels_list]"
   ]
  },
  {
   "cell_type": "code",
   "execution_count": 49,
   "metadata": {},
   "outputs": [],
   "source": [
    "fpr, tpr, _ = roc_curve(y_test, y_score)\n",
    "roc_auc = auc(fpr, tpr)"
   ]
  },
  {
   "cell_type": "code",
   "execution_count": 50,
   "metadata": {},
   "outputs": [
    {
     "data": {
      "image/png": "[encoded data removed]",
      "text/plain": [
       "<Figure size 360x288 with 1 Axes>"
      ]
     },
     "metadata": {
      "needs_background": "light"
     },
     "output_type": "display_data"
    }
   ],
   "source": [
    "plt.figure(figsize=(5,4))\n",
    "plt.plot(fpr, tpr, label='ROC curve (area = %0.2f)' % roc_auc)\n",
    "plt.plot([0, 1], [0, 1], 'k--')\n",
    "plt.xlim([0.0, 1.0])\n",
    "plt.ylim([0.0, 1.05])\n",
    "plt.xlabel('False Positive Rate')\n",
    "plt.ylabel('True Positive Rate')\n",
    "plt.title('ROC Curve - Logistic Regression')\n",
    "plt.legend(loc=\"lower right\")\n",
    "plt.show()"
   ]
  },
  {
   "cell_type": "markdown",
   "metadata": {},
   "source": [
    "## Confusion Matrix\n",
    "- For binary and multi-class classification problems, confusion matrix is another metrics which helps in indentifying which classes are easy to predict and which are hard to predict\n",
    "- It provides how many samples for each class are correctly classified and how many are confused with other classes."
   ]
  },
  {
   "cell_type": "code",
   "execution_count": 51,
   "metadata": {},
   "outputs": [
    {
     "data": {
      "text/html": [
       "<div>\n",
       "<style scoped>\n",
       "    .dataframe tbody tr th:only-of-type {\n",
       "        vertical-align: middle;\n",
       "    }\n",
       "\n",
       "    .dataframe tbody tr th {\n",
       "        vertical-align: top;\n",
       "    }\n",
       "\n",
       "    .dataframe thead th {\n",
       "        text-align: right;\n",
       "    }\n",
       "</style>\n",
       "<table border=\"1\" class=\"dataframe\">\n",
       "  <thead>\n",
       "    <tr style=\"text-align: right;\">\n",
       "      <th></th>\n",
       "      <th>prediction_label</th>\n",
       "      <th>0.0</th>\n",
       "      <th>1.0</th>\n",
       "    </tr>\n",
       "  </thead>\n",
       "  <tbody>\n",
       "    <tr>\n",
       "      <th>0</th>\n",
       "      <td>1.0</td>\n",
       "      <td>0</td>\n",
       "      <td>2961</td>\n",
       "    </tr>\n",
       "    <tr>\n",
       "      <th>1</th>\n",
       "      <td>0.0</td>\n",
       "      <td>33711</td>\n",
       "      <td>7</td>\n",
       "    </tr>\n",
       "  </tbody>\n",
       "</table>\n",
       "</div>"
      ],
      "text/plain": [
       "  prediction_label    0.0   1.0\n",
       "0              1.0      0  2961\n",
       "1              0.0  33711     7"
      ]
     },
     "execution_count": 51,
     "metadata": {},
     "output_type": "execute_result"
    }
   ],
   "source": [
    "cm_lr_result = lr_result.crosstab(\"prediction\", \"label\")\n",
    "cm_lr_result = cm_lr_result.toPandas()\n",
    "cm_lr_result"
   ]
  },
  {
   "cell_type": "markdown",
   "metadata": {},
   "source": [
    "## Calculate Accuracy, Sensitivity, Specificity, Precision and ROC Curve"
   ]
  },
  {
   "cell_type": "code",
   "execution_count": 52,
   "metadata": {},
   "outputs": [],
   "source": [
    "TP = cm_lr_result[\"1.0\"][0]\n",
    "FP = cm_lr_result[\"0.0\"][0]\n",
    "TN = cm_lr_result[\"0.0\"][1]\n",
    "FN = cm_lr_result[\"1.0\"][1]\n",
    "Accuracy = (TP+TN)/(TP+FP+TN+FN)\n",
    "Sensitivity = TP/(TP+FN)\n",
    "Specificity = TN/(TN+FP)\n",
    "Precision = TP/(TP+FP)"
   ]
  },
  {
   "cell_type": "code",
   "execution_count": 53,
   "metadata": {},
   "outputs": [
    {
     "name": "stdout",
     "output_type": "stream",
     "text": [
      "Accuracy = 1.00\n",
      "Sensitivity = 1.00\n",
      "Specificity = 1.00\n",
      "Precision = 1.00\n"
     ]
    }
   ],
   "source": [
    "print (\"Accuracy = %0.2f\" %Accuracy )\n",
    "print (\"Sensitivity = %0.2f\" %Sensitivity )\n",
    "print (\"Specificity = %0.2f\" %Specificity )\n",
    "print (\"Precision = %0.2f\" %Precision )"
   ]
  },
  {
   "cell_type": "code",
   "execution_count": 54,
   "metadata": {},
   "outputs": [
    {
     "name": "stdout",
     "output_type": "stream",
     "text": [
      "+-----+----------+--------------------+\n",
      "|label|prediction|         probability|\n",
      "+-----+----------+--------------------+\n",
      "|  1.0|       1.0|           [0.0,1.0]|\n",
      "|  0.0|       0.0|           [1.0,0.0]|\n",
      "|  0.0|       0.0|[0.97431291782024...|\n",
      "|  0.0|       0.0|[0.97431291782024...|\n",
      "|  0.0|       0.0|[0.97431291782024...|\n",
      "+-----+----------+--------------------+\n",
      "only showing top 5 rows\n",
      "\n"
     ]
    }
   ],
   "source": [
    "lr_result.select('label', 'prediction', 'probability').show(5)"
   ]
  },
  {
   "cell_type": "code",
   "execution_count": 55,
   "metadata": {},
   "outputs": [],
   "source": [
    "pred_pd = lr_result.select(['label', 'prediction', 'probability']).toPandas()"
   ]
  },
  {
   "cell_type": "code",
   "execution_count": 56,
   "metadata": {},
   "outputs": [
    {
     "data": {
      "text/html": [
       "<div>\n",
       "<style scoped>\n",
       "    .dataframe tbody tr th:only-of-type {\n",
       "        vertical-align: middle;\n",
       "    }\n",
       "\n",
       "    .dataframe tbody tr th {\n",
       "        vertical-align: top;\n",
       "    }\n",
       "\n",
       "    .dataframe thead th {\n",
       "        text-align: right;\n",
       "    }\n",
       "</style>\n",
       "<table border=\"1\" class=\"dataframe\">\n",
       "  <thead>\n",
       "    <tr style=\"text-align: right;\">\n",
       "      <th></th>\n",
       "      <th>label</th>\n",
       "      <th>prediction</th>\n",
       "      <th>probability</th>\n",
       "    </tr>\n",
       "  </thead>\n",
       "  <tbody>\n",
       "    <tr>\n",
       "      <th>0</th>\n",
       "      <td>1.0</td>\n",
       "      <td>1.0</td>\n",
       "      <td>[0.0, 1.0]</td>\n",
       "    </tr>\n",
       "    <tr>\n",
       "      <th>1</th>\n",
       "      <td>0.0</td>\n",
       "      <td>0.0</td>\n",
       "      <td>[1.0, 0.0]</td>\n",
       "    </tr>\n",
       "    <tr>\n",
       "      <th>2</th>\n",
       "      <td>0.0</td>\n",
       "      <td>0.0</td>\n",
       "      <td>[0.9743129178202444, 0.025687082179755554]</td>\n",
       "    </tr>\n",
       "    <tr>\n",
       "      <th>3</th>\n",
       "      <td>0.0</td>\n",
       "      <td>0.0</td>\n",
       "      <td>[0.9743129178202444, 0.025687082179755554]</td>\n",
       "    </tr>\n",
       "    <tr>\n",
       "      <th>4</th>\n",
       "      <td>0.0</td>\n",
       "      <td>0.0</td>\n",
       "      <td>[0.9743129178202444, 0.025687082179755554]</td>\n",
       "    </tr>\n",
       "  </tbody>\n",
       "</table>\n",
       "</div>"
      ],
      "text/plain": [
       "   label  prediction                                 probability\n",
       "0    1.0         1.0                                  [0.0, 1.0]\n",
       "1    0.0         0.0                                  [1.0, 0.0]\n",
       "2    0.0         0.0  [0.9743129178202444, 0.025687082179755554]\n",
       "3    0.0         0.0  [0.9743129178202444, 0.025687082179755554]\n",
       "4    0.0         0.0  [0.9743129178202444, 0.025687082179755554]"
      ]
     },
     "execution_count": 56,
     "metadata": {},
     "output_type": "execute_result"
    }
   ],
   "source": [
    "pred_pd.head()"
   ]
  },
  {
   "cell_type": "markdown",
   "metadata": {},
   "source": [
    "- We need to convert the column prediction into a list, because now it is of type VectorDense. We will create a new column encoded_label that we will use to plot the roc curve."
   ]
  },
  {
   "cell_type": "code",
   "execution_count": 57,
   "metadata": {},
   "outputs": [],
   "source": [
    "import numpy as np\n",
    "pred_pd['probability'] = pred_pd['probability'].map(lambda x: list(x))\n",
    "pred_pd['encoded_label'] = pred_pd['label'].map(lambda x: np.eye(2)[int(x)])"
   ]
  },
  {
   "cell_type": "code",
   "execution_count": 58,
   "metadata": {},
   "outputs": [],
   "source": [
    "y_pred = np.array(pred_pd['probability'].tolist())\n",
    "y_true = np.array(pred_pd['encoded_label'].tolist())"
   ]
  },
  {
   "cell_type": "code",
   "execution_count": 59,
   "metadata": {},
   "outputs": [
    {
     "name": "stdout",
     "output_type": "stream",
     "text": [
      "AUC: 1.000\n"
     ]
    }
   ],
   "source": [
    "from sklearn.metrics import auc, roc_curve\n",
    "import matplotlib.pyplot as plt \n",
    "\n",
    "fpr, tpr, threshold = roc_curve(y_score=y_pred[:,0], y_true=y_true[:,0])\n",
    "auc = auc(fpr, tpr)\n",
    "\n",
    "print('AUC: {:.3f}'.format(auc))"
   ]
  },
  {
   "cell_type": "code",
   "execution_count": 60,
   "metadata": {},
   "outputs": [
    {
     "data": {
      "image/png": "[encoded data removed]",
      "text/plain": [
       "<Figure size 432x288 with 1 Axes>"
      ]
     },
     "metadata": {
      "needs_background": "light"
     },
     "output_type": "display_data"
    }
   ],
   "source": [
    "import matplotlib.pyplot as plt \n",
    "\n",
    "plt.figure()\n",
    "plt.plot([0,1], [0,1], 'k--', color='orange')\n",
    "plt.plot(fpr, tpr, label='auc = {:.3f}'.format(auc))\n",
    "plt.xlabel('False positive rate')\n",
    "plt.ylabel('True positive rate')\n",
    "plt.title('ROC curve')\n",
    "plt.legend(loc='lower right')\n",
    "plt.grid()\n",
    "plt.show()"
   ]
  },
  {
   "cell_type": "markdown",
   "metadata": {},
   "source": [
    "## Import SKLearn for various matrics\n",
    "- We can use SKLearn for various useful matrics"
   ]
  },
  {
   "cell_type": "code",
   "execution_count": 87,
   "metadata": {},
   "outputs": [],
   "source": [
    "import sklearn\n",
    "from sklearn import metrics, datasets, neighbors\n",
    "\n",
    "import sys\n",
    "import warnings\n",
    "import itertools"
   ]
  },
  {
   "cell_type": "code",
   "execution_count": 88,
   "metadata": {},
   "outputs": [],
   "source": [
    "from sklearn.metrics import confusion_matrix\n",
    "from sklearn.metrics import accuracy_score, adjusted_rand_score, confusion_matrix\n",
    "from sklearn.metrics import classification_report, precision_score, recall_score, f1_score, precision_recall_fscore_support\n",
    "from sklearn.metrics import roc_curve, roc_auc_score\n",
    "from sklearn.metrics import precision_recall_curve, auc,average_precision_score\n",
    "from sklearn.metrics import log_loss\n",
    "from sklearn.metrics import zero_one_loss\n",
    "from sklearn.metrics import balanced_accuracy_score\n",
    "from sklearn.metrics import brier_score_loss\n",
    "from sklearn.metrics import fbeta_score\n",
    "from sklearn.metrics import hamming_loss\n",
    "from sklearn.metrics import mean_absolute_error\n",
    "from sklearn.metrics import mean_squared_error, mean_squared_log_error\n",
    "from sklearn.metrics import mean_squared_log_error\n",
    "from sklearn.metrics import median_absolute_error\n",
    "from sklearn.metrics import explained_variance_score\n",
    "from sklearn.metrics import max_error"
   ]
  },
  {
   "cell_type": "code",
   "execution_count": 89,
   "metadata": {},
   "outputs": [
    {
     "data": {
      "text/plain": [
       "DataFrame[features: vector, label: double, rawPrediction: vector, probability: vector, prediction: double]"
      ]
     },
     "execution_count": 89,
     "metadata": {},
     "output_type": "execute_result"
    }
   ],
   "source": [
    "lr_result"
   ]
  },
  {
   "cell_type": "code",
   "execution_count": 64,
   "metadata": {},
   "outputs": [],
   "source": [
    "Y_test = lr_result.select(\"label\").toPandas()['label']"
   ]
  },
  {
   "cell_type": "code",
   "execution_count": 65,
   "metadata": {},
   "outputs": [],
   "source": [
    "Y_preds = lr_result.select(\"Prediction\").toPandas()['Prediction']"
   ]
  },
  {
   "cell_type": "code",
   "execution_count": 90,
   "metadata": {},
   "outputs": [
    {
     "name": "stdout",
     "output_type": "stream",
     "text": [
      "[[33711     0]\n",
      " [    7  2961]]\n"
     ]
    }
   ],
   "source": [
    "conf_mat = confusion_matrix(Y_test, Y_preds)\n",
    "print(conf_mat)"
   ]
  },
  {
   "cell_type": "markdown",
   "metadata": {},
   "source": [
    "## Visualize Confusion Matrix"
   ]
  },
  {
   "cell_type": "code",
   "execution_count": 67,
   "metadata": {},
   "outputs": [
    {
     "data": {
      "image/png": "[encoded data removed]",
      "text/plain": [
       "<Figure size 432x432 with 2 Axes>"
      ]
     },
     "metadata": {},
     "output_type": "display_data"
    }
   ],
   "source": [
    "with plt.style.context(('ggplot', 'seaborn')):\n",
    "    fig = plt.figure(figsize=(6,6), num=1)\n",
    "    plt.imshow(conf_mat, interpolation='nearest',cmap= plt.cm.Blues )\n",
    "    plt.xticks([0,1],[0,1])\n",
    "    plt.yticks([0,1],[0,1])\n",
    "    plt.xlabel('Predicted Label')\n",
    "    plt.ylabel('Actual Label')\n",
    "    for i, j in itertools.product(range(conf_mat.shape[0]), range(conf_mat.shape[1])):\n",
    "                plt.text(j, i,conf_mat[i, j], horizontalalignment=\"center\",color=\"red\")\n",
    "    plt.grid(None)\n",
    "    plt.title('Confusion Matrix')\n",
    "    plt.colorbar();"
   ]
  },
  {
   "cell_type": "markdown",
   "metadata": {},
   "source": [
    "## Use SKLearn library to calculate various matrics"
   ]
  },
  {
   "cell_type": "code",
   "execution_count": 92,
   "metadata": {},
   "outputs": [
    {
     "name": "stdout",
     "output_type": "stream",
     "text": [
      "Test MAE  : 0.000\n"
     ]
    }
   ],
   "source": [
    "print('Test MAE  : %.3f'%mean_absolute_error(Y_test, Y_preds))"
   ]
  },
  {
   "cell_type": "code",
   "execution_count": 93,
   "metadata": {},
   "outputs": [
    {
     "name": "stdout",
     "output_type": "stream",
     "text": [
      "Test MSE  : 0.000\n"
     ]
    }
   ],
   "source": [
    "print('Test MSE  : %.3f'%mean_squared_error(Y_test, Y_preds))"
   ]
  },
  {
   "cell_type": "code",
   "execution_count": 94,
   "metadata": {},
   "outputs": [
    {
     "name": "stdout",
     "output_type": "stream",
     "text": [
      "9.169200625500722e-05\n"
     ]
    }
   ],
   "source": [
    "print(mean_squared_log_error(Y_test, Y_preds))"
   ]
  },
  {
   "cell_type": "code",
   "execution_count": 95,
   "metadata": {},
   "outputs": [
    {
     "name": "stdout",
     "output_type": "stream",
     "text": [
      "Maximum Residual Error :  1.0\n"
     ]
    }
   ],
   "source": [
    "print('Maximum Residual Error : ', max_error(Y_test, Y_preds))"
   ]
  },
  {
   "cell_type": "code",
   "execution_count": 96,
   "metadata": {},
   "outputs": [
    {
     "name": "stdout",
     "output_type": "stream",
     "text": [
      "Precision                                   : 1.000\n",
      "Recall                                      : 0.998\n",
      "F1-Score                                    : 0.999\n",
      "\n",
      "Precision Recall F1-Score Support Per Class : \n",
      " (array([0.9997924, 1.       ]), array([1.        , 0.99764151]), array([0.99989619, 0.99881936]), array([33711,  2968]))\n",
      "\n",
      "Classification Report                       : \n",
      "              precision    recall  f1-score   support\n",
      "\n",
      "         0.0       1.00      1.00      1.00     33711\n",
      "         1.0       1.00      1.00      1.00      2968\n",
      "\n",
      "    accuracy                           1.00     36679\n",
      "   macro avg       1.00      1.00      1.00     36679\n",
      "weighted avg       1.00      1.00      1.00     36679\n",
      "\n"
     ]
    }
   ],
   "source": [
    "from sklearn.metrics import classification_report, precision_score, recall_score, f1_score, precision_recall_fscore_support\n",
    "\n",
    "print('Precision                                   : %.3f'%precision_score(Y_test, Y_preds))\n",
    "print('Recall                                      : %.3f'%recall_score(Y_test, Y_preds))\n",
    "print('F1-Score                                    : %.3f'%f1_score(Y_test, Y_preds))\n",
    "print('\\nPrecision Recall F1-Score Support Per Class : \\n',precision_recall_fscore_support(Y_test, Y_preds))\n",
    "print('\\nClassification Report                       : ')\n",
    "print(classification_report(Y_test, Y_preds))"
   ]
  },
  {
   "cell_type": "code",
   "execution_count": 97,
   "metadata": {},
   "outputs": [
    {
     "data": {
      "text/plain": [
       "0.9998091551023747"
      ]
     },
     "execution_count": 97,
     "metadata": {},
     "output_type": "execute_result"
    }
   ],
   "source": [
    "accuracy = metrics.accuracy_score(Y_test, Y_preds)\n",
    "accuracy "
   ]
  },
  {
   "cell_type": "code",
   "execution_count": 98,
   "metadata": {},
   "outputs": [
    {
     "data": {
      "text/plain": [
       "(1.0, 0.9997923957530103)"
      ]
     },
     "execution_count": 98,
     "metadata": {},
     "output_type": "execute_result"
    }
   ],
   "source": [
    "precision_positive = metrics.precision_score(Y_test, Y_preds, pos_label=1)\n",
    "precision_negative = metrics.precision_score(Y_test, Y_preds, pos_label=0)\n",
    "precision_positive, precision_negative "
   ]
  },
  {
   "cell_type": "code",
   "execution_count": 99,
   "metadata": {},
   "outputs": [
    {
     "data": {
      "text/plain": [
       "(0.9976415094339622, 1.0)"
      ]
     },
     "execution_count": 99,
     "metadata": {},
     "output_type": "execute_result"
    }
   ],
   "source": [
    "recall_sensitivity = metrics.recall_score(Y_test, Y_preds, pos_label=1)\n",
    "recall_specificity = metrics.recall_score(Y_test, Y_preds, pos_label=0)\n",
    "recall_sensitivity, recall_specificity "
   ]
  },
  {
   "cell_type": "code",
   "execution_count": 100,
   "metadata": {},
   "outputs": [
    {
     "data": {
      "text/plain": [
       "(0.998819362455726, 0.9998961871005058)"
      ]
     },
     "execution_count": 100,
     "metadata": {},
     "output_type": "execute_result"
    }
   ],
   "source": [
    "f1_positive = metrics.f1_score(Y_test, Y_preds, pos_label=1)\n",
    "f1_negative = metrics.f1_score(Y_test, Y_preds, pos_label=0)\n",
    "f1_positive, f1_negative "
   ]
  },
  {
   "cell_type": "code",
   "execution_count": 101,
   "metadata": {},
   "outputs": [
    {
     "name": "stdout",
     "output_type": "stream",
     "text": [
      "              precision    recall  f1-score   support\n",
      "\n",
      "         0.0       1.00      1.00      1.00     33711\n",
      "         1.0       1.00      1.00      1.00      2968\n",
      "\n",
      "    accuracy                           1.00     36679\n",
      "   macro avg       1.00      1.00      1.00     36679\n",
      "weighted avg       1.00      1.00      1.00     36679\n",
      "\n"
     ]
    }
   ],
   "source": [
    "print(metrics.classification_report(Y_test, Y_preds))"
   ]
  },
  {
   "cell_type": "markdown",
   "metadata": {},
   "source": [
    "### Hamming Loss\n",
    "Hamming loss is the fraction of targets that are misclassified. The best value of the hamming loss is 0 and the worst value is 1. It can be calculated as "
   ]
  },
  {
   "cell_type": "code",
   "execution_count": 108,
   "metadata": {},
   "outputs": [
    {
     "data": {
      "text/plain": [
       "0.0001908448976253442"
      ]
     },
     "execution_count": 108,
     "metadata": {},
     "output_type": "execute_result"
    }
   ],
   "source": [
    "metrics.hamming_loss(Y_test, Y_preds)"
   ]
  },
  {
   "cell_type": "markdown",
   "metadata": {},
   "source": [
    "### Cross-entropy loss\n",
    "Cross-entropy loss, also known as log loss"
   ]
  },
  {
   "cell_type": "code",
   "execution_count": 111,
   "metadata": {},
   "outputs": [
    {
     "data": {
      "text/plain": [
       "0.006591549245192382"
      ]
     },
     "execution_count": 111,
     "metadata": {},
     "output_type": "execute_result"
    }
   ],
   "source": [
    "metrics.log_loss(Y_test, Y_preds)"
   ]
  },
  {
   "cell_type": "markdown",
   "metadata": {},
   "source": [
    "## Visualize Precision & Recall vs Threshold"
   ]
  },
  {
   "cell_type": "code",
   "execution_count": 104,
   "metadata": {},
   "outputs": [],
   "source": [
    "prob_tests = lr_result.select(\"probability\").toPandas()['probability']"
   ]
  },
  {
   "cell_type": "code",
   "execution_count": 105,
   "metadata": {},
   "outputs": [],
   "source": [
    "prob_test = [my_prob_test[0] for my_prob_test in prob_tests]"
   ]
  },
  {
   "cell_type": "code",
   "execution_count": 106,
   "metadata": {},
   "outputs": [
    {
     "data": {
      "image/png": "[encoded data removed]",
      "text/plain": [
       "<Figure size 576x288 with 1 Axes>"
      ]
     },
     "metadata": {},
     "output_type": "display_data"
    }
   ],
   "source": [
    "pre, rec, thr = metrics.precision_recall_curve(Y_test, prob_test)\n",
    "plt.figure(figsize=(8,4))\n",
    "plt.plot(thr, pre[:-1], label='precision')\n",
    "plt.plot(thr, rec[1:], label='recall')\n",
    "plt.xlabel('Threshold')\n",
    "plt.title('Precision & Recall vs Threshold', c='r', size=16)\n",
    "plt.legend()\n",
    "plt.show()"
   ]
  },
  {
   "cell_type": "code",
   "execution_count": null,
   "metadata": {},
   "outputs": [],
   "source": [
    "spark.stop()"
   ]
  }
 ],
 "metadata": {
  "kernelspec": {
   "display_name": "Python 3",
   "language": "python",
   "name": "python3"
  },
  "language_info": {
   "codemirror_mode": {
    "name": "ipython",
    "version": 3
   },
   "file_extension": ".py",
   "mimetype": "text/x-python",
   "name": "python",
   "nbconvert_exporter": "python",
   "pygments_lexer": "ipython3",
   "version": "3.6.9"
  }
 },
 "nbformat": 4,
 "nbformat_minor": 4
}
