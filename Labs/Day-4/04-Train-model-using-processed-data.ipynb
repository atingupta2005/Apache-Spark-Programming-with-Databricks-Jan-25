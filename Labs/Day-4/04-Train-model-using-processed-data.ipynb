{
 "cells": [
  {
   "cell_type": "markdown",
   "metadata": {},
   "source": [
    "# ML Pipelines"
   ]
  },
  {
   "cell_type": "code",
   "execution_count": 23,
   "metadata": {},
   "outputs": [],
   "source": [
    "from pathlib import Path\n",
    "home = \"dbfs:/mnt/data\""
   ]
  },
  {
   "cell_type": "code",
   "execution_count": 24,
   "metadata": {},
   "outputs": [],
   "source": [
    "from pyspark.ml import Pipeline, PipelineModel\n",
    "from pyspark.ml.classification import LogisticRegressionModel, LogisticRegression\n",
    "from pyspark.sql.functions import count, when, isnan, col"
   ]
  },
  {
   "cell_type": "code",
   "execution_count": 25,
   "metadata": {},
   "outputs": [],
   "source": [
    "df = spark.read.parquet(f\"{home}/data/10-processed-data.parquet\")"
   ]
  },
  {
   "cell_type": "code",
   "execution_count": 26,
   "metadata": {},
   "outputs": [],
   "source": [
    "# Train the model\n",
    "lr = LogisticRegression(maxIter=10, regParam=0.001, featuresCol='features_scaled',labelCol='Default')\n",
    "model = lr.fit(df)"
   ]
  },
  {
   "cell_type": "code",
   "execution_count": 27,
   "metadata": {},
   "outputs": [],
   "source": [
    "model.write().overwrite().save(f\"{home}/data/my_trained_model\")"
   ]
  },
  {
   "cell_type": "markdown",
   "metadata": {},
   "source": [
    "## Predict and check the model predictions"
   ]
  },
  {
   "cell_type": "code",
   "execution_count": 28,
   "metadata": {},
   "outputs": [
    {
     "name": "stdout",
     "output_type": "stream",
     "text": [
      "+---------------+-------+----------+-----------+\n",
      "|features_scaled|Default|prediction|probability|\n",
      "+---------------+-------+----------+-----------+\n",
      "+---------------+-------+----------+-----------+\n",
      "\n"
     ]
    }
   ],
   "source": [
    "model.transform(df).select(\"features_scaled\", \"Default\", \"prediction\", \"probability\").filter(\"Default<>prediction\")\\\n",
    ".show()"
   ]
  },
  {
   "cell_type": "code",
   "execution_count": 29,
   "metadata": {},
   "outputs": [
    {
     "name": "stdout",
     "output_type": "stream",
     "text": [
      "+--------------------+-------+----------+--------------------+\n",
      "|     features_scaled|Default|prediction|         probability|\n",
      "+--------------------+-------+----------+--------------------+\n",
      "|[0.00290765326097...|    0.0|       0.0|[0.99806031359132...|\n",
      "|[0.01130480255610...|    0.0|       0.0|[0.99868282197925...|\n",
      "|[0.01396878242704...|    0.0|       0.0|[0.99872008133509...|\n",
      "|[1.0,0.8855349500...|    0.0|       0.0|[0.99862474744516...|\n",
      "|[0.00815073800182...|    0.0|       0.0|[0.99875770186950...|\n",
      "|[0.00324167745856...|    0.0|       0.0|[0.99857100253159...|\n",
      "|[1.0,0.7787161198...|    0.0|       0.0|[0.99915618155069...|\n",
      "|[1.0,0.8454778887...|    0.0|       0.0|[0.99924395257184...|\n",
      "|[0.02159931880966...|    0.0|       0.0|[0.99912552801647...|\n",
      "|[1.0,0.7321540656...|    0.0|       0.0|[0.99878601775829...|\n",
      "|[0.00619587507495...|    0.0|       0.0|[0.99922808149635...|\n",
      "|[0.00101028630254...|    0.0|       0.0|[0.99853795698309...|\n",
      "|[0.00106504436772...|    0.0|       0.0|[0.99752165458072...|\n",
      "|[1.0,0.7828815977...|    0.0|       0.0|[0.99918969729459...|\n",
      "|[0.00102123791557...|    0.0|       0.0|[0.99934847075447...|\n",
      "|[0.00838345977883...|    0.0|       0.0|[0.99916852168331...|\n",
      "|[0.00950873801825...|    0.0|       0.0|[0.99853614420504...|\n",
      "|[3.42237907365781...|    0.0|       0.0|[0.99884617084353...|\n",
      "|[0.00948683479217...|    0.0|       0.0|[0.99825853643907...|\n",
      "|[0.00685570976035...|    0.0|       0.0|[0.99886476049667...|\n",
      "+--------------------+-------+----------+--------------------+\n",
      "only showing top 20 rows\n",
      "\n"
     ]
    }
   ],
   "source": [
    "model.transform(df).select(\"features_scaled\", \"Default\", \"prediction\", \"probability\").filter(\"Default=prediction\").\\\n",
    "filter(\"prediction=0\").show()"
   ]
  },
  {
   "cell_type": "code",
   "execution_count": 30,
   "metadata": {},
   "outputs": [
    {
     "name": "stdout",
     "output_type": "stream",
     "text": [
      "+--------------------+-------+----------+--------------------+\n",
      "|     features_scaled|Default|prediction|         probability|\n",
      "+--------------------+-------+----------+--------------------+\n",
      "|[0.00625063314012...|    1.0|       1.0|[0.00815204667352...|\n",
      "|[0.00217937099410...|    1.0|       1.0|[0.01066287882261...|\n",
      "|[0.00352094359097...|    1.0|       1.0|[0.01114256195393...|\n",
      "|[0.00623968152709...|    1.0|       1.0|[0.01229635907867...|\n",
      "|[0.00389329843419...|    1.0|       1.0|[0.00576327745933...|\n",
      "|[0.00200962099205...|    1.0|       1.0|[0.01161944756625...|\n",
      "|[0.00759220573700...|    1.0|       1.0|[0.01144735834942...|\n",
      "|[0.00418625408289...|    1.0|       1.0|[0.01423860564174...|\n",
      "|[0.00177689921504...|    1.0|       1.0|[0.01240017659024...|\n",
      "|[0.00180701615089...|    1.0|       1.0|[0.00787606498800...|\n",
      "|[0.00321429842597...|    1.0|       1.0|[0.00892829800123...|\n",
      "|[0.00171118953682...|    1.0|       1.0|[0.01053757757563...|\n",
      "|[0.00319513310316...|    1.0|       1.0|[0.01850815473702...|\n",
      "|[0.00292408068053...|    1.0|       1.0|[0.00707278282908...|\n",
      "|[1.0,0.8927817403...|    1.0|       1.0|[0.01685472939169...|\n",
      "|[0.01541165744449...|    1.0|       1.0|[0.01692208271806...|\n",
      "|[0.00564008071338...|    1.0|       1.0|[0.01653825486000...|\n",
      "|[0.00236007260919...|    1.0|       1.0|[0.00585887705092...|\n",
      "|[0.00635193556070...|    1.0|       1.0|[0.01167502488280...|\n",
      "|[1.0,0.6805706134...|    1.0|       1.0|[0.01162027535478...|\n",
      "+--------------------+-------+----------+--------------------+\n",
      "only showing top 20 rows\n",
      "\n"
     ]
    }
   ],
   "source": [
    "model.transform(df).select(\"features_scaled\", \"Default\", \"prediction\", \"probability\").filter(\"Default=prediction\").\\\n",
    "filter(\"prediction=1\").show()"
   ]
  }
 ],
 "metadata": {
  "kernelspec": {
   "display_name": "Python 3",
   "language": "python",
   "name": "python3"
  },
  "language_info": {
   "codemirror_mode": {
    "name": "ipython",
    "version": 3
   },
   "file_extension": ".py",
   "mimetype": "text/x-python",
   "name": "python",
   "nbconvert_exporter": "python",
   "pygments_lexer": "ipython3",
   "version": "3.6.9"
  }
 },
 "nbformat": 4,
 "nbformat_minor": 4
}
