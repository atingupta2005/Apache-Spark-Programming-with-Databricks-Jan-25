{
 "cells": [
  {
   "cell_type": "markdown",
   "metadata": {},
   "source": [
    "# ML Pipelines"
   ]
  },
  {
   "cell_type": "code",
   "execution_count": 65,
   "metadata": {},
   "outputs": [],
   "source": [
    "from pathlib import Path\n",
    "home = \"dbfs:/mnt/data\"\n",
    "\n",
    "path_test_data = f\"{home}/data/Automobile-Loan-Default/Train_Dataset.csv\""
   ]
  },
  {
   "cell_type": "code",
   "execution_count": 66,
   "metadata": {},
   "outputs": [],
   "source": [
    "from pyspark.sql.types import StructField, StructType, StringType, LongType, DoubleType, DoubleType\n",
    "my_schema = StructType([StructField(\"ID\",StringType(),True),StructField(\"Client_Income\",DoubleType(),True),\\\n",
    "                        StructField(\"Car_Owned\",DoubleType(),True),StructField(\"Bike_Owned\",DoubleType(),True),\\\n",
    "                        StructField(\"Active_Loan\",DoubleType(),True),StructField(\"House_Own\",DoubleType(),True),\\\n",
    "                        StructField(\"Child_Count\",DoubleType(),True),StructField(\"Credit_Amount\",DoubleType(),True),\\\n",
    "                        StructField(\"Loan_Annuity\",DoubleType(),True),StructField(\"Accompany_Client\",StringType(),True),\\\n",
    "                        StructField(\"Client_Income_Type\",StringType(),True),StructField(\"Client_Education\",StringType(),True),\\\n",
    "                        StructField(\"Client_Marital_Status\",StringType(),True),StructField(\"Client_Gender\",StringType(),True),\\\n",
    "                        StructField(\"Loan_Contract_Type\",StringType(),True),StructField(\"Client_Housing_Type\",StringType(),True),\\\n",
    "                        StructField(\"Population_Region_Relative\",DoubleType(),True),StructField(\"Age_Days\",DoubleType(),True),\\\n",
    "                        StructField(\"Employed_Days\",DoubleType(),True),StructField(\"Registration_Days\",DoubleType(),True),\\\n",
    "                        StructField(\"ID_Days\",DoubleType(),True),StructField(\"Own_House_Age\",DoubleType(),True),\\\n",
    "                        StructField(\"Mobile_Tag\",DoubleType(),True),StructField(\"Homephone_Tag\",DoubleType(),True),\\\n",
    "                        StructField(\"Workphone_Working\",DoubleType(),True),StructField(\"Client_Occupation\",StringType(),True),\\\n",
    "                        StructField(\"Client_Family_Members\",DoubleType(),True),StructField(\"Cleint_City_Rating\",DoubleType(),True),\\\n",
    "                        StructField(\"Application_Process_Day\",DoubleType(),True),StructField(\"Application_Process_Hour\",DoubleType(),True),\\\n",
    "                        StructField(\"Client_Permanent_Match_Tag\",StringType(),True),StructField(\"Client_Contact_Work_Tag\",StringType(),True),\\\n",
    "                        StructField(\"Type_Organization\",StringType(),True),StructField(\"Score_Source_1\",DoubleType(),True),\\\n",
    "                        StructField(\"Score_Source_2\",DoubleType(),True),StructField(\"Score_Source_3\",DoubleType(),True),\\\n",
    "                        StructField(\"Social_Circle_Default\",DoubleType(),True),StructField(\"Phone_Change\",DoubleType(),True),\\\n",
    "                        StructField(\"Credit_Bureau\",DoubleType(),True),StructField(\"Default\",DoubleType(),True)])"
   ]
  },
  {
   "cell_type": "code",
   "execution_count": 67,
   "metadata": {},
   "outputs": [],
   "source": [
    "colums_to_load = ['Score_Source_2', 'Employed_Days', 'Age_Days', 'Client_Education', 'Client_Gender', 'ID_Days', 'Population_Region_Relative', 'Credit_Amount', 'Car_Owned', 'Child_Count', 'Loan_Annuity', 'Default']\n",
    "colums_to_load = ['Client_Education', 'Employed_Days', 'Age_Days', 'Client_Income_Type', 'Client_Gender', 'Car_Owned', 'ID_Days', 'Score_Source_2', 'Phone_Change','Default']"
   ]
  },
  {
   "cell_type": "code",
   "execution_count": 68,
   "metadata": {},
   "outputs": [],
   "source": [
    "df_test_data = spark\\\n",
    ".read\\\n",
    ".schema(my_schema)\\\n",
    ".option(\"header\", \"true\")\\\n",
    ".csv(path_test_data)"
   ]
  },
  {
   "cell_type": "code",
   "execution_count": 69,
   "metadata": {},
   "outputs": [],
   "source": [
    "df_test_data = df_test_data.select(*colums_to_load)"
   ]
  },
  {
   "cell_type": "code",
   "execution_count": 70,
   "metadata": {},
   "outputs": [],
   "source": [
    "from pyspark.ml import Pipeline, PipelineModel\n",
    "from pyspark.ml.classification import LogisticRegressionModel, LogisticRegression\n",
    "from pyspark.sql.functions import count, when, isnan, col"
   ]
  },
  {
   "cell_type": "markdown",
   "metadata": {},
   "source": [
    "### Load date processing pipeline from disk"
   ]
  },
  {
   "cell_type": "code",
   "execution_count": 71,
   "metadata": {},
   "outputs": [],
   "source": [
    "model_process_data = PipelineModel.load(f\"{home}/data/my_data_processing_pipeline\")"
   ]
  },
  {
   "cell_type": "code",
   "execution_count": 72,
   "metadata": {},
   "outputs": [],
   "source": [
    "df = df_test_data.limit(100)"
   ]
  },
  {
   "cell_type": "code",
   "execution_count": 73,
   "metadata": {},
   "outputs": [],
   "source": [
    "df = model_process_data.transform(df)"
   ]
  },
  {
   "cell_type": "code",
   "execution_count": 74,
   "metadata": {},
   "outputs": [
    {
     "data": {
      "text/html": [
       "<div>\n",
       "<style scoped>\n",
       "    .dataframe tbody tr th:only-of-type {\n",
       "        vertical-align: middle;\n",
       "    }\n",
       "\n",
       "    .dataframe tbody tr th {\n",
       "        vertical-align: top;\n",
       "    }\n",
       "\n",
       "    .dataframe thead th {\n",
       "        text-align: right;\n",
       "    }\n",
       "</style>\n",
       "<table border=\"1\" class=\"dataframe\">\n",
       "  <thead>\n",
       "    <tr style=\"text-align: right;\">\n",
       "      <th></th>\n",
       "      <th>Client_Education</th>\n",
       "      <th>Employed_Days</th>\n",
       "      <th>Age_Days</th>\n",
       "      <th>Client_Income_Type</th>\n",
       "      <th>Client_Gender</th>\n",
       "      <th>Car_Owned</th>\n",
       "      <th>ID_Days</th>\n",
       "      <th>Score_Source_2</th>\n",
       "      <th>Phone_Change</th>\n",
       "      <th>Default</th>\n",
       "      <th>Client_Education_index</th>\n",
       "      <th>Client_Income_Type_index</th>\n",
       "      <th>Client_Gender_index</th>\n",
       "      <th>Client_Education_index_OHE</th>\n",
       "      <th>Client_Income_Type_index_OHE</th>\n",
       "      <th>Client_Gender_index_OHE</th>\n",
       "      <th>features</th>\n",
       "      <th>features_scaled</th>\n",
       "    </tr>\n",
       "  </thead>\n",
       "  <tbody>\n",
       "    <tr>\n",
       "      <th>0</th>\n",
       "      <td>Secondary</td>\n",
       "      <td>1062.0</td>\n",
       "      <td>13957.0</td>\n",
       "      <td>Commercial</td>\n",
       "      <td>Male</td>\n",
       "      <td>0.0</td>\n",
       "      <td>383.0</td>\n",
       "      <td>0.478787</td>\n",
       "      <td>63.000000</td>\n",
       "      <td>0.0</td>\n",
       "      <td>0.0</td>\n",
       "      <td>1.0</td>\n",
       "      <td>0.0</td>\n",
       "      <td>(1.0, 0.0, 0.0, 0.0, 0.0)</td>\n",
       "      <td>(0.0, 1.0, 0.0, 0.0, 0.0, 0.0, 0.0, 0.0)</td>\n",
       "      <td>(1.0, 0.0, 0.0)</td>\n",
       "      <td>(1062.0, 13957.0, 0.0, 383.0, 0.47878667, 63.0...</td>\n",
       "      <td>[0.0029076532609796767, 0.35840228245363764, 0...</td>\n",
       "    </tr>\n",
       "    <tr>\n",
       "      <th>1</th>\n",
       "      <td>Graduation</td>\n",
       "      <td>4129.0</td>\n",
       "      <td>14162.0</td>\n",
       "      <td>Service</td>\n",
       "      <td>Male</td>\n",
       "      <td>1.0</td>\n",
       "      <td>21.0</td>\n",
       "      <td>0.215068</td>\n",
       "      <td>962.074051</td>\n",
       "      <td>0.0</td>\n",
       "      <td>1.0</td>\n",
       "      <td>0.0</td>\n",
       "      <td>0.0</td>\n",
       "      <td>(0.0, 1.0, 0.0, 0.0, 0.0)</td>\n",
       "      <td>(1.0, 0.0, 0.0, 0.0, 0.0, 0.0, 0.0, 0.0)</td>\n",
       "      <td>(1.0, 0.0, 0.0)</td>\n",
       "      <td>(4129.0, 14162.0, 1.0, 21.0, 0.215068341, 962....</td>\n",
       "      <td>[0.011304802556106483, 0.37009985734664763, 1....</td>\n",
       "    </tr>\n",
       "    <tr>\n",
       "      <th>2</th>\n",
       "      <td>Graduation dropout</td>\n",
       "      <td>5102.0</td>\n",
       "      <td>16790.0</td>\n",
       "      <td>Service</td>\n",
       "      <td>Male</td>\n",
       "      <td>0.0</td>\n",
       "      <td>331.0</td>\n",
       "      <td>0.552795</td>\n",
       "      <td>277.000000</td>\n",
       "      <td>0.0</td>\n",
       "      <td>2.0</td>\n",
       "      <td>0.0</td>\n",
       "      <td>0.0</td>\n",
       "      <td>(0.0, 0.0, 1.0, 0.0, 0.0)</td>\n",
       "      <td>(1.0, 0.0, 0.0, 0.0, 0.0, 0.0, 0.0, 0.0)</td>\n",
       "      <td>(1.0, 0.0, 0.0)</td>\n",
       "      <td>(5102.0, 16790.0, 0.0, 331.0, 0.552794972, 277...</td>\n",
       "      <td>[0.013968782427041722, 0.5200570613409415, 0.0...</td>\n",
       "    </tr>\n",
       "  </tbody>\n",
       "</table>\n",
       "</div>"
      ],
      "text/plain": [
       "     Client_Education  Employed_Days  Age_Days Client_Income_Type  \\\n",
       "0           Secondary         1062.0   13957.0         Commercial   \n",
       "1          Graduation         4129.0   14162.0            Service   \n",
       "2  Graduation dropout         5102.0   16790.0            Service   \n",
       "\n",
       "  Client_Gender  Car_Owned  ID_Days  Score_Source_2  Phone_Change  Default  \\\n",
       "0          Male        0.0    383.0        0.478787     63.000000      0.0   \n",
       "1          Male        1.0     21.0        0.215068    962.074051      0.0   \n",
       "2          Male        0.0    331.0        0.552795    277.000000      0.0   \n",
       "\n",
       "   Client_Education_index  Client_Income_Type_index  Client_Gender_index  \\\n",
       "0                     0.0                       1.0                  0.0   \n",
       "1                     1.0                       0.0                  0.0   \n",
       "2                     2.0                       0.0                  0.0   \n",
       "\n",
       "  Client_Education_index_OHE              Client_Income_Type_index_OHE  \\\n",
       "0  (1.0, 0.0, 0.0, 0.0, 0.0)  (0.0, 1.0, 0.0, 0.0, 0.0, 0.0, 0.0, 0.0)   \n",
       "1  (0.0, 1.0, 0.0, 0.0, 0.0)  (1.0, 0.0, 0.0, 0.0, 0.0, 0.0, 0.0, 0.0)   \n",
       "2  (0.0, 0.0, 1.0, 0.0, 0.0)  (1.0, 0.0, 0.0, 0.0, 0.0, 0.0, 0.0, 0.0)   \n",
       "\n",
       "  Client_Gender_index_OHE                                           features  \\\n",
       "0         (1.0, 0.0, 0.0)  (1062.0, 13957.0, 0.0, 383.0, 0.47878667, 63.0...   \n",
       "1         (1.0, 0.0, 0.0)  (4129.0, 14162.0, 1.0, 21.0, 0.215068341, 962....   \n",
       "2         (1.0, 0.0, 0.0)  (5102.0, 16790.0, 0.0, 331.0, 0.552794972, 277...   \n",
       "\n",
       "                                     features_scaled  \n",
       "0  [0.0029076532609796767, 0.35840228245363764, 0...  \n",
       "1  [0.011304802556106483, 0.37009985734664763, 1....  \n",
       "2  [0.013968782427041722, 0.5200570613409415, 0.0...  "
      ]
     },
     "execution_count": 74,
     "metadata": {},
     "output_type": "execute_result"
    }
   ],
   "source": [
    "df.toPandas().head(3)"
   ]
  },
  {
   "cell_type": "markdown",
   "metadata": {},
   "source": [
    "# Load the Train model"
   ]
  },
  {
   "cell_type": "code",
   "execution_count": 75,
   "metadata": {},
   "outputs": [],
   "source": [
    "model = LogisticRegressionModel.load(f\"{home}/data/my_trained_model\")"
   ]
  },
  {
   "cell_type": "markdown",
   "metadata": {},
   "source": [
    "## Now we will test the model using sample data"
   ]
  },
  {
   "cell_type": "code",
   "execution_count": 76,
   "metadata": {},
   "outputs": [],
   "source": [
    "# Get sample data for testing\n",
    "df_test = df_test_data.sample(False, fraction=0.9)"
   ]
  },
  {
   "cell_type": "code",
   "execution_count": 77,
   "metadata": {},
   "outputs": [],
   "source": [
    "# Transform sample data\n",
    "df_test = model_process_data.transform(df_test)"
   ]
  },
  {
   "cell_type": "code",
   "execution_count": 78,
   "metadata": {},
   "outputs": [],
   "source": [
    "df_test_predicted = model.transform(df_test)"
   ]
  },
  {
   "cell_type": "code",
   "execution_count": 79,
   "metadata": {},
   "outputs": [
    {
     "name": "stdout",
     "output_type": "stream",
     "text": [
      "+--------------------+-------+----------+--------------------+\n",
      "|     features_scaled|Default|prediction|         probability|\n",
      "+--------------------+-------+----------+--------------------+\n",
      "|[0.00625063314012...|    1.0|       1.0|[0.00815204667352...|\n",
      "|[0.00217937099410...|    1.0|       1.0|[0.01066287882261...|\n",
      "|[0.00352094359097...|    1.0|       1.0|[0.01114256195393...|\n",
      "|[0.00623968152709...|    1.0|       1.0|[0.01229635907867...|\n",
      "|[0.00389329843419...|    1.0|       1.0|[0.00576327745933...|\n",
      "|[0.00200962099205...|    1.0|       1.0|[0.01161944756625...|\n",
      "|[0.00759220573700...|    1.0|       1.0|[0.01144735834942...|\n",
      "|[0.00418625408289...|    1.0|       1.0|[0.01423860564174...|\n",
      "|[0.00180701615089...|    1.0|       1.0|[0.00787606498800...|\n",
      "|[0.00321429842597...|    1.0|       1.0|[0.00892829800123...|\n",
      "|[0.00171118953682...|    1.0|       1.0|[0.01053757757563...|\n",
      "|[0.00319513310316...|    1.0|       1.0|[0.01850815473702...|\n",
      "|[0.00292408068053...|    1.0|       1.0|[0.00707278282908...|\n",
      "|[1.0,0.8927817403...|    1.0|       1.0|[0.01685472939169...|\n",
      "|[0.01541165744449...|    1.0|       1.0|[0.01692208271806...|\n",
      "|[0.00564008071338...|    1.0|       1.0|[0.01653825486000...|\n",
      "|[0.00236007260919...|    1.0|       1.0|[0.00585887705092...|\n",
      "|[0.00635193556070...|    1.0|       1.0|[0.01167502488280...|\n",
      "|[1.0,0.6805706134...|    1.0|       1.0|[0.01162027535478...|\n",
      "|[0.00455587102285...|    1.0|       1.0|[0.00535540843651...|\n",
      "+--------------------+-------+----------+--------------------+\n",
      "only showing top 20 rows\n",
      "\n"
     ]
    }
   ],
   "source": [
    "df_test_predicted.select(\"features_scaled\", \"Default\", \"prediction\", \"probability\").filter(\"Default=prediction\").\\\n",
    "filter(\"prediction=1\").show()"
   ]
  },
  {
   "cell_type": "code",
   "execution_count": 80,
   "metadata": {},
   "outputs": [
    {
     "name": "stdout",
     "output_type": "stream",
     "text": [
      "+--------------------+-------+----------+--------------------+\n",
      "|     features_scaled|Default|prediction|         probability|\n",
      "+--------------------+-------+----------+--------------------+\n",
      "|[0.01130480255610...|    0.0|       0.0|[0.99868282197925...|\n",
      "|[0.01396878242704...|    0.0|       0.0|[0.99872008133509...|\n",
      "|[0.00815073800182...|    0.0|       0.0|[0.99875770186950...|\n",
      "|[0.00324167745856...|    0.0|       0.0|[0.99857100253159...|\n",
      "|[1.0,0.7787161198...|    0.0|       0.0|[0.99915618155069...|\n",
      "|[1.0,0.8454778887...|    0.0|       0.0|[0.99924395257184...|\n",
      "|[0.02159931880966...|    0.0|       0.0|[0.99912552801647...|\n",
      "|[1.0,0.7321540656...|    0.0|       0.0|[0.99878601775829...|\n",
      "|[0.00619587507495...|    0.0|       0.0|[0.99922808149635...|\n",
      "|[0.00101028630254...|    0.0|       0.0|[0.99853795698309...|\n",
      "|[0.00106504436772...|    0.0|       0.0|[0.99752165458072...|\n",
      "|[1.0,0.7828815977...|    0.0|       0.0|[0.99918969729459...|\n",
      "|[0.00102123791557...|    0.0|       0.0|[0.99934847075447...|\n",
      "|[0.00838345977883...|    0.0|       0.0|[0.99916852168331...|\n",
      "|[3.42237907365781...|    0.0|       0.0|[0.99884617084353...|\n",
      "|[0.00948683479217...|    0.0|       0.0|[0.99825853643907...|\n",
      "|[0.00685570976035...|    0.0|       0.0|[0.99886476049667...|\n",
      "|[0.01650681874806...|    0.0|       0.0|[0.99920829251548...|\n",
      "|[0.00450111295767...|    0.0|       0.0|[0.99881340731639...|\n",
      "|[0.00106504436772...|    0.0|       0.0|[0.99847981610883...|\n",
      "+--------------------+-------+----------+--------------------+\n",
      "only showing top 20 rows\n",
      "\n"
     ]
    }
   ],
   "source": [
    "df_test_predicted.select(\"features_scaled\", \"Default\", \"prediction\", \"probability\").filter(\"Default=prediction\").\\\n",
    "filter(\"prediction=0\").show()"
   ]
  },
  {
   "cell_type": "markdown",
   "metadata": {},
   "source": [
    "df_test_predicted.select(\"features_scaled\", \"Default\", \"prediction\", \"probability\").filter(\"Default<>prediction\").\\\n",
    "filter(\"prediction=0\").show()"
   ]
  },
  {
   "cell_type": "code",
   "execution_count": 81,
   "metadata": {},
   "outputs": [
    {
     "name": "stdout",
     "output_type": "stream",
     "text": [
      "+---------------+-------+----------+-----------+\n",
      "|features_scaled|Default|prediction|probability|\n",
      "+---------------+-------+----------+-----------+\n",
      "+---------------+-------+----------+-----------+\n",
      "\n"
     ]
    }
   ],
   "source": [
    "df_test_predicted.select(\"features_scaled\", \"Default\", \"prediction\", \"probability\").filter(\"Default<>prediction\").\\\n",
    "filter(\"prediction=1\").show()"
   ]
  },
  {
   "cell_type": "code",
   "execution_count": 94,
   "metadata": {},
   "outputs": [],
   "source": [
    "df_test_evaluate = df_test.selectExpr(\"features_scaled\",\"Default\")"
   ]
  },
  {
   "cell_type": "code",
   "execution_count": 97,
   "metadata": {},
   "outputs": [],
   "source": [
    "training_predictions=model.evaluate(df_test_evaluate)"
   ]
  },
  {
   "cell_type": "code",
   "execution_count": 112,
   "metadata": {},
   "outputs": [
    {
     "data": {
      "text/plain": [
       "1.0"
      ]
     },
     "execution_count": 112,
     "metadata": {},
     "output_type": "execute_result"
    }
   ],
   "source": [
    "training_predictions.accuracy"
   ]
  },
  {
   "cell_type": "code",
   "execution_count": 114,
   "metadata": {},
   "outputs": [
    {
     "data": {
      "text/plain": [
       "0.9999501909778348"
      ]
     },
     "execution_count": 114,
     "metadata": {},
     "output_type": "execute_result"
    }
   ],
   "source": [
    "training_predictions.areaUnderROC"
   ]
  },
  {
   "cell_type": "code",
   "execution_count": 116,
   "metadata": {},
   "outputs": [
    {
     "data": {
      "text/plain": [
       "[0.0, 0.0]"
      ]
     },
     "execution_count": 116,
     "metadata": {},
     "output_type": "execute_result"
    }
   ],
   "source": [
    "training_predictions.falsePositiveRateByLabel"
   ]
  },
  {
   "cell_type": "code",
   "execution_count": 123,
   "metadata": {},
   "outputs": [
    {
     "name": "stdout",
     "output_type": "stream",
     "text": [
      "+--------------------+-------+--------------------+--------------------+----------+\n",
      "|     features_scaled|Default|       rawPrediction|         probability|prediction|\n",
      "+--------------------+-------+--------------------+--------------------+----------+\n",
      "|[0.01130480255610...|    0.0|[6.63094564768314...|[0.99868282197925...|       0.0|\n",
      "|[0.01396878242704...|    0.0|[6.65967800765018...|[0.99872008133509...|       0.0|\n",
      "|[0.00815073800182...|    0.0|[6.68954921319903...|[0.99875770186950...|       0.0|\n",
      "|[0.00324167745856...|    0.0|[6.54935213215870...|[0.99857100253159...|       0.0|\n",
      "|[1.0,0.7787161198...|    0.0|[7.07672901929910...|[0.99915618155069...|       0.0|\n",
      "|[1.0,0.8454778887...|    0.0|[7.18665011471914...|[0.99924395257184...|       0.0|\n",
      "|[0.02159931880966...|    0.0|[7.04101544659649...|[0.99912552801647...|       0.0|\n",
      "|[1.0,0.7321540656...|    0.0|[6.71263449465367...|[0.99878601775829...|       0.0|\n",
      "|[0.00619587507495...|    0.0|[7.16585936215876...|[0.99922808149635...|       0.0|\n",
      "|[0.00101028630254...|    0.0|[6.52645738191347...|[0.99853795698309...|       0.0|\n",
      "|[0.00106504436772...|    0.0|[5.99768268950687...|[0.99752165458072...|       0.0|\n",
      "|[1.0,0.7828815977...|    0.0|[7.11729203856075...|[0.99918969729459...|       0.0|\n",
      "|[0.00102123791557...|    0.0|[7.33553653130075...|[0.99934847075447...|       0.0|\n",
      "|[0.00838345977883...|    0.0|[7.09147351283603...|[0.99916852168331...|       0.0|\n",
      "|[3.42237907365781...|    0.0|[6.76351467118204...|[0.99884617084353...|       0.0|\n",
      "|[0.00948683479217...|    0.0|[6.35128641066706...|[0.99825853643907...|       0.0|\n",
      "|[0.00685570976035...|    0.0|[6.77977574978505...|[0.99886476049667...|       0.0|\n",
      "|[0.01650681874806...|    0.0|[7.14052655105510...|[0.99920829251548...|       0.0|\n",
      "|[0.00450111295767...|    0.0|[6.73548207276278...|[0.99881340731639...|       0.0|\n",
      "|[0.00106504436772...|    0.0|[6.48740262986682...|[0.99847981610883...|       0.0|\n",
      "+--------------------+-------+--------------------+--------------------+----------+\n",
      "only showing top 20 rows\n",
      "\n"
     ]
    }
   ],
   "source": [
    "training_predictions.predictions.show()"
   ]
  },
  {
   "cell_type": "code",
   "execution_count": 125,
   "metadata": {},
   "outputs": [
    {
     "data": {
      "text/plain": [
       "[1.0, 1.0]"
      ]
     },
     "execution_count": 125,
     "metadata": {},
     "output_type": "execute_result"
    }
   ],
   "source": [
    "training_predictions.recallByLabel"
   ]
  },
  {
   "cell_type": "code",
   "execution_count": 128,
   "metadata": {},
   "outputs": [
    {
     "data": {
      "text/plain": [
       "[1.0, 1.0]"
      ]
     },
     "execution_count": 128,
     "metadata": {},
     "output_type": "execute_result"
    }
   ],
   "source": [
    "training_predictions.truePositiveRateByLabel"
   ]
  },
  {
   "cell_type": "code",
   "execution_count": null,
   "metadata": {},
   "outputs": [],
   "source": [
    "spark.stop()"
   ]
  }
 ],
 "metadata": {
  "kernelspec": {
   "display_name": "Python 3",
   "language": "python",
   "name": "python3"
  },
  "language_info": {
   "codemirror_mode": {
    "name": "ipython",
    "version": 3
   },
   "file_extension": ".py",
   "mimetype": "text/x-python",
   "name": "python",
   "nbconvert_exporter": "python",
   "pygments_lexer": "ipython3",
   "version": "3.6.9"
  }
 },
 "nbformat": 4,
 "nbformat_minor": 4
}
