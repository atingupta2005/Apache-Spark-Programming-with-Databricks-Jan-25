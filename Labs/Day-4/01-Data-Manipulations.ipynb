{
 "cells": [
  {
   "cell_type": "markdown",
   "metadata": {},
   "source": [
    "# Data Manipulations in PySpark"
   ]
  },
  {
   "cell_type": "code",
   "execution_count": 2,
   "metadata": {},
   "outputs": [],
   "source": [
    "from pathlib import Path\n",
    "home = \"dbfs:/mnt/data\"\n",
    "\n",
    "path_LMS = f\"{home}/data/Predict-Forclosure/Foreclosure-Prediction-Dataset/LMS_31JAN2019.csv\"\n",
    "path_RMS_Final = f\"{home}/data/Predict-Forclosure/Foreclosure-Prediction-Dataset/RF_Final_Data.csv\"\n",
    "path_Customer = f\"{home}/data/Predict-Forclosure/Foreclosure-Prediction-Dataset/Customers_31JAN2019.csv\""
   ]
  },
  {
   "cell_type": "code",
   "execution_count": 4,
   "metadata": {},
   "outputs": [
    {
     "data": {
      "text/plain": [
       "DataFrame[AGREEMENTID: int, CUSTOMERID: string, LOAN_AMT: string, NET_DISBURSED_AMT: string, INTEREST_START_DATE: string, CURRENT_ROI: double, ORIGNAL_ROI: double, CURRENT_TENOR: int, ORIGNAL_TENOR: int, DUEDAY: int, AUTHORIZATIONDATE: string, CITY: string, PRE_EMI_DUEAMT: double, PRE_EMI_RECEIVED_AMT: double, PRE_EMI_OS_AMOUNT: double, EMI_DUEAMT: double, EMI_RECEIVED_AMT: double, EMI_OS_AMOUNT: double, EXCESS_AVAILABLE: double, EXCESS_ADJUSTED_AMT: double, BALANCE_EXCESS: double, NET_RECEIVABLE: double, OUTSTANDING_PRINCIPAL: double, PAID_PRINCIPAL: double, PAID_INTEREST: double, MONTHOPENING: double, LAST_RECEIPT_DATE: string, LAST_RECEIPT_AMOUNT: double, NET_LTV: double, COMPLETED_TENURE: int, BALANCE_TENURE: int, DPD: int, FOIR: double, PRODUCT: string, SCHEMEID: string, NPA_IN_LAST_MONTH: string, NPA_IN_CURRENT_MONTH: string, MOB: int]"
      ]
     },
     "execution_count": 4,
     "metadata": {},
     "output_type": "execute_result"
    }
   ],
   "source": [
    "df_lms = spark\\\n",
    ".read\\\n",
    ".option(\"inferSchema\", \"true\")\\\n",
    ".option(\"header\", \"true\")\\\n",
    ".csv(path_LMS)\n",
    "df_lms"
   ]
  },
  {
   "cell_type": "code",
   "execution_count": 7,
   "metadata": {},
   "outputs": [
    {
     "data": {
      "text/html": [
       "<div>\n",
       "<style scoped>\n",
       "    .dataframe tbody tr th:only-of-type {\n",
       "        vertical-align: middle;\n",
       "    }\n",
       "\n",
       "    .dataframe tbody tr th {\n",
       "        vertical-align: top;\n",
       "    }\n",
       "\n",
       "    .dataframe thead th {\n",
       "        text-align: right;\n",
       "    }\n",
       "</style>\n",
       "<table border=\"1\" class=\"dataframe\">\n",
       "  <thead>\n",
       "    <tr style=\"text-align: right;\">\n",
       "      <th></th>\n",
       "      <th>CUSTOMERID</th>\n",
       "      <th>CUST_CONSTTYPE_ID</th>\n",
       "      <th>CUST_CATEGORYID</th>\n",
       "      <th>PROFESSION</th>\n",
       "      <th>AGE</th>\n",
       "      <th>SEX</th>\n",
       "      <th>MARITAL_STATUS</th>\n",
       "      <th>QUALIFICATION</th>\n",
       "      <th>NO_OF_DEPENDENT</th>\n",
       "      <th>OCCUPATION</th>\n",
       "      <th>POSITION</th>\n",
       "      <th>GROSS_INCOME</th>\n",
       "      <th>PRE_JOBYEARS</th>\n",
       "      <th>NETTAKEHOMEINCOME</th>\n",
       "      <th>BRANCH_PINCODE</th>\n",
       "    </tr>\n",
       "  </thead>\n",
       "  <tbody>\n",
       "    <tr>\n",
       "      <th>0</th>\n",
       "      <td>12001000</td>\n",
       "      <td>1</td>\n",
       "      <td>5</td>\n",
       "      <td>None</td>\n",
       "      <td>33.0</td>\n",
       "      <td>M</td>\n",
       "      <td>M</td>\n",
       "      <td>POSTGRAD</td>\n",
       "      <td>0.0</td>\n",
       "      <td>None</td>\n",
       "      <td>None</td>\n",
       "      <td>198375.22180</td>\n",
       "      <td>8.0</td>\n",
       "      <td>198375.22180</td>\n",
       "      <td>400070</td>\n",
       "    </tr>\n",
       "    <tr>\n",
       "      <th>1</th>\n",
       "      <td>12001001</td>\n",
       "      <td>1</td>\n",
       "      <td>5</td>\n",
       "      <td>None</td>\n",
       "      <td>44.0</td>\n",
       "      <td>M</td>\n",
       "      <td>M</td>\n",
       "      <td>POSTGRAD</td>\n",
       "      <td>0.0</td>\n",
       "      <td>None</td>\n",
       "      <td>None</td>\n",
       "      <td>242703.98290</td>\n",
       "      <td>10.0</td>\n",
       "      <td>242703.98290</td>\n",
       "      <td>400070</td>\n",
       "    </tr>\n",
       "    <tr>\n",
       "      <th>2</th>\n",
       "      <td>12001002</td>\n",
       "      <td>1</td>\n",
       "      <td>7</td>\n",
       "      <td>None</td>\n",
       "      <td>50.0</td>\n",
       "      <td>M</td>\n",
       "      <td>M</td>\n",
       "      <td>GRAD</td>\n",
       "      <td>0.0</td>\n",
       "      <td>None</td>\n",
       "      <td>None</td>\n",
       "      <td>0.00000</td>\n",
       "      <td>NaN</td>\n",
       "      <td>0.00000</td>\n",
       "      <td>400070</td>\n",
       "    </tr>\n",
       "    <tr>\n",
       "      <th>3</th>\n",
       "      <td>12001003</td>\n",
       "      <td>3</td>\n",
       "      <td>4</td>\n",
       "      <td>None</td>\n",
       "      <td>40.0</td>\n",
       "      <td>M</td>\n",
       "      <td>M</td>\n",
       "      <td>GRAD</td>\n",
       "      <td>0.0</td>\n",
       "      <td>None</td>\n",
       "      <td>None</td>\n",
       "      <td>365263.51160</td>\n",
       "      <td>NaN</td>\n",
       "      <td>365263.51610</td>\n",
       "      <td>400070</td>\n",
       "    </tr>\n",
       "    <tr>\n",
       "      <th>4</th>\n",
       "      <td>12001004</td>\n",
       "      <td>3</td>\n",
       "      <td>4</td>\n",
       "      <td>None</td>\n",
       "      <td>27.0</td>\n",
       "      <td>M</td>\n",
       "      <td>M</td>\n",
       "      <td>GRAD</td>\n",
       "      <td>0.0</td>\n",
       "      <td>None</td>\n",
       "      <td>None</td>\n",
       "      <td>187342.19900</td>\n",
       "      <td>NaN</td>\n",
       "      <td>187342.19900</td>\n",
       "      <td>400070</td>\n",
       "    </tr>\n",
       "    <tr>\n",
       "      <th>...</th>\n",
       "      <td>...</td>\n",
       "      <td>...</td>\n",
       "      <td>...</td>\n",
       "      <td>...</td>\n",
       "      <td>...</td>\n",
       "      <td>...</td>\n",
       "      <td>...</td>\n",
       "      <td>...</td>\n",
       "      <td>...</td>\n",
       "      <td>...</td>\n",
       "      <td>...</td>\n",
       "      <td>...</td>\n",
       "      <td>...</td>\n",
       "      <td>...</td>\n",
       "      <td>...</td>\n",
       "    </tr>\n",
       "    <tr>\n",
       "      <th>9995</th>\n",
       "      <td>12014215</td>\n",
       "      <td>1</td>\n",
       "      <td>4</td>\n",
       "      <td>None</td>\n",
       "      <td>36.0</td>\n",
       "      <td>M</td>\n",
       "      <td>M</td>\n",
       "      <td>UG</td>\n",
       "      <td>0.0</td>\n",
       "      <td>None</td>\n",
       "      <td>None</td>\n",
       "      <td>679254.64900</td>\n",
       "      <td>NaN</td>\n",
       "      <td>679254.65350</td>\n",
       "      <td>395002</td>\n",
       "    </tr>\n",
       "    <tr>\n",
       "      <th>9996</th>\n",
       "      <td>12022042</td>\n",
       "      <td>1</td>\n",
       "      <td>5</td>\n",
       "      <td>None</td>\n",
       "      <td>33.0</td>\n",
       "      <td>M</td>\n",
       "      <td>M</td>\n",
       "      <td>GRAD</td>\n",
       "      <td>0.0</td>\n",
       "      <td>None</td>\n",
       "      <td>None</td>\n",
       "      <td>78043.36087</td>\n",
       "      <td>6.0</td>\n",
       "      <td>78043.36087</td>\n",
       "      <td>440010</td>\n",
       "    </tr>\n",
       "    <tr>\n",
       "      <th>9997</th>\n",
       "      <td>12024250</td>\n",
       "      <td>1</td>\n",
       "      <td>4</td>\n",
       "      <td>None</td>\n",
       "      <td>54.0</td>\n",
       "      <td>M</td>\n",
       "      <td>M</td>\n",
       "      <td>GRAD</td>\n",
       "      <td>0.0</td>\n",
       "      <td>None</td>\n",
       "      <td>None</td>\n",
       "      <td>75807.18077</td>\n",
       "      <td>NaN</td>\n",
       "      <td>75807.18077</td>\n",
       "      <td>500034</td>\n",
       "    </tr>\n",
       "    <tr>\n",
       "      <th>9998</th>\n",
       "      <td>12023448</td>\n",
       "      <td>1</td>\n",
       "      <td>4</td>\n",
       "      <td>None</td>\n",
       "      <td>64.0</td>\n",
       "      <td>M</td>\n",
       "      <td>M</td>\n",
       "      <td>GRAD</td>\n",
       "      <td>0.0</td>\n",
       "      <td>None</td>\n",
       "      <td>None</td>\n",
       "      <td>124614.56250</td>\n",
       "      <td>NaN</td>\n",
       "      <td>124614.55790</td>\n",
       "      <td>400070</td>\n",
       "    </tr>\n",
       "    <tr>\n",
       "      <th>9999</th>\n",
       "      <td>12023683</td>\n",
       "      <td>1</td>\n",
       "      <td>4</td>\n",
       "      <td>None</td>\n",
       "      <td>30.0</td>\n",
       "      <td>M</td>\n",
       "      <td>S</td>\n",
       "      <td>UG</td>\n",
       "      <td>0.0</td>\n",
       "      <td>None</td>\n",
       "      <td>None</td>\n",
       "      <td>63054.42360</td>\n",
       "      <td>NaN</td>\n",
       "      <td>63054.42360</td>\n",
       "      <td>606601</td>\n",
       "    </tr>\n",
       "  </tbody>\n",
       "</table>\n",
       "<p>10000 rows × 15 columns</p>\n",
       "</div>"
      ],
      "text/plain": [
       "      CUSTOMERID  CUST_CONSTTYPE_ID  CUST_CATEGORYID PROFESSION   AGE SEX  \\\n",
       "0       12001000                  1                5       None  33.0   M   \n",
       "1       12001001                  1                5       None  44.0   M   \n",
       "2       12001002                  1                7       None  50.0   M   \n",
       "3       12001003                  3                4       None  40.0   M   \n",
       "4       12001004                  3                4       None  27.0   M   \n",
       "...          ...                ...              ...        ...   ...  ..   \n",
       "9995    12014215                  1                4       None  36.0   M   \n",
       "9996    12022042                  1                5       None  33.0   M   \n",
       "9997    12024250                  1                4       None  54.0   M   \n",
       "9998    12023448                  1                4       None  64.0   M   \n",
       "9999    12023683                  1                4       None  30.0   M   \n",
       "\n",
       "     MARITAL_STATUS QUALIFICATION  NO_OF_DEPENDENT OCCUPATION POSITION  \\\n",
       "0                 M      POSTGRAD              0.0       None     None   \n",
       "1                 M      POSTGRAD              0.0       None     None   \n",
       "2                 M          GRAD              0.0       None     None   \n",
       "3                 M          GRAD              0.0       None     None   \n",
       "4                 M          GRAD              0.0       None     None   \n",
       "...             ...           ...              ...        ...      ...   \n",
       "9995              M            UG              0.0       None     None   \n",
       "9996              M          GRAD              0.0       None     None   \n",
       "9997              M          GRAD              0.0       None     None   \n",
       "9998              M          GRAD              0.0       None     None   \n",
       "9999              S            UG              0.0       None     None   \n",
       "\n",
       "      GROSS_INCOME  PRE_JOBYEARS  NETTAKEHOMEINCOME BRANCH_PINCODE  \n",
       "0     198375.22180           8.0       198375.22180         400070  \n",
       "1     242703.98290          10.0       242703.98290         400070  \n",
       "2          0.00000           NaN            0.00000         400070  \n",
       "3     365263.51160           NaN       365263.51610         400070  \n",
       "4     187342.19900           NaN       187342.19900         400070  \n",
       "...            ...           ...                ...            ...  \n",
       "9995  679254.64900           NaN       679254.65350         395002  \n",
       "9996   78043.36087           6.0        78043.36087         440010  \n",
       "9997   75807.18077           NaN        75807.18077         500034  \n",
       "9998  124614.56250           NaN       124614.55790         400070  \n",
       "9999   63054.42360           NaN        63054.42360         606601  \n",
       "\n",
       "[10000 rows x 15 columns]"
      ]
     },
     "execution_count": 7,
     "metadata": {},
     "output_type": "execute_result"
    }
   ],
   "source": [
    "df_Customer = spark\\\n",
    ".read\\\n",
    ".option(\"inferSchema\", \"true\")\\\n",
    ".option(\"header\", \"true\")\\\n",
    ".csv(path_Customer)\n",
    "df_Customer.toPandas()"
   ]
  },
  {
   "cell_type": "code",
   "execution_count": 5,
   "metadata": {},
   "outputs": [
    {
     "data": {
      "text/plain": [
       "'/home/atingupta2005/data/Predict-Forclosure/Foreclosure-Prediction-Dataset/Customers_31JAN2019.csv'"
      ]
     },
     "execution_count": 5,
     "metadata": {},
     "output_type": "execute_result"
    }
   ],
   "source": [
    "path_Customer"
   ]
  },
  {
   "cell_type": "code",
   "execution_count": 8,
   "metadata": {},
   "outputs": [
    {
     "data": {
      "text/plain": [
       "DataFrame[CUSTOMERID: int, CUST_CONSTTYPE_ID: int, PROFESSION: string, AGE: int, SEX: string, QUALIFICATION: string, NO_OF_DEPENDENT: int, OCCUPATION: string, PRE_JOBYEARS: int, NETTAKEHOMEINCOME: double, BRANCH_PINCODE: string]"
      ]
     },
     "execution_count": 8,
     "metadata": {},
     "output_type": "execute_result"
    }
   ],
   "source": [
    "#  Drop Columns\n",
    "drop_columns_list=[\"CUST_CATEGORYID\",\"POSITION\",\"GROSS_INCOME\",\"MARITAL_STATUS\"]\n",
    "df_Customer_1=df_Customer.drop(*drop_columns_list)\n",
    "df_Customer_1"
   ]
  },
  {
   "cell_type": "code",
   "execution_count": 6,
   "metadata": {},
   "outputs": [
    {
     "name": "stdout",
     "output_type": "stream",
     "text": [
      "+---------------+--------+------------+--------------+\n",
      "|CUST_CATEGORYID|POSITION|GROSS_INCOME|MARITAL_STATUS|\n",
      "+---------------+--------+------------+--------------+\n",
      "|              5|    null| 198375.2218|             M|\n",
      "|              5|    null| 242703.9829|             M|\n",
      "|              7|    null|         0.0|             M|\n",
      "|              4|    null| 365263.5116|             M|\n",
      "|              4|    null|  187342.199|             M|\n",
      "|              4|    null| 53536.20823|             M|\n",
      "|              4|    null| 49842.14981|             M|\n",
      "|              5|     AVP| 123370.4837|             M|\n",
      "|              4|    null| 183331.9827|             M|\n",
      "|              4|    null| 93803.84407|             M|\n",
      "|              5|    null| 35880.96962|             M|\n",
      "|              5|    null| 63576.87454|             M|\n",
      "|              5|    null| 108093.2976|             M|\n",
      "|              5|     AVP| 331757.8472|             M|\n",
      "|              5|     AVP| 59535.38624|             M|\n",
      "|              5|     AVP| 95156.63169|             M|\n",
      "|              4|    null| 90132.16997|             M|\n",
      "|              5|    null| 1102122.265|             M|\n",
      "|              4|    null| 133719.7864|             M|\n",
      "|              5|    null| 77097.54451|             S|\n",
      "+---------------+--------+------------+--------------+\n",
      "only showing top 20 rows\n",
      "\n"
     ]
    }
   ],
   "source": [
    "# Subsetting Columns\n",
    "select_columns=[\"CUST_CATEGORYID\",\"POSITION\",\"GROSS_INCOME\",\"MARITAL_STATUS\"]\n",
    "df_Customer_2=df_Customer.select(*select_columns)\n",
    "df_Customer_2.show()"
   ]
  },
  {
   "cell_type": "code",
   "execution_count": 7,
   "metadata": {},
   "outputs": [
    {
     "name": "stdout",
     "output_type": "stream",
     "text": [
      "+---------------+-----------------+--------------+----------+--------+--------------+\n",
      "|CUST_CATEGORYID|CUST_CONSTTYPE_ID|MARITAL_STATUS|OCCUPATION|POSITION|BRANCH_PINCODE|\n",
      "+---------------+-----------------+--------------+----------+--------+--------------+\n",
      "|              5|                1|             M|      null|    null|        400070|\n",
      "|              5|                1|             M|      null|    null|        400070|\n",
      "|              7|                1|             M|      null|    null|        400070|\n",
      "|              4|                3|             M|      null|    null|        400070|\n",
      "|              4|                3|             M|      null|    null|        400070|\n",
      "|              4|                3|             M|      null|    null|        400070|\n",
      "|              4|                3|             M|      null|    null|        400070|\n",
      "|              5|                1|             M|      null|     AVP|        400070|\n",
      "|              4|                1|             M|      null|    null|        400070|\n",
      "|              4|                3|             M|      null|    null|        400070|\n",
      "|              5|                1|             M|      null|    null|        400070|\n",
      "|              5|                1|             M|      null|    null|        400070|\n",
      "|              5|                1|             M|      null|    null|        400070|\n",
      "|              5|                1|             M|      null|     AVP|        400070|\n",
      "|              5|                1|             M|      null|     AVP|        400070|\n",
      "|              5|                1|             M|      null|     AVP|        400070|\n",
      "|              4|                1|             M|      null|    null|        400070|\n",
      "|              5|                1|             M|      null|    null|        400070|\n",
      "|              4|                3|             M|      null|    null|        400070|\n",
      "|              5|                1|             S|      null|    null|        400070|\n",
      "+---------------+-----------------+--------------+----------+--------+--------------+\n",
      "only showing top 20 rows\n",
      "\n"
     ]
    }
   ],
   "source": [
    "# Subsetting Columns\n",
    "df_Customer.select(df_Customer[2],df_Customer[1],df_Customer[6],df_Customer[9],df_Customer[10],df_Customer[14]).show()"
   ]
  },
  {
   "cell_type": "code",
   "execution_count": 9,
   "metadata": {},
   "outputs": [
    {
     "data": {
      "text/plain": [
       "9339"
      ]
     },
     "execution_count": 9,
     "metadata": {},
     "output_type": "execute_result"
    }
   ],
   "source": [
    "# Identifying missing values\n",
    "from pyspark.sql.functions import *\n",
    "df_Customer.filter((df_Customer['POSITION']=='')|df_Customer['POSITION'].isNull()|isnan(df_Customer['POSITION'])).count()"
   ]
  },
  {
   "cell_type": "code",
   "execution_count": 11,
   "metadata": {},
   "outputs": [
    {
     "data": {
      "text/plain": [
       "[0, 1, 2, 3, 4, 5, 6, 7, 8, 9]"
      ]
     },
     "execution_count": 11,
     "metadata": {},
     "output_type": "execute_result"
    }
   ],
   "source": [
    "[i for i in range(10)]"
   ]
  },
  {
   "cell_type": "code",
   "execution_count": 12,
   "metadata": {},
   "outputs": [
    {
     "data": {
      "text/html": [
       "<div>\n",
       "<style scoped>\n",
       "    .dataframe tbody tr th:only-of-type {\n",
       "        vertical-align: middle;\n",
       "    }\n",
       "\n",
       "    .dataframe tbody tr th {\n",
       "        vertical-align: top;\n",
       "    }\n",
       "\n",
       "    .dataframe thead th {\n",
       "        text-align: right;\n",
       "    }\n",
       "</style>\n",
       "<table border=\"1\" class=\"dataframe\">\n",
       "  <thead>\n",
       "    <tr style=\"text-align: right;\">\n",
       "      <th></th>\n",
       "      <th>CUSTOMERID</th>\n",
       "      <th>CUST_CONSTTYPE_ID</th>\n",
       "      <th>CUST_CATEGORYID</th>\n",
       "      <th>PROFESSION</th>\n",
       "      <th>AGE</th>\n",
       "      <th>SEX</th>\n",
       "      <th>MARITAL_STATUS</th>\n",
       "      <th>QUALIFICATION</th>\n",
       "      <th>NO_OF_DEPENDENT</th>\n",
       "      <th>OCCUPATION</th>\n",
       "      <th>POSITION</th>\n",
       "      <th>GROSS_INCOME</th>\n",
       "      <th>PRE_JOBYEARS</th>\n",
       "      <th>NETTAKEHOMEINCOME</th>\n",
       "      <th>BRANCH_PINCODE</th>\n",
       "    </tr>\n",
       "  </thead>\n",
       "  <tbody>\n",
       "    <tr>\n",
       "      <th>0</th>\n",
       "      <td>0</td>\n",
       "      <td>0</td>\n",
       "      <td>0</td>\n",
       "      <td>10000</td>\n",
       "      <td>396</td>\n",
       "      <td>394</td>\n",
       "      <td>396</td>\n",
       "      <td>404</td>\n",
       "      <td>79</td>\n",
       "      <td>10000</td>\n",
       "      <td>9339</td>\n",
       "      <td>0</td>\n",
       "      <td>7625</td>\n",
       "      <td>0</td>\n",
       "      <td>0</td>\n",
       "    </tr>\n",
       "  </tbody>\n",
       "</table>\n",
       "</div>"
      ],
      "text/plain": [
       "   CUSTOMERID  CUST_CONSTTYPE_ID  CUST_CATEGORYID  PROFESSION  AGE  SEX  \\\n",
       "0           0                  0                0       10000  396  394   \n",
       "\n",
       "   MARITAL_STATUS  QUALIFICATION  NO_OF_DEPENDENT  OCCUPATION  POSITION  \\\n",
       "0             396            404               79       10000      9339   \n",
       "\n",
       "   GROSS_INCOME  PRE_JOBYEARS  NETTAKEHOMEINCOME  BRANCH_PINCODE  \n",
       "0             0          7625                  0               0  "
      ]
     },
     "execution_count": 12,
     "metadata": {},
     "output_type": "execute_result"
    }
   ],
   "source": [
    "# Identifying missing values\n",
    "df_Customer.select([count(when((col(c)=='') | col(c).isNull() |isnan(c), c)).alias(c) for c in df_Customer.columns]).toPandas()"
   ]
  },
  {
   "cell_type": "code",
   "execution_count": 10,
   "metadata": {},
   "outputs": [
    {
     "name": "stdout",
     "output_type": "stream",
     "text": [
      "+--------------+-----+\n",
      "|BRANCH_PINCODE|count|\n",
      "+--------------+-----+\n",
      "|        560095|  378|\n",
      "|        613009|   92|\n",
      "|        603001|   32|\n",
      "|        500050|   79|\n",
      "|        639001|  195|\n",
      "|        602001|   85|\n",
      "|        612001|   13|\n",
      "|        500034|  871|\n",
      "|        625010|  318|\n",
      "|        500092|   16|\n",
      "|             0|  207|\n",
      "|        520003|  115|\n",
      "|        411005|  714|\n",
      "|        570009|  100|\n",
      "|        636004|  104|\n",
      "|        620017|  208|\n",
      "|        631501|   47|\n",
      "|        641002|  396|\n",
      "|        632007|   92|\n",
      "|        635109|   64|\n",
      "+--------------+-----+\n",
      "only showing top 20 rows\n",
      "\n"
     ]
    }
   ],
   "source": [
    "# One way Frequencies\n",
    "df_Customer.groupBy(df_Customer['BRANCH_PINCODE']).count().show()"
   ]
  },
  {
   "cell_type": "code",
   "execution_count": 13,
   "metadata": {},
   "outputs": [
    {
     "name": "stdout",
     "output_type": "stream",
     "text": [
      "+--------------+-----+\n",
      "|BRANCH_PINCODE|count|\n",
      "+--------------+-----+\n",
      "|400070        |1525 |\n",
      "|500034        |871  |\n",
      "|380015        |750  |\n",
      "|411005        |714  |\n",
      "|110001        |560  |\n",
      "|395002        |497  |\n",
      "|600017        |473  |\n",
      "|641002        |396  |\n",
      "|560095        |378  |\n",
      "|625010        |318  |\n",
      "|620017        |208  |\n",
      "|0             |207  |\n",
      "|639001        |195  |\n",
      "|605005        |188  |\n",
      "|628002        |156  |\n",
      "|506009        |144  |\n",
      "|391440        |143  |\n",
      "|360001        |143  |\n",
      "|530016        |142  |\n",
      "|627005        |137  |\n",
      "|524001        |117  |\n",
      "|520003        |115  |\n",
      "|641601        |113  |\n",
      "|600053        |108  |\n",
      "|636004        |104  |\n",
      "|570009        |100  |\n",
      "|632007        |92   |\n",
      "|637001        |92   |\n",
      "|613009        |92   |\n",
      "|602001        |85   |\n",
      "|518002        |85   |\n",
      "|533101        |83   |\n",
      "|500050        |79   |\n",
      "|#N/A          |73   |\n",
      "|635109        |64   |\n",
      "|440010        |52   |\n",
      "|624003        |50   |\n",
      "|517501        |48   |\n",
      "|631501        |47   |\n",
      "|622001        |41   |\n",
      "|606601        |38   |\n",
      "|302001        |34   |\n",
      "|603001        |32   |\n",
      "|422007        |31   |\n",
      "|621212        |30   |\n",
      "|500092        |16   |\n",
      "|612001        |13   |\n",
      "|505001        |11   |\n",
      "|534006        |9    |\n",
      "|400053        |1    |\n",
      "+--------------+-----+\n",
      "\n"
     ]
    }
   ],
   "source": [
    "#Frequencies - descending order\n",
    "df_Customer.groupby(df_Customer['BRANCH_PINCODE']).count().sort(desc(\"count\")).show(100, False)"
   ]
  },
  {
   "cell_type": "code",
   "execution_count": 14,
   "metadata": {},
   "outputs": [
    {
     "name": "stdout",
     "output_type": "stream",
     "text": [
      "+--------------+-----+\n",
      "|BRANCH_PINCODE|count|\n",
      "+--------------+-----+\n",
      "|400070        |1525 |\n",
      "|500034        |871  |\n",
      "|380015        |750  |\n",
      "|411005        |714  |\n",
      "|110001        |560  |\n",
      "|395002        |497  |\n",
      "|600017        |473  |\n",
      "|641002        |396  |\n",
      "|560095        |378  |\n",
      "|625010        |318  |\n",
      "+--------------+-----+\n",
      "only showing top 10 rows\n",
      "\n"
     ]
    },
    {
     "data": {
      "text/plain": [
       "49"
      ]
     },
     "execution_count": 14,
     "metadata": {},
     "output_type": "execute_result"
    }
   ],
   "source": [
    "#  One way frquencies with filters\n",
    "df_temp=df_Customer.filter((df_Customer['BRANCH_PINCODE']!='')&(df_Customer['BRANCH_PINCODE'].isNotNull()) & (~isnan(df_Customer['BRANCH_PINCODE'])))\n",
    "df_temp.groupby(df_temp['BRANCH_PINCODE']).count().filter(\"`count` >4\").sort(col(\"count\").desc()).show(10,False)\n",
    "df_temp.groupby(df_temp['BRANCH_PINCODE']).count().filter(\"`count` >4\").sort(col(\"count\").desc()).count()"
   ]
  },
  {
   "cell_type": "code",
   "execution_count": 13,
   "metadata": {},
   "outputs": [
    {
     "name": "stdout",
     "output_type": "stream",
     "text": [
      "+--------+-----+\n",
      "|POSITION|count|\n",
      "+--------+-----+\n",
      "|OTH     |254  |\n",
      "|MGR     |95   |\n",
      "|MD      |75   |\n",
      "|AST     |47   |\n",
      "|SM      |26   |\n",
      "|ASTM    |21   |\n",
      "|OFF     |20   |\n",
      "|DM      |14   |\n",
      "|POSITION|14   |\n",
      "|CP1     |13   |\n",
      "+--------+-----+\n",
      "only showing top 10 rows\n",
      "\n"
     ]
    },
    {
     "data": {
      "text/plain": [
       "17"
      ]
     },
     "execution_count": 13,
     "metadata": {},
     "output_type": "execute_result"
    }
   ],
   "source": [
    "#  One way frquencies with filters\n",
    "df_temp=df_Customer.filter((df_Customer['POSITION']!='')&(df_Customer['POSITION'].isNotNull()) & (~isnan(df_Customer['POSITION'])))\n",
    "df_temp.groupby(df_temp['POSITION']).count().filter(\"`count` >4\").sort(col(\"count\").desc()).show(10,False)\n",
    "df_temp.groupby(df_temp['POSITION']).count().filter(\"`count` >4\").sort(col(\"count\").desc()).count()"
   ]
  },
  {
   "cell_type": "code",
   "execution_count": 15,
   "metadata": {},
   "outputs": [
    {
     "data": {
      "text/html": [
       "<div>\n",
       "<style scoped>\n",
       "    .dataframe tbody tr th:only-of-type {\n",
       "        vertical-align: middle;\n",
       "    }\n",
       "\n",
       "    .dataframe tbody tr th {\n",
       "        vertical-align: top;\n",
       "    }\n",
       "\n",
       "    .dataframe thead th {\n",
       "        text-align: right;\n",
       "    }\n",
       "</style>\n",
       "<table border=\"1\" class=\"dataframe\">\n",
       "  <thead>\n",
       "    <tr style=\"text-align: right;\">\n",
       "      <th></th>\n",
       "      <th>summary</th>\n",
       "      <th>AGREEMENTID</th>\n",
       "      <th>CUSTOMERID</th>\n",
       "      <th>LOAN_AMT</th>\n",
       "      <th>NET_DISBURSED_AMT</th>\n",
       "      <th>INTEREST_START_DATE</th>\n",
       "      <th>CURRENT_ROI</th>\n",
       "      <th>ORIGNAL_ROI</th>\n",
       "      <th>CURRENT_TENOR</th>\n",
       "      <th>ORIGNAL_TENOR</th>\n",
       "      <th>...</th>\n",
       "      <th>NET_LTV</th>\n",
       "      <th>COMPLETED_TENURE</th>\n",
       "      <th>BALANCE_TENURE</th>\n",
       "      <th>DPD</th>\n",
       "      <th>FOIR</th>\n",
       "      <th>PRODUCT</th>\n",
       "      <th>SCHEMEID</th>\n",
       "      <th>NPA_IN_LAST_MONTH</th>\n",
       "      <th>NPA_IN_CURRENT_MONTH</th>\n",
       "      <th>MOB</th>\n",
       "    </tr>\n",
       "  </thead>\n",
       "  <tbody>\n",
       "    <tr>\n",
       "      <th>0</th>\n",
       "      <td>count</td>\n",
       "      <td>624250</td>\n",
       "      <td>624250</td>\n",
       "      <td>624250</td>\n",
       "      <td>624250</td>\n",
       "      <td>624250</td>\n",
       "      <td>624250</td>\n",
       "      <td>624250</td>\n",
       "      <td>624245</td>\n",
       "      <td>624250</td>\n",
       "      <td>...</td>\n",
       "      <td>624250</td>\n",
       "      <td>624250</td>\n",
       "      <td>624245</td>\n",
       "      <td>624219</td>\n",
       "      <td>624250</td>\n",
       "      <td>624250</td>\n",
       "      <td>624250</td>\n",
       "      <td>13359</td>\n",
       "      <td>13436</td>\n",
       "      <td>624250</td>\n",
       "    </tr>\n",
       "    <tr>\n",
       "      <th>1</th>\n",
       "      <td>mean</td>\n",
       "      <td>1.1230806668094514E7</td>\n",
       "      <td>1.201178723400039E7</td>\n",
       "      <td>None</td>\n",
       "      <td>None</td>\n",
       "      <td>None</td>\n",
       "      <td>15.070268802571146</td>\n",
       "      <td>14.994810572696833</td>\n",
       "      <td>178.40649104117773</td>\n",
       "      <td>177.91032599118944</td>\n",
       "      <td>...</td>\n",
       "      <td>48.8250461994426</td>\n",
       "      <td>15.25693712454946</td>\n",
       "      <td>163.14943171350993</td>\n",
       "      <td>7.921803085135185</td>\n",
       "      <td>21.479575541049343</td>\n",
       "      <td>None</td>\n",
       "      <td>1.0901193944631847E7</td>\n",
       "      <td>0.0</td>\n",
       "      <td>0.0</td>\n",
       "      <td>16.767239086904286</td>\n",
       "    </tr>\n",
       "    <tr>\n",
       "      <th>2</th>\n",
       "      <td>stddev</td>\n",
       "      <td>7984.2113539025395</td>\n",
       "      <td>7961.735717271085</td>\n",
       "      <td>None</td>\n",
       "      <td>None</td>\n",
       "      <td>None</td>\n",
       "      <td>2.516012743468279</td>\n",
       "      <td>2.4815457275876884</td>\n",
       "      <td>49.490712095415425</td>\n",
       "      <td>44.21233844116162</td>\n",
       "      <td>...</td>\n",
       "      <td>20.531984398170117</td>\n",
       "      <td>15.549111100028226</td>\n",
       "      <td>52.99532924976943</td>\n",
       "      <td>65.11279165756227</td>\n",
       "      <td>2687.1319472062837</td>\n",
       "      <td>None</td>\n",
       "      <td>85.4658747872694</td>\n",
       "      <td>0.0</td>\n",
       "      <td>0.0</td>\n",
       "      <td>15.613275744214356</td>\n",
       "    </tr>\n",
       "    <tr>\n",
       "      <th>3</th>\n",
       "      <td>min</td>\n",
       "      <td>11220001</td>\n",
       "      <td>#N/A</td>\n",
       "      <td>1,00,08,651.18</td>\n",
       "      <td>1,00,00,050.25</td>\n",
       "      <td>01-Aug-13</td>\n",
       "      <td>-5.1</td>\n",
       "      <td>0.0</td>\n",
       "      <td>0</td>\n",
       "      <td>0</td>\n",
       "      <td>...</td>\n",
       "      <td>0.38</td>\n",
       "      <td>0</td>\n",
       "      <td>0</td>\n",
       "      <td>0</td>\n",
       "      <td>-170.33</td>\n",
       "      <td>HL</td>\n",
       "      <td>#N/A</td>\n",
       "      <td>#N/</td>\n",
       "      <td>0</td>\n",
       "      <td>0</td>\n",
       "    </tr>\n",
       "    <tr>\n",
       "      <th>4</th>\n",
       "      <td>max</td>\n",
       "      <td>11253354</td>\n",
       "      <td>12033895</td>\n",
       "      <td>99,98,630.03</td>\n",
       "      <td>99,97,700.73</td>\n",
       "      <td>31-Oct-18</td>\n",
       "      <td>37.5</td>\n",
       "      <td>34.1</td>\n",
       "      <td>713</td>\n",
       "      <td>300</td>\n",
       "      <td>...</td>\n",
       "      <td>104.86</td>\n",
       "      <td>98</td>\n",
       "      <td>693</td>\n",
       "      <td>2268</td>\n",
       "      <td>547616.0</td>\n",
       "      <td>STLAP</td>\n",
       "      <td>10901455</td>\n",
       "      <td>yes</td>\n",
       "      <td>yes</td>\n",
       "      <td>98</td>\n",
       "    </tr>\n",
       "  </tbody>\n",
       "</table>\n",
       "<p>5 rows × 39 columns</p>\n",
       "</div>"
      ],
      "text/plain": [
       "  summary           AGREEMENTID           CUSTOMERID          LOAN_AMT  \\\n",
       "0   count                624250               624250            624250   \n",
       "1    mean  1.1230806668094514E7  1.201178723400039E7              None   \n",
       "2  stddev    7984.2113539025395    7961.735717271085              None   \n",
       "3     min              11220001                 #N/A   1,00,08,651.18    \n",
       "4     max              11253354             12033895     99,98,630.03    \n",
       "\n",
       "  NET_DISBURSED_AMT INTEREST_START_DATE         CURRENT_ROI  \\\n",
       "0            624250              624250              624250   \n",
       "1              None                None  15.070268802571146   \n",
       "2              None                None   2.516012743468279   \n",
       "3   1,00,00,050.25            01-Aug-13                -5.1   \n",
       "4     99,97,700.73            31-Oct-18                37.5   \n",
       "\n",
       "          ORIGNAL_ROI       CURRENT_TENOR       ORIGNAL_TENOR  ...  \\\n",
       "0              624250              624245              624250  ...   \n",
       "1  14.994810572696833  178.40649104117773  177.91032599118944  ...   \n",
       "2  2.4815457275876884  49.490712095415425   44.21233844116162  ...   \n",
       "3                 0.0                   0                   0  ...   \n",
       "4                34.1                 713                 300  ...   \n",
       "\n",
       "              NET_LTV    COMPLETED_TENURE      BALANCE_TENURE  \\\n",
       "0              624250              624250              624245   \n",
       "1    48.8250461994426   15.25693712454946  163.14943171350993   \n",
       "2  20.531984398170117  15.549111100028226   52.99532924976943   \n",
       "3                0.38                   0                   0   \n",
       "4              104.86                  98                 693   \n",
       "\n",
       "                 DPD                FOIR PRODUCT              SCHEMEID  \\\n",
       "0             624219              624250  624250                624250   \n",
       "1  7.921803085135185  21.479575541049343    None  1.0901193944631847E7   \n",
       "2  65.11279165756227  2687.1319472062837    None      85.4658747872694   \n",
       "3                  0             -170.33      HL                  #N/A   \n",
       "4               2268            547616.0   STLAP              10901455   \n",
       "\n",
       "  NPA_IN_LAST_MONTH NPA_IN_CURRENT_MONTH                 MOB  \n",
       "0             13359                13436              624250  \n",
       "1               0.0                  0.0  16.767239086904286  \n",
       "2               0.0                  0.0  15.613275744214356  \n",
       "3               #N/                    0                   0  \n",
       "4               yes                  yes                  98  \n",
       "\n",
       "[5 rows x 39 columns]"
      ]
     },
     "execution_count": 15,
     "metadata": {},
     "output_type": "execute_result"
    }
   ],
   "source": [
    "# Describe function\n",
    "df_lms.describe().toPandas()"
   ]
  },
  {
   "cell_type": "code",
   "execution_count": 22,
   "metadata": {},
   "outputs": [
    {
     "name": "stdout",
     "output_type": "stream",
     "text": [
      "The median of PRE_EMI_RECEIVED_AMT is [13997.80258]\n"
     ]
    }
   ],
   "source": [
    "# Median Calculation\n",
    "col_name = \"PRE_EMI_RECEIVED_AMT\"\n",
    "df_temp = df_lms.filter((df_lms[col_name]!=0)&(df_lms[col_name].isNotNull()) & (~isnan(df_lms[col_name])))\n",
    "median=df_temp.approxQuantile(col_name,[0.5],0.001)\n",
    "print (f'The median of {col_name} is '+str(median))"
   ]
  },
  {
   "cell_type": "code",
   "execution_count": 16,
   "metadata": {},
   "outputs": [
    {
     "name": "stdout",
     "output_type": "stream",
     "text": [
      "+-----+\n",
      "|count|\n",
      "+-----+\n",
      "|27763|\n",
      "+-----+\n",
      "\n"
     ]
    }
   ],
   "source": [
    "# Distinct Counts\n",
    "df_lms.agg(countDistinct(col(col_name)).alias(\"count\")).show()"
   ]
  },
  {
   "cell_type": "code",
   "execution_count": 17,
   "metadata": {
    "scrolled": true
   },
   "outputs": [
    {
     "name": "stdout",
     "output_type": "stream",
     "text": [
      "+--------------------+\n",
      "|PRE_EMI_RECEIVED_AMT|\n",
      "+--------------------+\n",
      "|17633.07917         |\n",
      "|8628.812664         |\n",
      "|19797.46013         |\n",
      "|10128.41947         |\n",
      "|14004.42823         |\n",
      "|29669.68757         |\n",
      "|1777.88436          |\n",
      "|18165.3402          |\n",
      "|60463.5281          |\n",
      "|34524.08486         |\n",
      "+--------------------+\n",
      "only showing top 10 rows\n",
      "\n"
     ]
    }
   ],
   "source": [
    "# Distinct Values\n",
    "df_lms.select(col_name).distinct().show(10,False)"
   ]
  },
  {
   "cell_type": "code",
   "execution_count": 18,
   "metadata": {},
   "outputs": [
    {
     "name": "stdout",
     "output_type": "stream",
     "text": [
      "+-------------------+------------------------------------+\n",
      "|INTEREST_START_DATE|count(DISTINCT PRE_EMI_RECEIVED_AMT)|\n",
      "+-------------------+------------------------------------+\n",
      "|2018-05-28         |85                                  |\n",
      "|2015-05-19         |4                                   |\n",
      "|2014-11-12         |18                                  |\n",
      "|2018-08-10         |18                                  |\n",
      "|2014-09-26         |48                                  |\n",
      "|2013-05-21         |3                                   |\n",
      "|2015-03-09         |11                                  |\n",
      "|2012-04-17         |2                                   |\n",
      "|2013-01-22         |4                                   |\n",
      "|2013-03-26         |4                                   |\n",
      "+-------------------+------------------------------------+\n",
      "only showing top 10 rows\n",
      "\n"
     ]
    }
   ],
   "source": [
    "# Distinct Aggregations\n",
    "df_temp=df_lms.withColumn('INTEREST_START_DATE',to_date('INTEREST_START_DATE','dd-MMM-yy'))\n",
    "df_temp.groupBy(\"INTEREST_START_DATE\").agg(countDistinct(col_name)).show(10,False)"
   ]
  },
  {
   "cell_type": "code",
   "execution_count": 19,
   "metadata": {},
   "outputs": [
    {
     "data": {
      "text/plain": [
       "DataFrame[CUSTOMERID: int, CUST_CONSTTYPE_ID: int, CUST_CATEGORYID: int, PROFESSION: string, AGE: int, SEX: string, MARITAL_STATUS: string, QUALIFICATION: string, NO_OF_DEPENDENT: int, OCCUPATION: string, POSITION: string, GROSS_INCOME: double, PRE_JOBYEARS: int, NETTAKEHOMEINCOME: double, BRANCH_PINCODE: string]"
      ]
     },
     "execution_count": 19,
     "metadata": {},
     "output_type": "execute_result"
    }
   ],
   "source": [
    "df_Customer"
   ]
  },
  {
   "cell_type": "code",
   "execution_count": 24,
   "metadata": {},
   "outputs": [
    {
     "name": "stdout",
     "output_type": "stream",
     "text": [
      "+----------+-----------------+---------------+----------+---+---+--------------+-------------+---------------+----------+--------+------------+------------+-----------------+--------------+\n",
      "|CUSTOMERID|CUST_CONSTTYPE_ID|CUST_CATEGORYID|PROFESSION|AGE|SEX|MARITAL_STATUS|QUALIFICATION|NO_OF_DEPENDENT|OCCUPATION|POSITION|GROSS_INCOME|PRE_JOBYEARS|NETTAKEHOMEINCOME|BRANCH_PINCODE|\n",
      "+----------+-----------------+---------------+----------+---+---+--------------+-------------+---------------+----------+--------+------------+------------+-----------------+--------------+\n",
      "|12001071  |1                |4              |null      |29 |M  |M             |OTHERS       |0              |null      |null    |1540694.936 |null        |1540694.932      |400070        |\n",
      "|12001072  |1                |5              |null      |39 |M  |M             |OTHERS       |0              |null      |null    |55040.50662 |7           |55040.50662      |400070        |\n",
      "|12001077  |1                |4              |null      |32 |M  |S             |OTHERS       |0              |null      |null    |103025.1782 |null        |103025.1737      |400070        |\n",
      "|12001078  |1                |4              |null      |43 |M  |M             |OTHERS       |2              |null      |null    |269211.1168 |null        |269211.1123      |400070        |\n",
      "|12001081  |1                |7              |null      |70 |M  |M             |OTHERS       |0              |null      |null    |0.120103664 |null        |0.124607551      |400070        |\n",
      "|12001217  |1                |4              |null      |43 |M  |M             |OTHERS       |0              |null      |null    |27760.08531 |null        |27760.08531      |400070        |\n",
      "|12001261  |1                |4              |null      |50 |M  |M             |OTHERS       |0              |null      |null    |107468.7585 |null        |107468.7585      |411005        |\n",
      "|12001316  |1                |4              |null      |48 |M  |M             |OTHERS       |0              |null      |null    |4127027.624 |null        |4127027.624      |411005        |\n",
      "|12001324  |1                |5              |null      |36 |M  |M             |OTHERS       |0              |null      |null    |169879.1262 |null        |169879.1262      |411005        |\n",
      "|12001329  |1                |4              |null      |26 |M  |S             |OTHERS       |0              |null      |null    |76552.57414 |null        |76552.57414      |380015        |\n",
      "+----------+-----------------+---------------+----------+---+---+--------------+-------------+---------------+----------+--------+------------+------------+-----------------+--------------+\n",
      "only showing top 10 rows\n",
      "\n"
     ]
    }
   ],
   "source": [
    "# Filtering based on like\n",
    "df_Customer.filter(df_Customer['QUALIFICATION'].like('%E%')).show(10,False)"
   ]
  },
  {
   "cell_type": "code",
   "execution_count": 21,
   "metadata": {},
   "outputs": [
    {
     "name": "stdout",
     "output_type": "stream",
     "text": [
      "+----------+-----------------+---------------+----------+---+---+--------------+-------------+---------------+----------+--------+------------+------------+-----------------+--------------+\n",
      "|CUSTOMERID|CUST_CONSTTYPE_ID|CUST_CATEGORYID|PROFESSION|AGE|SEX|MARITAL_STATUS|QUALIFICATION|NO_OF_DEPENDENT|OCCUPATION|POSITION|GROSS_INCOME|PRE_JOBYEARS|NETTAKEHOMEINCOME|BRANCH_PINCODE|\n",
      "+----------+-----------------+---------------+----------+---+---+--------------+-------------+---------------+----------+--------+------------+------------+-----------------+--------------+\n",
      "|12001000  |1                |5              |null      |33 |M  |M             |POSTGRAD     |0              |null      |null    |198375.2218 |8           |198375.2218      |400070        |\n",
      "|12001001  |1                |5              |null      |44 |M  |M             |POSTGRAD     |0              |null      |null    |242703.9829 |10          |242703.9829      |400070        |\n",
      "|12001002  |1                |7              |null      |50 |M  |M             |GRAD         |0              |null      |null    |0.0         |null        |0.0              |400070        |\n",
      "|12001003  |3                |4              |null      |40 |M  |M             |GRAD         |0              |null      |null    |365263.5116 |null        |365263.5161      |400070        |\n",
      "|12001004  |3                |4              |null      |27 |M  |M             |GRAD         |0              |null      |null    |187342.199  |null        |187342.199       |400070        |\n",
      "|12001005  |3                |4              |null      |43 |M  |M             |GRAD         |0              |null      |null    |53536.20823 |null        |53536.20823      |400070        |\n",
      "|12001006  |3                |4              |null      |48 |M  |M             |UG           |0              |null      |null    |49842.14981 |null        |49842.1453       |400070        |\n",
      "|12001007  |1                |5              |null      |33 |M  |M             |POSTGRAD     |0              |null      |AVP     |123370.4837 |7           |123370.4837      |400070        |\n",
      "|12001008  |1                |4              |null      |44 |M  |M             |GRAD         |0              |null      |null    |183331.9827 |null        |183331.9872      |400070        |\n",
      "|12001009  |3                |4              |null      |37 |M  |M             |UG           |0              |null      |null    |93803.84407 |null        |93803.83957      |400070        |\n",
      "+----------+-----------------+---------------+----------+---+---+--------------+-------------+---------------+----------+--------+------------+------------+-----------------+--------------+\n",
      "only showing top 10 rows\n",
      "\n"
     ]
    }
   ],
   "source": [
    "# Filtering based on not like\n",
    "df_Customer.filter(~df_Customer['QUALIFICATION'].like('%C')).show(10,False)"
   ]
  },
  {
   "cell_type": "code",
   "execution_count": 22,
   "metadata": {},
   "outputs": [
    {
     "name": "stdout",
     "output_type": "stream",
     "text": [
      "+-------------+\n",
      "|QUALIFICATION|\n",
      "+-------------+\n",
      "|       OTHERS|\n",
      "|          MAT|\n",
      "|          PRF|\n",
      "|         null|\n",
      "|     DOCTRATE|\n",
      "|          ENG|\n",
      "|         GRAD|\n",
      "|           UG|\n",
      "|         null|\n",
      "|     POSTGRAD|\n",
      "+-------------+\n",
      "\n"
     ]
    }
   ],
   "source": [
    "df_Customer.select('QUALIFICATION').distinct().show()"
   ]
  },
  {
   "cell_type": "code",
   "execution_count": 29,
   "metadata": {},
   "outputs": [
    {
     "name": "stdout",
     "output_type": "stream",
     "text": [
      "+----------+-----------------+---------------+----------+---+---+--------------+-------------+---------------+----------+--------+------------+------------+-----------------+--------------+\n",
      "|CUSTOMERID|CUST_CONSTTYPE_ID|CUST_CATEGORYID|PROFESSION|AGE|SEX|MARITAL_STATUS|QUALIFICATION|NO_OF_DEPENDENT|OCCUPATION|POSITION|GROSS_INCOME|PRE_JOBYEARS|NETTAKEHOMEINCOME|BRANCH_PINCODE|\n",
      "+----------+-----------------+---------------+----------+---+---+--------------+-------------+---------------+----------+--------+------------+------------+-----------------+--------------+\n",
      "|12001000  |1                |5              |null      |33 |M  |M             |POSTGRAD     |0              |null      |null    |198375.2218 |8           |198375.2218      |400070        |\n",
      "|12001001  |1                |5              |null      |44 |M  |M             |POSTGRAD     |0              |null      |null    |242703.9829 |10          |242703.9829      |400070        |\n",
      "|12001002  |1                |7              |null      |50 |M  |M             |GRAD         |0              |null      |null    |0.0         |null        |0.0              |400070        |\n",
      "|12001003  |3                |4              |null      |40 |M  |M             |GRAD         |0              |null      |null    |365263.5116 |null        |365263.5161      |400070        |\n",
      "|12001004  |3                |4              |null      |27 |M  |M             |GRAD         |0              |null      |null    |187342.199  |null        |187342.199       |400070        |\n",
      "|12001005  |3                |4              |null      |43 |M  |M             |GRAD         |0              |null      |null    |53536.20823 |null        |53536.20823      |400070        |\n",
      "|12001007  |1                |5              |null      |33 |M  |M             |POSTGRAD     |0              |null      |AVP     |123370.4837 |7           |123370.4837      |400070        |\n",
      "|12001008  |1                |4              |null      |44 |M  |M             |GRAD         |0              |null      |null    |183331.9827 |null        |183331.9872      |400070        |\n",
      "|12001010  |1                |5              |null      |30 |M  |M             |GRAD         |0              |null      |null    |35880.96962 |5           |35880.96962      |400070        |\n",
      "|12001011  |1                |5              |null      |33 |M  |M             |GRAD         |0              |null      |null    |63576.87454 |0           |63576.87454      |400070        |\n",
      "+----------+-----------------+---------------+----------+---+---+--------------+-------------+---------------+----------+--------+------------+------------+-----------------+--------------+\n",
      "only showing top 10 rows\n",
      "\n"
     ]
    }
   ],
   "source": [
    "# Filtering based on not regular expressions - P1\n",
    "df_Customer.filter(df_Customer['QUALIFICATION'].rlike('E.*G')).show(10,False)"
   ]
  },
  {
   "cell_type": "code",
   "execution_count": 24,
   "metadata": {},
   "outputs": [
    {
     "name": "stdout",
     "output_type": "stream",
     "text": [
      "+----------+-----------------+---------------+----------+---+---+--------------+-------------+---------------+----------+--------+------------+------------+-----------------+--------------+\n",
      "|CUSTOMERID|CUST_CONSTTYPE_ID|CUST_CATEGORYID|PROFESSION|AGE|SEX|MARITAL_STATUS|QUALIFICATION|NO_OF_DEPENDENT|OCCUPATION|POSITION|GROSS_INCOME|PRE_JOBYEARS|NETTAKEHOMEINCOME|BRANCH_PINCODE|\n",
      "+----------+-----------------+---------------+----------+---+---+--------------+-------------+---------------+----------+--------+------------+------------+-----------------+--------------+\n",
      "|  12001690|                1|              5|      null| 42|  M|             M|     DOCTRATE|              2|      null|    null| 109827.2942|           0|      109827.2942|        110001|\n",
      "|  12001732|                1|              6|      null| 48|  F|             M|     DOCTRATE|              0|      null|    null|         0.0|        null|              0.0|        411005|\n",
      "|  12002398|                1|              6|      null| 42|  M|             M|     DOCTRATE|              0|      null|    null| 76342.39273|        null|      76342.39273|        625010|\n",
      "|  12003102|                1|              4|      null| 51|  M|             M|          MAT|              0|      null|    null| 212359.1617|        null|      212359.1662|        400070|\n",
      "|  12007013|                1|              5|      null| 44|  M|             M|     DOCTRATE|              0|      null|    null| 188846.4974|        null|      188846.4974|        517501|\n",
      "|  12007285|                1|              4|      null| 38|  M|             M|          MAT|              0|      null|    null| 33864.54921|        null|       33864.5417|        400070|\n",
      "|  12007766|                1|              5|      null| 22|  M|             S|          MAT|              0|      null|    null|  41285.6345|        null|       41285.6345|        625010|\n",
      "|  12007907|                1|              4|      null| 45|  F|             M|          MAT|              0|      null|    null|   1.5012958|        null|        1.5012958|             0|\n",
      "|  12007980|                1|              4|      null| 37|  M|             M|          MAT|              0|      null|    null|  51044.0572|        null|       51044.0572|             0|\n",
      "|  12008133|                1|              4|      null| 49|  M|             M|          MAT|              0|      null|    null|  81820.6211|        null|       81820.6211|             0|\n",
      "|  12008321|                1|              4|      null| 41|  M|             M|          MAT|              0|      null|    null|  42036.2824|        null|       42036.2824|             0|\n",
      "|  12008780|                1|              4|      null| 42|  M|             M|          MAT|              0|      null|    null|  34529.8034|        null|       34529.8034|             0|\n",
      "|  12008788|                1|              4|      null| 49|  M|             M|          MAT|              0|      null|    null| 43987.96694|        null|      43987.96694|             0|\n",
      "|  12008789|                1|              4|      null| 45|  F|             M|          MAT|              0|      null|    null|   1.5012958|        null|        1.5012958|             0|\n",
      "|  12008812|                1|              4|      null| 48|  F|             M|          MAT|              0|      null|    null|   1.5012958|        null|        1.5012958|             0|\n",
      "|  12008829|                1|              5|      null| 43|  F|             M|          MAT|              0|      null|    null|   1.5012958|        null|        1.5012958|             0|\n",
      "|  12008691|                1|              5|      null| 53|  M|             M|     DOCTRATE|              1|      null|    null| 131087.1441|           0|      131087.1441|        506009|\n",
      "|  12008917|                1|              6|      null| 45|  M|             M|     DOCTRATE|              0|      null|    null| 127419.8538|        null|      127419.8538|        500034|\n",
      "|  12010960|                1|              4|      null| 48|  M|             M|          MAT|              0|      null|     CP1| 83697.24085|        null|      83697.24085|        636004|\n",
      "|  12011965|                1|              4|      null| 45|  M|             M|          MAT|              2|      null|    null| 394356.2522|        null|      394356.2522|        110001|\n",
      "+----------+-----------------+---------------+----------+---+---+--------------+-------------+---------------+----------+--------+------------+------------+-----------------+--------------+\n",
      "only showing top 20 rows\n",
      "\n"
     ]
    }
   ],
   "source": [
    "# Filtering based on contain function\n",
    "df_Customer.filter(df_Customer.QUALIFICATION.contains('AT')).show()"
   ]
  },
  {
   "cell_type": "code",
   "execution_count": 25,
   "metadata": {},
   "outputs": [
    {
     "data": {
      "text/plain": [
       "DataFrame[AGREEMENTID: int, CUSTOMERID: string, LOAN_AMT: string, NET_DISBURSED_AMT: string, INTEREST_START_DATE: string, CURRENT_ROI: double, ORIGNAL_ROI: double, CURRENT_TENOR: int, ORIGNAL_TENOR: int, DUEDAY: int, AUTHORIZATIONDATE: string, CITY: string, PRE_EMI_DUEAMT: double, PRE_EMI_RECEIVED_AMT: double, PRE_EMI_OS_AMOUNT: double, EMI_DUEAMT: double, EMI_RECEIVED_AMT: double, EMI_OS_AMOUNT: double, EXCESS_AVAILABLE: double, EXCESS_ADJUSTED_AMT: double, BALANCE_EXCESS: double, NET_RECEIVABLE: double, OUTSTANDING_PRINCIPAL: double, PAID_PRINCIPAL: double, PAID_INTEREST: double, MONTHOPENING: double, LAST_RECEIPT_DATE: string, LAST_RECEIPT_AMOUNT: double, NET_LTV: double, COMPLETED_TENURE: int, BALANCE_TENURE: int, DPD: int, FOIR: double, PRODUCT: string, SCHEMEID: string, NPA_IN_LAST_MONTH: string, NPA_IN_CURRENT_MONTH: string, MOB: int]"
      ]
     },
     "execution_count": 25,
     "metadata": {},
     "output_type": "execute_result"
    }
   ],
   "source": [
    "df_lms"
   ]
  },
  {
   "cell_type": "code",
   "execution_count": 26,
   "metadata": {},
   "outputs": [
    {
     "name": "stdout",
     "output_type": "stream",
     "text": [
      "119604027.28317267\n"
     ]
    }
   ],
   "source": [
    "# variance calculation\n",
    "variance_sum=df_lms.agg({'PRE_EMI_OS_AMOUNT': 'sum'}).collect()[0]['sum(PRE_EMI_OS_AMOUNT)']\n",
    "print(variance_sum)"
   ]
  },
  {
   "cell_type": "code",
   "execution_count": 27,
   "metadata": {},
   "outputs": [
    {
     "data": {
      "text/plain": [
       "10936.362616664312"
      ]
     },
     "execution_count": 27,
     "metadata": {},
     "output_type": "execute_result"
    }
   ],
   "source": [
    "# Standard deviation\n",
    "import math\n",
    "math.sqrt(variance_sum)"
   ]
  },
  {
   "cell_type": "code",
   "execution_count": 30,
   "metadata": {},
   "outputs": [
    {
     "data": {
      "text/plain": [
       "250060"
      ]
     },
     "execution_count": 30,
     "metadata": {},
     "output_type": "execute_result"
    }
   ],
   "source": [
    "# Simple random sampling in pyspark without replacement\n",
    " \n",
    "df_sample = df_lms.sample(False, 0.4, 42)\n",
    "df_sample.count()"
   ]
  },
  {
   "cell_type": "code",
   "execution_count": 31,
   "metadata": {},
   "outputs": [
    {
     "data": {
      "text/plain": [
       "249421"
      ]
     },
     "execution_count": 31,
     "metadata": {},
     "output_type": "execute_result"
    }
   ],
   "source": [
    "# Simple random sampling in pyspark with replacement\n",
    "df_sample = df_lms.sample(True, 0.4, 42)\n",
    "df_sample.count()"
   ]
  },
  {
   "cell_type": "code",
   "execution_count": 32,
   "metadata": {},
   "outputs": [
    {
     "name": "stdout",
     "output_type": "stream",
     "text": [
      "+--------------+\n",
      "|MARITAL_STATUS|\n",
      "+--------------+\n",
      "|          null|\n",
      "|             M|\n",
      "|             S|\n",
      "+--------------+\n",
      "\n"
     ]
    }
   ],
   "source": [
    "df_Customer\n",
    "df_Customer.select(\"MARITAL_STATUS\").distinct().show()"
   ]
  },
  {
   "cell_type": "code",
   "execution_count": 32,
   "metadata": {},
   "outputs": [
    {
     "data": {
      "text/plain": [
       "0"
      ]
     },
     "execution_count": 32,
     "metadata": {},
     "output_type": "execute_result"
    }
   ],
   "source": [
    "# Stratified sampling in pyspark \n",
    "df_strat = df_Customer.sampleBy\n",
    "df_strat.count()"
   ]
  },
  {
   "cell_type": "code",
   "execution_count": 34,
   "metadata": {},
   "outputs": [
    {
     "data": {
      "text/plain": [
       "965"
      ]
     },
     "execution_count": 34,
     "metadata": {},
     "output_type": "execute_result"
    }
   ],
   "source": [
    "# Stratified sampling in pyspark \n",
    "df_strat = df_Customer.sampleBy(\"MARITAL_STATUS\", fractions={\"M\": 1, \"S\": 1}, seed=11)\n",
    "df_strat.count()"
   ]
  },
  {
   "cell_type": "code",
   "execution_count": 34,
   "metadata": {},
   "outputs": [
    {
     "name": "stdout",
     "output_type": "stream",
     "text": [
      "33354\n",
      "624250\n"
     ]
    }
   ],
   "source": [
    "# Drop Duplicates\n",
    "print(df_lms.dropDuplicates(['CUSTOMERID','AGREEMENTID']).count())\n",
    "\n",
    "print(df_lms.count())"
   ]
  },
  {
   "cell_type": "code",
   "execution_count": 117,
   "metadata": {},
   "outputs": [
    {
     "name": "stdout",
     "output_type": "stream",
     "text": [
      "Collecting pip\n",
      "  Downloading https://files.pythonhosted.org/packages/a4/6d/6463d49a933f547439d6b5b98b46af8742cc03ae83543e4d7688c2420f8b/pip-21.3.1-py3-none-any.whl (1.7MB)\n",
      "\u001b[K    100% |████████████████████████████████| 1.7MB 1.1MB/s eta 0:00:011\n",
      "\u001b[?25hInstalling collected packages: pip\n",
      "Successfully installed pip-21.3.1\n"
     ]
    }
   ],
   "source": [
    "#!python -m pip install --upgrade pip"
   ]
  },
  {
   "cell_type": "code",
   "execution_count": 118,
   "metadata": {},
   "outputs": [
    {
     "name": "stdout",
     "output_type": "stream",
     "text": [
      "Defaulting to user installation because normal site-packages is not writeable\n",
      "Collecting Pillow\n",
      "  Downloading Pillow-8.4.0-cp36-cp36m-manylinux_2_17_x86_64.manylinux2014_x86_64.whl (3.1 MB)\n",
      "     |████████████████████████████████| 3.1 MB 45.2 MB/s            \n",
      "\u001b[?25hInstalling collected packages: Pillow\n",
      "Successfully installed Pillow-8.4.0\n"
     ]
    }
   ],
   "source": [
    "#!python -m pip install --upgrade Pillow"
   ]
  },
  {
   "cell_type": "code",
   "execution_count": 126,
   "metadata": {},
   "outputs": [],
   "source": [
    "#!python -m pip install matplotlib\n",
    "#!python -m pip install seaborn"
   ]
  },
  {
   "cell_type": "code",
   "execution_count": 35,
   "metadata": {},
   "outputs": [],
   "source": [
    "# Histogram Demonstration\n",
    "%matplotlib inline\n",
    "import pandas as pd\n",
    "from matplotlib import pyplot as plt\n",
    "import seaborn as sns"
   ]
  },
  {
   "cell_type": "code",
   "execution_count": 36,
   "metadata": {},
   "outputs": [
    {
     "data": {
      "text/plain": [
       "DataFrame[AGREEMENTID: int, CUSTOMERID: string, LOAN_AMT: string, NET_DISBURSED_AMT: string, INTEREST_START_DATE: string, CURRENT_ROI: double, ORIGNAL_ROI: double, CURRENT_TENOR: int, ORIGNAL_TENOR: int, DUEDAY: int, AUTHORIZATIONDATE: string, CITY: string, PRE_EMI_DUEAMT: double, PRE_EMI_RECEIVED_AMT: double, PRE_EMI_OS_AMOUNT: double, EMI_DUEAMT: double, EMI_RECEIVED_AMT: double, EMI_OS_AMOUNT: double, EXCESS_AVAILABLE: double, EXCESS_ADJUSTED_AMT: double, BALANCE_EXCESS: double, NET_RECEIVABLE: double, OUTSTANDING_PRINCIPAL: double, PAID_PRINCIPAL: double, PAID_INTEREST: double, MONTHOPENING: double, LAST_RECEIPT_DATE: string, LAST_RECEIPT_AMOUNT: double, NET_LTV: double, COMPLETED_TENURE: int, BALANCE_TENURE: int, DPD: int, FOIR: double, PRODUCT: string, SCHEMEID: string, NPA_IN_LAST_MONTH: string, NPA_IN_CURRENT_MONTH: string, MOB: int]"
      ]
     },
     "execution_count": 36,
     "metadata": {},
     "output_type": "execute_result"
    }
   ],
   "source": [
    "df_lms"
   ]
  },
  {
   "cell_type": "code",
   "execution_count": 37,
   "metadata": {},
   "outputs": [],
   "source": [
    "# Processing the data in Spark. We can use the histogram function from the RDD \n",
    "histogram_data = df_lms.select('CURRENT_ROI').rdd.flatMap(lambda x: x).histogram(25)\n",
    "# Loading the Computed Histogram into a Pandas Dataframe for plotting\n",
    "hist_df=pd.DataFrame(list(zip(*histogram_data)), columns=['bin', 'frequency'])"
   ]
  },
  {
   "cell_type": "code",
   "execution_count": 38,
   "metadata": {},
   "outputs": [
    {
     "name": "stderr",
     "output_type": "stream",
     "text": [
      "/home/atingupta2005/.local/lib/python3.6/site-packages/seaborn/_decorators.py:43: FutureWarning: Pass the following variables as keyword args: x, y. From version 0.12, the only valid positional argument will be `data`, and passing other arguments without an explicit keyword will result in an error or misinterpretation.\n",
      "  FutureWarning\n"
     ]
    },
    {
     "data": {
      "image/png": "[encoded data removed]",
      "text/plain": [
       "<Figure size 842.4x595.44 with 1 Axes>"
      ]
     },
     "metadata": {},
     "output_type": "display_data"
    }
   ],
   "source": [
    "# Plotting\n",
    "sns.set(rc={'figure.figsize':(11.7,8.27)})\n",
    "sns.barplot(hist_df['bin'],hist_df['frequency'])\n",
    "plt.xticks(rotation=25)\n",
    "plt.title('Distribution of CURRENT_ROI')\n",
    "plt.show()\n",
    "# plt.savefig('myimage.svg', format='svg', dpi=1200)"
   ]
  },
  {
   "cell_type": "code",
   "execution_count": null,
   "metadata": {},
   "outputs": [],
   "source": [
    "spark.stop()"
   ]
  }
 ],
 "metadata": {
  "kernelspec": {
   "display_name": "Python 3",
   "language": "python",
   "name": "python3"
  },
  "language_info": {
   "codemirror_mode": {
    "name": "ipython",
    "version": 3
   },
   "file_extension": ".py",
   "mimetype": "text/x-python",
   "name": "python",
   "nbconvert_exporter": "python",
   "pygments_lexer": "ipython3",
   "version": "3.6.9"
  }
 },
 "nbformat": 4,
 "nbformat_minor": 4
}
